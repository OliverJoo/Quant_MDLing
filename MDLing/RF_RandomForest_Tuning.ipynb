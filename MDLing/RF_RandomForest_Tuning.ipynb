{
 "cells": [
  {
   "cell_type": "code",
   "execution_count": 1,
   "metadata": {
    "collapsed": true,
    "pycharm": {
     "name": "#%%\n"
    }
   },
   "outputs": [],
   "source": [
    "import warnings\n",
    "warnings.filterwarnings('ignore')\n",
    "%matplotlib inline\n",
    "\n",
    "from pathlib import Path\n",
    "\n",
    "import numpy as np\n",
    "import pandas as pd\n",
    "import talib\n",
    "\n",
    "import matplotlib.pyplot as plt\n",
    "import seaborn as sns\n",
    "sns.set_style('white')\n",
    "idx = pd.IndexSlice"
   ]
  },
  {
   "cell_type": "code",
   "execution_count": 4,
   "outputs": [
    {
     "name": "stdout",
     "output_type": "stream",
     "text": [
      "<class 'pandas.core.frame.DataFrame'>\n",
      "MultiIndex: 9999276 entries, ('1301.JP', Timestamp('2010-01-04 00:00:00')) to ('9997.JP', Timestamp('2023-05-01 00:00:00'))\n",
      "Data columns (total 5 columns):\n",
      " #   Column  Non-Null Count    Dtype  \n",
      "---  ------  --------------    -----  \n",
      " 0   open    9999276 non-null  float64\n",
      " 1   high    9999276 non-null  float64\n",
      " 2   low     9999276 non-null  float64\n",
      " 3   close   9999276 non-null  float64\n",
      " 4   volume  9999276 non-null  float64\n",
      "dtypes: float64(5)\n",
      "memory usage: 419.9+ MB\n"
     ]
    }
   ],
   "source": [
    "DATA_DIR = Path('data')\n",
    "prices = (pd.read_hdf(DATA_DIR / 'assets.h5', 'stooq/jp/tse/stocks/prices')\n",
    "          .loc[idx[:, '2010': '2023'], :]\n",
    "          .loc[lambda df: ~df.index.duplicated(), :])\n",
    "prices.info(show_counts=True)"
   ],
   "metadata": {
    "collapsed": false,
    "pycharm": {
     "name": "#%%\n"
    }
   }
  },
  {
   "cell_type": "code",
   "execution_count": 5,
   "outputs": [
    {
     "data": {
      "text/plain": "                     open   high    low  close    volume\nticker  date                                            \n9997.JP 2023-04-25  727.0  734.0  724.0  727.0  125600.0\n        2023-04-26  728.0  738.0  726.0  734.0  150100.0\n        2023-04-27  733.0  733.0  727.0  732.0   73800.0\n        2023-04-28  738.0  745.0  738.0  745.0  127000.0\n        2023-05-01  749.0  753.0  741.0  746.0  131200.0",
      "text/html": "<div>\n<style scoped>\n    .dataframe tbody tr th:only-of-type {\n        vertical-align: middle;\n    }\n\n    .dataframe tbody tr th {\n        vertical-align: top;\n    }\n\n    .dataframe thead th {\n        text-align: right;\n    }\n</style>\n<table border=\"1\" class=\"dataframe\">\n  <thead>\n    <tr style=\"text-align: right;\">\n      <th></th>\n      <th></th>\n      <th>open</th>\n      <th>high</th>\n      <th>low</th>\n      <th>close</th>\n      <th>volume</th>\n    </tr>\n    <tr>\n      <th>ticker</th>\n      <th>date</th>\n      <th></th>\n      <th></th>\n      <th></th>\n      <th></th>\n      <th></th>\n    </tr>\n  </thead>\n  <tbody>\n    <tr>\n      <th rowspan=\"5\" valign=\"top\">9997.JP</th>\n      <th>2023-04-25</th>\n      <td>727.0</td>\n      <td>734.0</td>\n      <td>724.0</td>\n      <td>727.0</td>\n      <td>125600.0</td>\n    </tr>\n    <tr>\n      <th>2023-04-26</th>\n      <td>728.0</td>\n      <td>738.0</td>\n      <td>726.0</td>\n      <td>734.0</td>\n      <td>150100.0</td>\n    </tr>\n    <tr>\n      <th>2023-04-27</th>\n      <td>733.0</td>\n      <td>733.0</td>\n      <td>727.0</td>\n      <td>732.0</td>\n      <td>73800.0</td>\n    </tr>\n    <tr>\n      <th>2023-04-28</th>\n      <td>738.0</td>\n      <td>745.0</td>\n      <td>738.0</td>\n      <td>745.0</td>\n      <td>127000.0</td>\n    </tr>\n    <tr>\n      <th>2023-05-01</th>\n      <td>749.0</td>\n      <td>753.0</td>\n      <td>741.0</td>\n      <td>746.0</td>\n      <td>131200.0</td>\n    </tr>\n  </tbody>\n</table>\n</div>"
     },
     "execution_count": 5,
     "metadata": {},
     "output_type": "execute_result"
    }
   ],
   "source": [
    "prices.tail()"
   ],
   "metadata": {
    "collapsed": false,
    "pycharm": {
     "name": "#%%\n"
    }
   }
  }
 ],
 "metadata": {
  "kernelspec": {
   "display_name": "Python 3",
   "language": "python",
   "name": "python3"
  },
  "language_info": {
   "codemirror_mode": {
    "name": "ipython",
    "version": 2
   },
   "file_extension": ".py",
   "mimetype": "text/x-python",
   "name": "python",
   "nbconvert_exporter": "python",
   "pygments_lexer": "ipython2",
   "version": "2.7.6"
  }
 },
 "nbformat": 4,
 "nbformat_minor": 0
}