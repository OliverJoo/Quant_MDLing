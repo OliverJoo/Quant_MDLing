{
 "cells": [
  {
   "cell_type": "code",
   "execution_count": 1,
   "metadata": {
    "collapsed": true,
    "pycharm": {
     "name": "#%%\n"
    }
   },
   "outputs": [],
   "source": [
    "import warnings\n",
    "warnings.filterwarnings('ignore')\n",
    "%matplotlib inline\n",
    "\n",
    "from pathlib import Path\n",
    "import sys, os\n",
    "from time import time\n",
    "from tqdm import tqdm\n",
    "\n",
    "from collections import defaultdict\n",
    "from itertools import product\n",
    "\n",
    "import numpy as np\n",
    "import pandas as pd\n",
    "\n",
    "import lightgbm as lgb\n",
    "\n",
    "from catboost import Pool, CatBoostRegressor\n",
    "\n",
    "from sklearn.linear_model import LinearRegression\n",
    "from scipy.stats import spearmanr\n",
    "\n",
    "from alphalens.tears import (create_summary_tear_sheet,\n",
    "                             create_full_tear_sheet)\n",
    "\n",
    "from alphalens.utils import get_clean_factor_and_forward_returns\n",
    "\n",
    "import matplotlib.pyplot as plt\n",
    "import seaborn as sns\n",
    "sys.path.insert(1, os.path.join(sys.path[0], '..'))\n",
    "from utils4t import MultipleTimeSeriesCV, format_time\n",
    "sns.set_style('whitegrid')\n",
    "YEAR = 252\n",
    "idx = pd.IndexSlice"
   ]
  },
  {
   "cell_type": "code",
   "execution_count": 2,
   "outputs": [
    {
     "name": "stdout",
     "output_type": "stream",
     "text": [
      "<class 'pandas.core.frame.DataFrame'>\n",
      "MultiIndex: 1689358 entries, ('A', Timestamp('2010-01-04 00:00:00')) to ('ZION', Timestamp('2016-12-30 00:00:00'))\n",
      "Data columns (total 34 columns):\n",
      " #   Column           Non-Null Count    Dtype  \n",
      "---  ------           --------------    -----  \n",
      " 0   dollar_vol       1689358 non-null  float64\n",
      " 1   dollar_vol_rank  1689358 non-null  float64\n",
      " 2   rsi              1675904 non-null  float64\n",
      " 3   bb_high          1671099 non-null  float64\n",
      " 4   bb_low           1671097 non-null  float64\n",
      " 5   NATR             1675904 non-null  float64\n",
      " 6   ATR              1675904 non-null  float64\n",
      " 7   PPO              1665333 non-null  float64\n",
      " 8   MACD             1657645 non-null  float64\n",
      " 9   sector           1689358 non-null  int32  \n",
      " 10  r01              1689357 non-null  float64\n",
      " 11  r05              1689353 non-null  float64\n",
      " 12  r10              1689348 non-null  float64\n",
      " 13  r21              1689337 non-null  float64\n",
      " 14  r42              1689316 non-null  float64\n",
      " 15  r63              1689295 non-null  float64\n",
      " 16  r01dec           1689357 non-null  float64\n",
      " 17  r05dec           1689353 non-null  float64\n",
      " 18  r10dec           1689348 non-null  float64\n",
      " 19  r21dec           1689337 non-null  float64\n",
      " 20  r42dec           1689316 non-null  float64\n",
      " 21  r63dec           1689295 non-null  float64\n",
      " 22  r01q_sector      1689357 non-null  float64\n",
      " 23  r05q_sector      1689353 non-null  float64\n",
      " 24  r10q_sector      1689348 non-null  float64\n",
      " 25  r21q_sector      1689337 non-null  float64\n",
      " 26  r42q_sector      1689316 non-null  float64\n",
      " 27  r63q_sector      1689295 non-null  float64\n",
      " 28  r01_fwd          1689358 non-null  float64\n",
      " 29  r05_fwd          1689358 non-null  float64\n",
      " 30  r21_fwd          1689343 non-null  float64\n",
      " 31  year             1689358 non-null  int64  \n",
      " 32  month            1689358 non-null  int64  \n",
      " 33  weekday          1689358 non-null  int64  \n",
      "dtypes: float64(30), int32(1), int64(3)\n",
      "memory usage: 439.0+ MB\n"
     ]
    }
   ],
   "source": [
    "data = (pd.read_hdf('data/data.h5', 'model_data').sort_index().loc[idx[:, :'2016'], :])\n",
    "data.info(null_counts=True)"
   ],
   "metadata": {
    "collapsed": false,
    "pycharm": {
     "name": "#%%\n"
    }
   }
  },
  {
   "cell_type": "code",
   "execution_count": 3,
   "outputs": [],
   "source": [
    "labels = sorted(data.filter(like='_fwd').columns)\n",
    "features = data.columns.difference(labels).tolist() # extracting labels that contain _fwd\n",
    "\n",
    "tickers = data.index.get_level_values('symbol').unique()\n",
    "\n",
    "# predict 1, 5, 21 day returns\n",
    "lookaheads = [1, 5, 21]\n",
    "categoricals = ['year', 'month', 'sector', 'weekday']\n",
    "\n",
    "# set train period for 4.5y & test period 3, 1 months\n",
    "train_lengths = [int(4.5 * 252), 252]\n",
    "test_lengths = [63, 21]\n",
    "test_params = list(product(lookaheads, train_lengths, test_lengths))\n",
    "\n",
    "results_path = Path('results', 'us_stocks')\n",
    "if not results_path.exists():\n",
    "    results_path.mkdir(parents=True)"
   ],
   "metadata": {
    "collapsed": false,
    "pycharm": {
     "name": "#%%\n"
    }
   }
  },
  {
   "cell_type": "code",
   "execution_count": 4,
   "outputs": [
    {
     "data": {
      "text/plain": "[1134, 252]"
     },
     "execution_count": 4,
     "metadata": {},
     "output_type": "execute_result"
    }
   ],
   "source": [
    "train_lengths"
   ],
   "metadata": {
    "collapsed": false,
    "pycharm": {
     "name": "#%%\n"
    }
   }
  },
  {
   "cell_type": "code",
   "execution_count": 5,
   "outputs": [
    {
     "name": "stderr",
     "output_type": "stream",
     "text": [
      "100%|██████████| 12/12 [06:29<00:00, 32.47s/it]\n"
     ]
    }
   ],
   "source": [
    "# Baseline: Linear Regression\n",
    "lr = LinearRegression()\n",
    "\n",
    "lr_metrics = []\n",
    "\n",
    "# iterate over our three CV configuration parameters\n",
    "for lookahead, train_length, test_length in tqdm(test_params):\n",
    "    label = f'r{lookahead:02}_fwd'\n",
    "    df = pd.get_dummies(data.loc[:, features + [label]].dropna(), columns=categoricals, drop_first=True)\n",
    "    X, y = df.drop(label, axis=1), df[label]\n",
    "\n",
    "    n_splits = int(2 * YEAR / test_length)\n",
    "    cv = MultipleTimeSeriesCV(n_splits=n_splits, test_period_length=test_length, lookahead=lookahead,\n",
    "                              train_period_length=train_length)\n",
    "\n",
    "    ic, preds = [], []\n",
    "    for i, (train_idx, test_idx) in enumerate(cv.split(X=X)):\n",
    "        X_train, y_train = X.iloc[train_idx], y.iloc[train_idx]\n",
    "        X_test, y_test = X.iloc[test_idx], y.iloc[test_idx]\n",
    "        lr.fit(X_train, y_train)\n",
    "        y_pred = lr.predict(X_test)\n",
    "        preds.append(y_test.to_frame('y_true').assign(y_pred=y_pred))\n",
    "        ic.append(spearmanr(y_test, y_pred)[0])\n",
    "    preds = pd.concat(preds)\n",
    "    lr_metrics.append([lookahead, train_length, test_length, np.mean(ic),\n",
    "                       spearmanr(preds.y_true, preds.y_pred)[0]])\n",
    "\n",
    "columns = ['lookahead', 'train_length', 'test_length', 'ic_by_day', 'ic']\n",
    "lr_metrics = pd.DataFrame(lr_metrics, columns=columns)"
   ],
   "metadata": {
    "collapsed": false,
    "pycharm": {
     "name": "#%%\n"
    }
   }
  },
  {
   "cell_type": "code",
   "execution_count": 6,
   "outputs": [
    {
     "data": {
      "text/plain": "Text(0, 0.5, '')"
     },
     "execution_count": 6,
     "metadata": {},
     "output_type": "execute_result"
    },
    {
     "data": {
      "text/plain": "<Figure size 1008x360 with 2 Axes>",
      "image/png": "[encoded data removed]"
     },
     "metadata": {},
     "output_type": "display_data"
    }
   ],
   "source": [
    "fig, axes = plt.subplots(ncols=2, figsize=(14,5), sharey=True)\n",
    "\n",
    "# plot average of daily IC values\n",
    "sns.boxplot(x='lookahead', y='ic_by_day',data=lr_metrics, ax=axes[0])\n",
    "axes[0].set_title('IC by Day')\n",
    "\n",
    "# plot IC across all predictions\n",
    "sns.boxplot(x='lookahead', y='ic',data=lr_metrics, ax=axes[1])\n",
    "axes[1].set_title('IC Overall')\n",
    "axes[0].set_ylabel('Information Coefficient')\n",
    "axes[1].set_ylabel('')"
   ],
   "metadata": {
    "collapsed": false,
    "pycharm": {
     "name": "#%%\n"
    }
   }
  },
  {
   "cell_type": "code",
   "execution_count": 7,
   "outputs": [],
   "source": [
    "# top3 perofrmance in Train/Test Period Lengths\n",
    "(lr_metrics.groupby('lookahead', group_keys=False).apply(lambda x: x.nlargest(3, 'ic_by_day')))\n",
    "lr_metrics.to_csv(results_path / 'lin_reg_metrics.csv', index=False)"
   ],
   "metadata": {
    "collapsed": false,
    "pycharm": {
     "name": "#%%\n"
    }
   }
  },
  {
   "cell_type": "code",
   "execution_count": 8,
   "outputs": [
    {
     "name": "stdout",
     "output_type": "stream",
     "text": [
      "# Parameters: 108\n"
     ]
    }
   ],
   "source": [
    "# LightGBM Model Tuning\n",
    "def get_fi(model):\n",
    "    \"\"\"Return normalized feature importance as pd.Series\"\"\"\n",
    "    fi = model.feature_importance(importance_type='gain')\n",
    "    return (pd.Series(fi / fi.sum(), index=model.feature_name()))\n",
    "\n",
    "# Hyperparameter opt\n",
    "base_params = dict(boosting='gbdt', objective='regression', verbose=-1, device='gpu')\n",
    "\n",
    "# constraints on structure (depth) of each tree\n",
    "max_depths = [2, 3, 5, 7]\n",
    "num_leaves_opts = [2 ** i for i in max_depths]\n",
    "min_data_in_leaf_opts = [250, 500, 1000]\n",
    "\n",
    "# weight of each new tree in the ensemble\n",
    "learning_rate_ops = [.01, .1, .3]\n",
    "\n",
    "# random feature selection\n",
    "feature_fraction_opts = [.3, .6, .95]\n",
    "param_names = ['learning_rate', 'num_leaves', 'feature_fraction', 'min_data_in_leaf']\n",
    "cv_params = list(product(learning_rate_ops, num_leaves_opts, feature_fraction_opts, min_data_in_leaf_opts))\n",
    "n_params = len(cv_params)\n",
    "print(f'# Parameters: {n_params}')"
   ],
   "metadata": {
    "collapsed": false,
    "pycharm": {
     "name": "#%%\n"
    }
   }
  },
  {
   "cell_type": "code",
   "execution_count": 9,
   "outputs": [
    {
     "name": "stdout",
     "output_type": "stream",
     "text": [
      "Train configs: 6\n"
     ]
    }
   ],
   "source": [
    "# Train/Test Period Lengths\n",
    "lookaheads = [1, 5, 21]\n",
    "label_dict = dict(zip(lookaheads, labels))\n",
    "train_lengths = [int(4.5 * 252), 252]\n",
    "test_lengths = [63]\n",
    "test_params = list(product(lookaheads, train_lengths, test_lengths))\n",
    "n = len(test_params)\n",
    "test_param_sample = np.random.choice(list(range(n)), size=int(n), replace=False)\n",
    "test_params = [test_params[i] for i in test_param_sample]\n",
    "print('Train configs:', len(test_params))"
   ],
   "metadata": {
    "collapsed": false,
    "pycharm": {
     "name": "#%%\n"
    }
   }
  },
  {
   "cell_type": "code",
   "execution_count": 10,
   "outputs": [],
   "source": [
    "# Categorical Variables\n",
    "categoricals = ['year', 'weekday', 'month']\n",
    "for feature in categoricals:\n",
    "    data[feature] = pd.factorize(data[feature], sort=True)[0]\n",
    "\n",
    "# Custom Loss Function: Information Coefficient\n",
    "def ic_lgbm(preds, train_data):\n",
    "    \"\"\"Custom IC eval metric for lightgbm\"\"\"\n",
    "    is_higher_better = True\n",
    "    return 'ic', spearmanr(preds, train_data.get_label())[0], is_higher_better\n",
    "\n",
    "# Run Cross-Validation\n",
    "lgb_store = Path(results_path / 'tuning_lgb.h5')\n",
    "labels = sorted(data.filter(like='fwd').columns)\n",
    "features = data.columns.difference(labels).tolist()\n",
    "label_dict = dict(zip(lookaheads, labels))\n",
    "num_iterations = [10, 25, 50, 75] + list(range(100, 501, 50))\n",
    "num_boost_round = num_iterations[-1]\n",
    "metric_cols = (param_names + ['t', 'daily_ic_mean', 'daily_ic_mean_n',\n",
    "                              'daily_ic_median', 'daily_ic_median_n'] + [str(n) for n in num_iterations])"
   ],
   "metadata": {
    "collapsed": false,
    "pycharm": {
     "name": "#%%\n"
    }
   }
  },
  {
   "cell_type": "code",
   "execution_count": null,
   "outputs": [
    {
     "name": "stdout",
     "output_type": "stream",
     "text": [
      "Lookahead:  1 | Train: 1134 | Test: 63 | Params:  54 | Train configs: 6\n",
      "\t  0 | 00:00:49 ( 49) |  0.30 |   4 | 95% | 1000 |   2.07% |  1.55% |  300 |  2.09% |  500\n",
      "\t  1 | 00:01:39 ( 50) |  0.01 |   4 | 60% |  500 |   1.28% |  0.85% |  100 |  0.76% |  200\n",
      "\t  2 | 00:02:26 ( 47) |  0.10 |   4 | 60% |  500 |   3.07% |  2.00% |  450 |  1.80% |  450\n",
      "\t  3 | 00:05:26 (180) |  0.10 | 128 | 95% |  250 |   3.35% |  1.63% |   50 |  1.96% |  250\n",
      "\t  4 | 00:06:24 ( 57) |  0.01 |   8 | 30% |  500 |   1.01% |  1.27% |  350 |  1.01% |  350\n",
      "\t  5 | 00:07:19 ( 55) |  0.10 |   8 | 30% |  250 |   2.13% |  1.42% |  100 |  1.61% |  200\n",
      "\t  6 | 00:10:21 (182) |  0.10 | 128 | 95% |  500 |   3.50% |  1.37% |   50 |  1.61% |  450\n",
      "\t  7 | 00:13:25 (184) |  0.10 | 128 | 60% |  250 |   3.53% |  1.06% |  100 |  1.63% |  350\n",
      "\t  8 | 00:14:24 ( 59) |  0.10 |   8 | 30% | 1000 |   2.97% |  1.56% |  450 |  1.89% |  450\n",
      "\t  9 | 00:15:42 ( 78) |  0.01 |   8 | 30% | 1000 |   1.57% |  1.37% |  400 |  1.01% |  500\n",
      "\t 10 | 00:17:05 ( 83) |  0.30 |  32 | 95% | 1000 |   4.06% |  1.68% |   25 |  1.50% |  100\n",
      "\t 11 | 00:17:58 ( 53) |  0.10 |   4 | 30% |  250 |   3.41% |  1.56% |  350 |  1.70% |  250\n",
      "\t 12 | 00:18:55 ( 56) |  0.30 |   8 | 30% | 1000 |   3.79% |  1.48% |   25 |  1.53% |   25\n",
      "\t 13 | 00:19:54 ( 60) |  0.10 |   8 | 95% |  250 |   3.69% |  1.81% |  500 |  1.69% |  300\n",
      "\t 14 | 00:21:39 (105) |  0.01 |  32 | 30% |  250 |   1.74% |  1.38% |   25 |  1.37% |   25\n",
      "\t 15 | 00:22:37 ( 57) |  0.01 |   4 | 30% |  250 |   0.78% |  0.95% |  500 |  1.31% |  100\n",
      "\t 16 | 00:23:32 ( 55) |  0.30 |   4 | 30% |  250 |   4.04% |  1.78% |  250 |  2.35% |  200\n",
      "\t 17 | 00:25:26 (115) |  0.01 |  32 | 95% | 1000 |   2.91% |  1.55% |  500 |  2.05% |  450\n",
      "\t 18 | 00:26:29 ( 62) |  0.30 |   8 | 30% |  250 |   3.86% |  1.98% |   50 |  2.04% |   75\n",
      "\t 19 | 00:27:32 ( 63) |  0.10 |   8 | 95% | 1000 |   3.46% |  2.26% |  500 |  2.17% |  450\n",
      "\t 20 | 00:30:38 (186) |  0.30 | 128 | 60% |  500 |   3.58% |  1.79% |   10 |  1.99% |   25\n",
      "\t 21 | 00:32:08 ( 90) |  0.30 |  32 | 30% |  500 |   2.74% |  1.52% |  150 |  1.80% |  500\n",
      "\t 22 | 00:33:13 ( 65) |  0.01 |   8 | 60% |  250 |   2.00% |  1.25% |  400 |  1.22% |   75\n",
      "\t 23 | 00:37:03 (231) |  0.01 | 128 | 60% |  500 |   2.50% |  1.68% |  400 |  2.24% |  200\n",
      "\t 24 | 00:40:27 (204) |  0.10 | 128 | 60% |  500 |   3.18% |  1.62% |  400 |  1.52% |  500\n",
      "\t 25 | 00:42:06 ( 99) |  0.30 |  32 | 30% | 1000 |   3.96% |  1.64% |  100 |  1.86% |  450\n",
      "\t 26 | 00:46:03 (237) |  0.10 | 128 | 95% | 1000 |   3.67% |  1.39% |   50 |  1.67% |   50\n",
      "\t 27 | 00:48:14 (130) |  0.01 |  32 | 60% |  500 |   2.45% |  1.51% |  450 |  1.56% |  350\n",
      "\t 28 | 00:49:17 ( 63) |  0.10 |   4 | 95% | 1000 |   3.19% |  1.62% |  400 |  1.86% |  400\n",
      "\t 29 | 00:53:26 (249) |  0.30 | 128 | 95% | 1000 |   4.08% |  1.40% |   25 |  1.67% |   25\n",
      "\t 30 | 00:54:30 ( 65) |  0.30 |   4 | 95% |  250 |   3.96% |  1.90% |  250 |  1.91% |  150\n",
      "\t 31 | 00:55:46 ( 75) |  0.01 |   8 | 95% |  250 |   2.65% |  1.70% |  500 |  1.67% |  300\n",
      "\t 32 | 01:00:17 (271) |  0.01 | 128 | 60% |  250 |   1.96% |  1.53% |  500 |  1.92% |  400\n",
      "\t 33 | 01:04:23 (247) |  0.30 | 128 | 60% | 1000 |   3.57% |  1.52% |  300 |  1.74% |  400\n",
      "\t 34 | 01:05:41 ( 78) |  0.01 |   8 | 30% |  250 |   0.89% |  1.24% |  350 |  1.11% |  500\n",
      "\t 35 | 01:10:09 (268) |  0.01 | 128 | 95% |  250 |   3.54% |  1.92% |  450 |  1.56% |  450\n",
      "\t 36 | 01:12:00 (111) |  0.10 |  32 | 95% | 1000 |   3.98% |  1.89% |   25 |  1.67% |   25\n",
      "\t 37 | 01:15:10 (190) |  0.10 | 128 | 30% | 1000 |   3.39% |  1.41% |   25 |  1.28% |  500\n",
      "\t 38 | 01:18:33 (202) |  0.01 | 128 | 30% |  500 |   2.51% |  1.72% |  250 |  1.75% |  150\n",
      "\t 39 | 01:19:21 ( 48) |  0.10 |   4 | 95% |  250 |   3.17% |  1.51% |  400 |  1.43% |   25\n",
      "\t 40 | 01:20:18 ( 57) |  0.01 |   4 | 60% | 1000 |   1.63% |  0.92% |   50 |  0.83% |  200\n"
     ]
    }
   ],
   "source": [
    "for lookahead, train_length, test_length in test_params:\n",
    "    # randomized grid search\n",
    "    cvp = np.random.choice(list(range(n_params)), size=int(n_params / 2), replace=False)\n",
    "    cv_params_ = [cv_params[i] for i in cvp]\n",
    "\n",
    "    # set up cross-validation\n",
    "    n_splits = int(2 * YEAR / test_length)\n",
    "    print(f'Lookahead: {lookahead:2.0f} | Train: {train_length:3.0f} | Test: {test_length:2.0f} | '\n",
    "          f'Params: {len(cv_params_):3.0f} | Train configs: {len(test_params)}')\n",
    "\n",
    "    # time-series cross-validation\n",
    "    cv = MultipleTimeSeriesCV(n_splits=n_splits, lookahead=lookahead, test_period_length=test_length,\n",
    "                              train_period_length=train_length)\n",
    "\n",
    "    label = label_dict[lookahead]\n",
    "    outcome_data = data.loc[:, features + [label]].dropna()\n",
    "\n",
    "    # binary dataset\n",
    "    lgb_data = lgb.Dataset(data=outcome_data.drop(label, axis=1), label=outcome_data[label],\n",
    "                           categorical_feature=categoricals, free_raw_data=False)\n",
    "    T = 0\n",
    "    predictions, metrics, feature_importance, daily_ic = [], [], [], []\n",
    "\n",
    "    # iterate over (shuffled) hyperparameter combinations\n",
    "    for p, param_vals in enumerate(cv_params_):\n",
    "        key = f'{lookahead}/{train_length}/{test_length}/' + '/'.join([str(p) for p in param_vals])\n",
    "        params = dict(zip(param_names, param_vals))\n",
    "        params.update(base_params)\n",
    "\n",
    "\n",
    "        start = time()\n",
    "        cv_preds, nrounds = [], []\n",
    "        ic_cv = defaultdict(list)\n",
    "\n",
    "        # iterate over folds\n",
    "        for i, (train_idx, test_idx) in enumerate(cv.split(X=outcome_data)):\n",
    "\n",
    "            # select train subset\n",
    "            lgb_train = lgb_data.subset(used_indices=train_idx.tolist(), params=params).construct()\n",
    "\n",
    "            # train model for num_boost_round\n",
    "            model = lgb.train(params=params, train_set=lgb_train, num_boost_round=num_boost_round,\n",
    "                              verbose_eval=False)\n",
    "            # log feature importance\n",
    "            if i == 0:\n",
    "                fi = get_fi(model).to_frame()\n",
    "            else:\n",
    "                fi[i] = get_fi(model)\n",
    "\n",
    "            # capture predictions\n",
    "            test_set = outcome_data.iloc[test_idx, :]\n",
    "            X_test = test_set.loc[:, model.feature_name()]\n",
    "            y_test = test_set.loc[:, label]\n",
    "            y_pred = {str(n): model.predict(X_test, num_iteration=n) for n in num_iterations}\n",
    "\n",
    "            # record predictions for each fold\n",
    "            cv_preds.append(y_test.to_frame('y_test').assign(**y_pred).assign(i=i))\n",
    "\n",
    "        # combine fold results\n",
    "        cv_preds = pd.concat(cv_preds).assign(**params)\n",
    "        predictions.append(cv_preds)\n",
    "\n",
    "        # compute IC per day\n",
    "        by_day = cv_preds.groupby(level='date')\n",
    "        ic_by_day = pd.concat([by_day.apply(lambda x: spearmanr(x.y_test, x[str(n)])[0]).to_frame(n)\n",
    "                               for n in num_iterations], axis=1)\n",
    "        daily_ic_mean = ic_by_day.mean()\n",
    "        daily_ic_mean_n = daily_ic_mean.idxmax()\n",
    "        daily_ic_median = ic_by_day.median()\n",
    "        daily_ic_median_n = daily_ic_median.idxmax()\n",
    "\n",
    "        # compute IC across all predictions\n",
    "        ic = [spearmanr(cv_preds.y_test, cv_preds[str(n)])[0] for n in num_iterations]\n",
    "        t = time() - start\n",
    "        T += t\n",
    "\n",
    "        # collect metrics\n",
    "        metrics = pd.Series(list(param_vals) + [t, daily_ic_mean.max(), daily_ic_mean_n, daily_ic_median.max(),\n",
    "                             daily_ic_median_n] + ic, index=metric_cols)\n",
    "        msg = f'\\t{p:3.0f} | {format_time(T)} ({t:3.0f}) | {params[\"learning_rate\"]:5.2f} | '\n",
    "        msg += f'{params[\"num_leaves\"]:3.0f} | {params[\"feature_fraction\"]:3.0%} | '\n",
    "        msg += f'{params[\"min_data_in_leaf\"]:4.0f} | '\n",
    "        msg += f' {max(ic):6.2%} | {ic_by_day.mean().max(): 6.2%} | {daily_ic_mean_n: 4.0f} | '\n",
    "        msg += f'{ic_by_day.median().max(): 6.2%} | {daily_ic_median_n: 4.0f}'\n",
    "        print(msg)\n",
    "\n",
    "        # persist results for given CV run and hyperparameter combination\n",
    "        metrics.to_hdf(lgb_store, 'metrics/' + key)\n",
    "        ic_by_day.assign(**params).to_hdf(lgb_store, 'daily_ic/' + key)\n",
    "        fi.T.describe().T.assign(**params).to_hdf(lgb_store, 'fi/' + key)\n",
    "        cv_preds.to_hdf(lgb_store, 'predictions/' + key)"
   ],
   "metadata": {
    "collapsed": false,
    "pycharm": {
     "name": "#%%\n",
     "is_executing": true
    }
   }
  },
  {
   "cell_type": "code",
   "execution_count": null,
   "outputs": [],
   "source": [
    "key"
   ],
   "metadata": {
    "collapsed": false,
    "pycharm": {
     "name": "#%%\n",
     "is_executing": true
    }
   }
  },
  {
   "cell_type": "code",
   "execution_count": null,
   "outputs": [],
   "source": [
    "# CatBoost Model Tuning\n",
    "\n",
    "# Hyperparameter Opts\n",
    "param_names = ['max_depth', 'min_child_samples']\n",
    "\n",
    "max_depth_opts = [3, 5, 7, 9]\n",
    "min_child_samples_opts = [20, 250, 500]\n",
    "cv_params = list(product(max_depth_opts, min_child_samples_opts))\n",
    "n_params = len(cv_params)\n",
    "\n",
    "# Train/Test Period Lengths\n",
    "lookaheads = [1, 5, 21]\n",
    "label_dict = dict(zip(lookaheads, labels))\n",
    "train_lengths = [int(4.5 * 252), 252]\n",
    "test_lengths = [63]\n",
    "test_params = list(product(lookaheads, train_lengths, test_lengths))\n",
    "\n",
    "# Custom Loss Function\n",
    "class CatBoostIC(object):\n",
    "    \"\"\"Custom IC eval metric for CatBoost\"\"\"\n",
    "\n",
    "    def is_max_optimal(self):\n",
    "        # Returns whether great values of metric are better\n",
    "        return True\n",
    "\n",
    "    def evaluate(self, approxes, target, weight):\n",
    "        target = np.array(target)\n",
    "        approxes = np.array(approxes).reshape(-1)\n",
    "        rho = spearmanr(approxes, target)[0]\n",
    "        return rho, 1\n",
    "\n",
    "    def get_final_error(self, error, weight):\n",
    "        # Returns final value of metric based on error and weight\n",
    "        return error\n",
    "\n",
    "# Run Cross-Validation\n",
    "cb_store = Path(results_path / 'tuning_catboost.h5')\n",
    "num_iterations = [10, 25, 50, 75] + list(range(100, 1001, 100))\n",
    "num_boost_round = num_iterations[-1]\n",
    "metric_cols = (param_names + ['t', 'daily_ic_mean', 'daily_ic_mean_n',\n",
    "                              'daily_ic_median', 'daily_ic_median_n'] + [str(n) for n in num_iterations])"
   ],
   "metadata": {
    "collapsed": false,
    "pycharm": {
     "name": "#%%\n",
     "is_executing": true
    }
   }
  },
  {
   "cell_type": "code",
   "execution_count": null,
   "outputs": [],
   "source": [
    "metric_cols"
   ],
   "metadata": {
    "collapsed": false,
    "pycharm": {
     "name": "#%%\n",
     "is_executing": true
    }
   }
  },
  {
   "cell_type": "code",
   "execution_count": null,
   "outputs": [],
   "source": [
    "num_iterations"
   ],
   "metadata": {
    "collapsed": false,
    "pycharm": {
     "name": "#%%\n",
     "is_executing": true
    }
   }
  },
  {
   "cell_type": "code",
   "execution_count": null,
   "outputs": [],
   "source": [
    "for lookahead, train_length, test_length in test_params:\n",
    "    cvp = np.random.choice(list(range(n_params)), size=int(n_params / 1), replace=False)\n",
    "    print(f'cvp: {cvp}')\n",
    "    cv_params_ = [cv_params[i] for i in cvp]\n",
    "    print(f'cv_params_: {cv_params_}\\n')\n",
    "\n",
    "    n_splits = int(2 * YEAR / test_length)\n",
    "    print(f'Lookahead: {lookahead:2.0f} | Train: {train_length:3.0f} | '\n",
    "          f'Test: {test_length:2.0f} | Params: {len(cv_params_):3.0f} | Train configs: {len(test_params)}')\n",
    "\n",
    "    cv = MultipleTimeSeriesCV(n_splits=n_splits, lookahead=lookahead, test_period_length=test_length,\n",
    "                              train_period_length=train_length)\n",
    "\n",
    "    label = label_dict[lookahead]\n",
    "    outcome_data = data.loc[:, features + [label]].dropna()\n",
    "    cat_cols_idx = [outcome_data.columns.get_loc(c) for c in categoricals]\n",
    "    catboost_data = Pool(label=outcome_data[label], data=outcome_data.drop(label, axis=1),\n",
    "                         cat_features=cat_cols_idx)\n",
    "    predictions, metrics, feature_importance, daily_ic = [], [], [], []\n",
    "    key = f'{lookahead}/{train_length}/{test_length}'\n",
    "    T = 0\n",
    "    for p, param_vals in enumerate(cv_params_):\n",
    "        params = dict(zip(param_names, param_vals))\n",
    "        params['task_type'] = 'GPU'\n",
    "\n",
    "        start = time()\n",
    "        cv_preds, nrounds = [], []\n",
    "        ic_cv = defaultdict(list)\n",
    "        for i, (train_idx, test_idx) in enumerate(cv.split(X=outcome_data)):\n",
    "            train_set = catboost_data.slice(train_idx.tolist())\n",
    "\n",
    "            model = CatBoostRegressor(**params)\n",
    "            model.fit(X=train_set, verbose_eval=False)\n",
    "\n",
    "            test_set = outcome_data.iloc[test_idx, :]\n",
    "            X_test = test_set.loc[:, model.feature_names_]\n",
    "            y_test = test_set.loc[:, label]\n",
    "            y_pred = {str(n): model.predict(X_test, ntree_end=n) for n in num_iterations}\n",
    "            cv_preds.append(y_test.to_frame('y_test').assign(**y_pred).assign(i=i))\n",
    "\n",
    "        cv_preds = pd.concat(cv_preds).assign(**params)\n",
    "\n",
    "        predictions.append(cv_preds)\n",
    "        by_day = cv_preds.groupby(level='date')\n",
    "        ic_by_day = pd.concat([by_day.apply(lambda x: spearmanr(x.y_test, x[str(n)])[0]).to_frame(n)\n",
    "                               for n in num_iterations], axis=1)\n",
    "        daily_ic_mean = ic_by_day.mean()\n",
    "        daily_ic_mean_n = daily_ic_mean.idxmax()\n",
    "        daily_ic_median = ic_by_day.median()\n",
    "        daily_ic_median_n = daily_ic_median.idxmax()\n",
    "\n",
    "        ic = [spearmanr(cv_preds.y_test, cv_preds[str(n)])[0] for n in num_iterations]\n",
    "        t = time() - start\n",
    "        T += t\n",
    "        metrics = pd.Series(list(param_vals) + [t, daily_ic_mean.max(), daily_ic_mean_n,\n",
    "                             daily_ic_median.max(), daily_ic_median_n] + ic, index=metric_cols)\n",
    "        msg = f'{p:3.0f} | {format_time(T)} ({t:3.0f}) | {params[\"max_depth\"]:3.0f} | '\n",
    "        msg += f'{params[\"min_child_samples\"]:4.0f} | {max(ic):6.2%} | {ic_by_day.mean().max(): 6.2%} | '\n",
    "        msg += f'{daily_ic_mean_n: 4.0f} | {ic_by_day.median().max(): 6.2%} | {daily_ic_median_n: 4.0f}'\n",
    "        print(msg)\n",
    "        metrics.to_hdf(cb_store, 'metrics/' + key)\n",
    "        ic_by_day.assign(**params).to_hdf(cb_store, 'daily_ic/' + key)\n",
    "        cv_preds.to_hdf(cb_store, 'predictions/' + key)\n",
    "\n",
    "\n",
    "print(\"results: \" , pd.concat([metrics.tail(), cv_preds]))"
   ],
   "metadata": {
    "collapsed": false,
    "pycharm": {
     "name": "#%%\n",
     "is_executing": true
    }
   }
  }
 ],
 "metadata": {
  "kernelspec": {
   "display_name": "Python 3",
   "language": "python",
   "name": "python3"
  },
  "language_info": {
   "codemirror_mode": {
    "name": "ipython",
    "version": 2
   },
   "file_extension": ".py",
   "mimetype": "text/x-python",
   "name": "python",
   "nbconvert_exporter": "python",
   "pygments_lexer": "ipython2",
   "version": "2.7.6"
  }
 },
 "nbformat": 4,
 "nbformat_minor": 0
}