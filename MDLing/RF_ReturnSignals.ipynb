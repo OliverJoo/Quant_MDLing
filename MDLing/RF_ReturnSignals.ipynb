{
 "cells": [
  {
   "cell_type": "code",
   "execution_count": 72,
   "metadata": {
    "collapsed": true,
    "pycharm": {
     "name": "#%%\n"
    }
   },
   "outputs": [],
   "source": [
    "import warnings\n",
    "\n",
    "warnings.filterwarnings('ignore')\n",
    "\n",
    "%matplotlib inline\n",
    "\n",
    "from time import time\n",
    "from io import StringIO\n",
    "import sys, os\n",
    "from tqdm import tqdm\n",
    "\n",
    "from itertools import product\n",
    "from pathlib import Path\n",
    "\n",
    "import numpy as np\n",
    "import pandas as pd\n",
    "import statsmodels.api as sm\n",
    "\n",
    "import matplotlib.pyplot as plt\n",
    "import seaborn as sns\n",
    "\n",
    "import lightgbm as lgb\n",
    "\n",
    "from sklearn.linear_model import LinearRegression\n",
    "from scipy.stats import spearmanr\n",
    "\n",
    "from utils4t import MultipleTimeSeriesCV, format_time\n",
    "\n",
    "sys.path.insert(1, os.path.join(sys.path[0], '..'))\n",
    "\n",
    "sns.set_style('whitegrid')\n",
    "np.random.seed(42)\n",
    "\n",
    "YEAR = 252\n",
    "idx = pd.IndexSlice\n",
    "DATA_DIR = Path('data')\n",
    "\n",
    "results_path = Path('results', 'return_predictions')\n",
    "if not results_path.exists():\n",
    "    results_path.mkdir(parents=True)"
   ]
  },
  {
   "cell_type": "code",
   "execution_count": 73,
   "outputs": [
    {
     "name": "stdout",
     "output_type": "stream",
     "text": [
      "<class 'pandas.core.frame.DataFrame'>\n",
      "MultiIndex: 3081645 entries, ('9984.JP', Timestamp('2010-01-04 00:00:00')) to ('3053.JP', Timestamp('2023-05-01 00:00:00'))\n",
      "Data columns (total 23 columns):\n",
      " #   Column           Non-Null Count    Dtype  \n",
      "---  ------           --------------    -----  \n",
      " 0   ret_1            3080700 non-null  float64\n",
      " 1   ret_rel_perc_1   3080700 non-null  float64\n",
      " 2   ret_5            3076920 non-null  float64\n",
      " 3   ret_rel_perc_5   3076920 non-null  float64\n",
      " 4   ret_10           3072195 non-null  float64\n",
      " 5   ret_rel_perc_10  3072195 non-null  float64\n",
      " 6   ret_21           3061800 non-null  float64\n",
      " 7   ret_rel_perc_21  3061800 non-null  float64\n",
      " 8   ret_63           3022110 non-null  float64\n",
      " 9   ret_rel_perc_63  3022110 non-null  float64\n",
      " 10  PPO              3058020 non-null  float64\n",
      " 11  NATR             3068415 non-null  float64\n",
      " 12  RSI              3068415 non-null  float64\n",
      " 13  bbl              3077865 non-null  float64\n",
      " 14  bbu              3077865 non-null  float64\n",
      " 15  weekday          3081645 non-null  int64  \n",
      " 16  month            3081645 non-null  int64  \n",
      " 17  year             3081645 non-null  int64  \n",
      " 18  fwd_ret_01       3080700 non-null  float64\n",
      " 19  fwd_ret_05       3076920 non-null  float64\n",
      " 20  fwd_ret_10       3072195 non-null  float64\n",
      " 21  fwd_ret_21       3061800 non-null  float64\n",
      " 22  fwd_ret_63       3022110 non-null  float64\n",
      "dtypes: float64(20), int64(3)\n",
      "memory usage: 552.7+ MB\n"
     ]
    },
    {
     "data": {
      "text/plain": "(None, 945)"
     },
     "execution_count": 73,
     "metadata": {},
     "output_type": "execute_result"
    }
   ],
   "source": [
    "# load feature engineering\n",
    "data = pd.read_hdf(DATA_DIR / 'data.h5', 'stooq/japan/equities')\n",
    "data.info(null_counts=True), len(data.index.unique('ticker'))"
   ],
   "metadata": {
    "collapsed": false,
    "pycharm": {
     "name": "#%%\n"
    }
   }
  },
  {
   "cell_type": "code",
   "execution_count": 74,
   "outputs": [
    {
     "data": {
      "text/plain": "                       ret_1  ret_rel_perc_1     ret_5  ret_rel_perc_5  \\\nticker  date                                                             \n3053.JP 2023-04-25 -0.006135             6.0 -0.024096             5.0   \n        2023-04-26 -0.006173             6.0 -0.024242             5.0   \n        2023-04-27  0.018634            16.0  0.000000             9.0   \n        2023-04-28 -0.012195             4.0  0.006211            11.0   \n        2023-05-01  0.012346            15.0  0.006135            11.0   \n\n                      ret_10  ret_rel_perc_10    ret_21  ret_rel_perc_21  \\\nticker  date                                                               \n3053.JP 2023-04-25  0.000000              9.0 -0.074286              4.0   \n        2023-04-26 -0.006173              8.0 -0.085227              4.0   \n        2023-04-27  0.018634             12.0 -0.057471              5.0   \n        2023-04-28  0.006211             10.0 -0.058140              5.0   \n        2023-05-01  0.012346             11.0 -0.057471              5.0   \n\n                      ret_63  ret_rel_perc_63  ...       bbl       bbu  \\\nticker  date                                   ...                       \n3053.JP 2023-04-25 -0.079545              6.0  ...  1.011415  1.023632   \n        2023-04-26 -0.090395              6.0  ...  1.007083  1.021940   \n        2023-04-27 -0.068182              7.0  ...  1.025849  1.003246   \n        2023-04-28 -0.074286              6.0  ...  1.010225  1.015059   \n        2023-05-01 -0.073446              7.0  ...  1.023720  1.006098   \n\n                    weekday  month  year  fwd_ret_01  fwd_ret_05  fwd_ret_10  \\\nticker  date                                                                   \n3053.JP 2023-04-25        1      4  2023   -0.006173         NaN         NaN   \n        2023-04-26        2      4  2023    0.018634         NaN         NaN   \n        2023-04-27        3      4  2023   -0.012195         NaN         NaN   \n        2023-04-28        4      4  2023    0.012346         NaN         NaN   \n        2023-05-01        0      5  2023         NaN         NaN         NaN   \n\n                    fwd_ret_21  fwd_ret_63  \nticker  date                                \n3053.JP 2023-04-25         NaN         NaN  \n        2023-04-26         NaN         NaN  \n        2023-04-27         NaN         NaN  \n        2023-04-28         NaN         NaN  \n        2023-05-01         NaN         NaN  \n\n[5 rows x 23 columns]",
      "text/html": "<div>\n<style scoped>\n    .dataframe tbody tr th:only-of-type {\n        vertical-align: middle;\n    }\n\n    .dataframe tbody tr th {\n        vertical-align: top;\n    }\n\n    .dataframe thead th {\n        text-align: right;\n    }\n</style>\n<table border=\"1\" class=\"dataframe\">\n  <thead>\n    <tr style=\"text-align: right;\">\n      <th></th>\n      <th></th>\n      <th>ret_1</th>\n      <th>ret_rel_perc_1</th>\n      <th>ret_5</th>\n      <th>ret_rel_perc_5</th>\n      <th>ret_10</th>\n      <th>ret_rel_perc_10</th>\n      <th>ret_21</th>\n      <th>ret_rel_perc_21</th>\n      <th>ret_63</th>\n      <th>ret_rel_perc_63</th>\n      <th>...</th>\n      <th>bbl</th>\n      <th>bbu</th>\n      <th>weekday</th>\n      <th>month</th>\n      <th>year</th>\n      <th>fwd_ret_01</th>\n      <th>fwd_ret_05</th>\n      <th>fwd_ret_10</th>\n      <th>fwd_ret_21</th>\n      <th>fwd_ret_63</th>\n    </tr>\n    <tr>\n      <th>ticker</th>\n      <th>date</th>\n      <th></th>\n      <th></th>\n      <th></th>\n      <th></th>\n      <th></th>\n      <th></th>\n      <th></th>\n      <th></th>\n      <th></th>\n      <th></th>\n      <th></th>\n      <th></th>\n      <th></th>\n      <th></th>\n      <th></th>\n      <th></th>\n      <th></th>\n      <th></th>\n      <th></th>\n      <th></th>\n      <th></th>\n    </tr>\n  </thead>\n  <tbody>\n    <tr>\n      <th rowspan=\"5\" valign=\"top\">3053.JP</th>\n      <th>2023-04-25</th>\n      <td>-0.006135</td>\n      <td>6.0</td>\n      <td>-0.024096</td>\n      <td>5.0</td>\n      <td>0.000000</td>\n      <td>9.0</td>\n      <td>-0.074286</td>\n      <td>4.0</td>\n      <td>-0.079545</td>\n      <td>6.0</td>\n      <td>...</td>\n      <td>1.011415</td>\n      <td>1.023632</td>\n      <td>1</td>\n      <td>4</td>\n      <td>2023</td>\n      <td>-0.006173</td>\n      <td>NaN</td>\n      <td>NaN</td>\n      <td>NaN</td>\n      <td>NaN</td>\n    </tr>\n    <tr>\n      <th>2023-04-26</th>\n      <td>-0.006173</td>\n      <td>6.0</td>\n      <td>-0.024242</td>\n      <td>5.0</td>\n      <td>-0.006173</td>\n      <td>8.0</td>\n      <td>-0.085227</td>\n      <td>4.0</td>\n      <td>-0.090395</td>\n      <td>6.0</td>\n      <td>...</td>\n      <td>1.007083</td>\n      <td>1.021940</td>\n      <td>2</td>\n      <td>4</td>\n      <td>2023</td>\n      <td>0.018634</td>\n      <td>NaN</td>\n      <td>NaN</td>\n      <td>NaN</td>\n      <td>NaN</td>\n    </tr>\n    <tr>\n      <th>2023-04-27</th>\n      <td>0.018634</td>\n      <td>16.0</td>\n      <td>0.000000</td>\n      <td>9.0</td>\n      <td>0.018634</td>\n      <td>12.0</td>\n      <td>-0.057471</td>\n      <td>5.0</td>\n      <td>-0.068182</td>\n      <td>7.0</td>\n      <td>...</td>\n      <td>1.025849</td>\n      <td>1.003246</td>\n      <td>3</td>\n      <td>4</td>\n      <td>2023</td>\n      <td>-0.012195</td>\n      <td>NaN</td>\n      <td>NaN</td>\n      <td>NaN</td>\n      <td>NaN</td>\n    </tr>\n    <tr>\n      <th>2023-04-28</th>\n      <td>-0.012195</td>\n      <td>4.0</td>\n      <td>0.006211</td>\n      <td>11.0</td>\n      <td>0.006211</td>\n      <td>10.0</td>\n      <td>-0.058140</td>\n      <td>5.0</td>\n      <td>-0.074286</td>\n      <td>6.0</td>\n      <td>...</td>\n      <td>1.010225</td>\n      <td>1.015059</td>\n      <td>4</td>\n      <td>4</td>\n      <td>2023</td>\n      <td>0.012346</td>\n      <td>NaN</td>\n      <td>NaN</td>\n      <td>NaN</td>\n      <td>NaN</td>\n    </tr>\n    <tr>\n      <th>2023-05-01</th>\n      <td>0.012346</td>\n      <td>15.0</td>\n      <td>0.006135</td>\n      <td>11.0</td>\n      <td>0.012346</td>\n      <td>11.0</td>\n      <td>-0.057471</td>\n      <td>5.0</td>\n      <td>-0.073446</td>\n      <td>7.0</td>\n      <td>...</td>\n      <td>1.023720</td>\n      <td>1.006098</td>\n      <td>0</td>\n      <td>5</td>\n      <td>2023</td>\n      <td>NaN</td>\n      <td>NaN</td>\n      <td>NaN</td>\n      <td>NaN</td>\n      <td>NaN</td>\n    </tr>\n  </tbody>\n</table>\n<p>5 rows × 23 columns</p>\n</div>"
     },
     "execution_count": 74,
     "metadata": {},
     "output_type": "execute_result"
    }
   ],
   "source": [
    "data.tail()"
   ],
   "metadata": {
    "collapsed": false,
    "pycharm": {
     "name": "#%%\n"
    }
   }
  },
  {
   "cell_type": "code",
   "execution_count": 75,
   "outputs": [
    {
     "data": {
      "text/plain": "                     open   high    low  close    volume\nticker  date                                            \n9997.JP 2023-04-25  727.0  734.0  724.0  727.0  125600.0\n        2023-04-26  728.0  738.0  726.0  734.0  150100.0\n        2023-04-27  733.0  733.0  727.0  732.0   73800.0\n        2023-04-28  738.0  745.0  738.0  745.0  127000.0\n        2023-05-01  749.0  753.0  741.0  746.0  131200.0",
      "text/html": "<div>\n<style scoped>\n    .dataframe tbody tr th:only-of-type {\n        vertical-align: middle;\n    }\n\n    .dataframe tbody tr th {\n        vertical-align: top;\n    }\n\n    .dataframe thead th {\n        text-align: right;\n    }\n</style>\n<table border=\"1\" class=\"dataframe\">\n  <thead>\n    <tr style=\"text-align: right;\">\n      <th></th>\n      <th></th>\n      <th>open</th>\n      <th>high</th>\n      <th>low</th>\n      <th>close</th>\n      <th>volume</th>\n    </tr>\n    <tr>\n      <th>ticker</th>\n      <th>date</th>\n      <th></th>\n      <th></th>\n      <th></th>\n      <th></th>\n      <th></th>\n    </tr>\n  </thead>\n  <tbody>\n    <tr>\n      <th rowspan=\"5\" valign=\"top\">9997.JP</th>\n      <th>2023-04-25</th>\n      <td>727.0</td>\n      <td>734.0</td>\n      <td>724.0</td>\n      <td>727.0</td>\n      <td>125600.0</td>\n    </tr>\n    <tr>\n      <th>2023-04-26</th>\n      <td>728.0</td>\n      <td>738.0</td>\n      <td>726.0</td>\n      <td>734.0</td>\n      <td>150100.0</td>\n    </tr>\n    <tr>\n      <th>2023-04-27</th>\n      <td>733.0</td>\n      <td>733.0</td>\n      <td>727.0</td>\n      <td>732.0</td>\n      <td>73800.0</td>\n    </tr>\n    <tr>\n      <th>2023-04-28</th>\n      <td>738.0</td>\n      <td>745.0</td>\n      <td>738.0</td>\n      <td>745.0</td>\n      <td>127000.0</td>\n    </tr>\n    <tr>\n      <th>2023-05-01</th>\n      <td>749.0</td>\n      <td>753.0</td>\n      <td>741.0</td>\n      <td>746.0</td>\n      <td>131200.0</td>\n    </tr>\n  </tbody>\n</table>\n</div>"
     },
     "execution_count": 75,
     "metadata": {},
     "output_type": "execute_result"
    }
   ],
   "source": [
    "prices = (pd.read_hdf(DATA_DIR / 'assets.h5', 'stooq/jp/tse/stocks/prices').loc[idx[:, '2010':'2023'], :])\n",
    "prices.tail()"
   ],
   "metadata": {
    "collapsed": false,
    "pycharm": {
     "name": "#%%\n"
    }
   }
  },
  {
   "cell_type": "code",
   "execution_count": 76,
   "outputs": [
    {
     "data": {
      "text/plain": "Index(['6472.JP', '6448.JP', '9513.JP', '8354.JP', '3861.JP', '7911.JP',\n       '4182.JP', '6963.JP', '7936.JP', '4768.JP'],\n      dtype='object', name='ticker')"
     },
     "execution_count": 76,
     "metadata": {},
     "output_type": "execute_result"
    }
   ],
   "source": [
    "dollar_vol = prices.close.mul(prices.volume)\n",
    "dollar_vol_rank = dollar_vol.groupby(level='date').rank(ascending=False)\n",
    "universe = dollar_vol_rank.groupby(level='ticker').mean().nsmallest(250).index\n",
    "universe[-10:]"
   ],
   "metadata": {
    "collapsed": false,
    "pycharm": {
     "name": "#%%\n"
    }
   }
  },
  {
   "cell_type": "code",
   "execution_count": 111,
   "outputs": [
    {
     "name": "stdout",
     "output_type": "stream",
     "text": [
      "Training: 2021-03-01 ~ 2023-03-27(508 days)|Test: 2023-04-03 ~ 2023-05-01(21 days)\n",
      "Training: 2021-01-27 ~ 2023-02-22(508 days)|Test: 2023-03-02 ~ 2023-03-31(21 days)\n",
      "Training: 2020-12-24 ~ 2023-01-24(508 days)|Test: 2023-01-31 ~ 2023-03-01(21 days)\n",
      "Training: 2020-11-25 ~ 2022-12-21(508 days)|Test: 2022-12-28 ~ 2023-01-30(21 days)\n",
      "Training: 2020-10-23 ~ 2022-11-21(508 days)|Test: 2022-11-29 ~ 2022-12-27(21 days)\n",
      "Training: 2020-09-23 ~ 2022-10-20(508 days)|Test: 2022-10-27 ~ 2022-11-28(21 days)\n",
      "Training: 2020-08-21 ~ 2022-09-16(508 days)|Test: 2022-09-27 ~ 2022-10-26(21 days)\n",
      "Training: 2020-07-20 ~ 2022-08-18(508 days)|Test: 2022-08-25 ~ 2022-09-26(21 days)\n",
      "Training: 2020-06-19 ~ 2022-07-19(508 days)|Test: 2022-07-26 ~ 2022-08-24(21 days)\n",
      "Training: 2020-05-21 ~ 2022-06-17(508 days)|Test: 2022-06-24 ~ 2022-07-25(21 days)\n",
      "Training: 2020-04-16 ~ 2022-05-19(508 days)|Test: 2022-05-26 ~ 2022-06-23(21 days)\n",
      "Training: 2020-03-17 ~ 2022-04-14(508 days)|Test: 2022-04-21 ~ 2022-05-25(21 days)\n",
      "Training: 2020-02-14 ~ 2022-03-15(508 days)|Test: 2022-03-23 ~ 2022-04-20(21 days)\n",
      "Training: 2020-01-15 ~ 2022-02-10(508 days)|Test: 2022-02-18 ~ 2022-03-22(21 days)\n",
      "Training: 2019-12-10 ~ 2022-01-12(508 days)|Test: 2022-01-19 ~ 2022-02-17(21 days)\n",
      "Training: 2019-11-11 ~ 2021-12-09(508 days)|Test: 2021-12-16 ~ 2022-01-18(21 days)\n",
      "Training: 2019-10-08 ~ 2021-11-09(508 days)|Test: 2021-11-16 ~ 2021-12-15(21 days)\n",
      "Training: 2019-09-05 ~ 2021-10-08(508 days)|Test: 2021-10-15 ~ 2021-11-15(21 days)\n",
      "Training: 2019-08-06 ~ 2021-09-07(508 days)|Test: 2021-09-14 ~ 2021-10-14(21 days)\n",
      "Training: 2019-07-05 ~ 2021-08-06(508 days)|Test: 2021-08-16 ~ 2021-09-13(21 days)\n",
      "Training: 2019-06-06 ~ 2021-07-06(508 days)|Test: 2021-07-13 ~ 2021-08-13(21 days)\n",
      "Training: 2019-05-08 ~ 2021-06-07(508 days)|Test: 2021-06-14 ~ 2021-07-12(21 days)\n",
      "Training: 2019-04-01 ~ 2021-05-07(508 days)|Test: 2021-05-14 ~ 2021-06-11(21 days)\n",
      "Training: 2019-02-28 ~ 2021-04-02(508 days)|Test: 2021-04-09 ~ 2021-05-13(21 days)\n",
      "Training: 2019-01-29 ~ 2021-03-04(508 days)|Test: 2021-03-11 ~ 2021-04-08(21 days)\n",
      "Training: 2018-12-21 ~ 2021-02-01(508 days)|Test: 2021-02-08 ~ 2021-03-10(21 days)\n",
      "Training: 2018-11-21 ~ 2020-12-29(508 days)|Test: 2021-01-07 ~ 2021-02-05(21 days)\n",
      "Training: 2018-10-23 ~ 2020-11-30(508 days)|Test: 2020-12-07 ~ 2021-01-06(21 days)\n",
      "Training: 2018-09-20 ~ 2020-10-28(508 days)|Test: 2020-11-05 ~ 2020-12-04(21 days)\n",
      "Training: 2018-08-21 ~ 2020-09-28(508 days)|Test: 2020-10-06 ~ 2020-11-04(21 days)\n",
      "Training: 2018-07-23 ~ 2020-08-26(508 days)|Test: 2020-09-02 ~ 2020-10-05(21 days)\n",
      "Training: 2018-06-21 ~ 2020-07-27(508 days)|Test: 2020-08-03 ~ 2020-09-01(21 days)\n",
      "Training: 2018-05-23 ~ 2020-06-24(508 days)|Test: 2020-07-01 ~ 2020-07-31(21 days)\n",
      "Training: 2018-04-19 ~ 2020-05-26(508 days)|Test: 2020-06-02 ~ 2020-06-30(21 days)\n",
      "Training: 2018-03-20 ~ 2020-04-21(508 days)|Test: 2020-04-28 ~ 2020-06-01(21 days)\n",
      "Training: 2018-02-19 ~ 2020-03-23(508 days)|Test: 2020-03-30 ~ 2020-04-27(21 days)\n"
     ]
    }
   ],
   "source": [
    "cv = MultipleTimeSeriesCV(n_splits=36, test_period_length=21, lookahead=5, train_period_length=2 * YEAR)\n",
    "\n",
    "for i, (train_idx, test_idx) in enumerate(cv.split(X=data)):\n",
    "    train = data.iloc[train_idx]\n",
    "    train_dates = train.index.get_level_values('date')\n",
    "    test = data.iloc[test_idx]\n",
    "    test_dates = test.index.get_level_values('date')\n",
    "    df = train.reset_index().append(test.reset_index())\n",
    "    n = len(df)\n",
    "    assert n == len(df.drop_duplicates())\n",
    "    msg = f'Training: {train_dates.min().date()} ~ {train_dates.max().date()}'\n",
    "    msg += f'({train.groupby(level=\"ticker\").size().value_counts().index[0]:,.0f} days)|'\n",
    "    msg += f'Test: {test_dates.min().date()} ~ {test_dates.max().date()}'\n",
    "    msg += f'({test.groupby(level=\"ticker\").size().value_counts().index[0]:,.0f} days)'\n",
    "    print(msg)\n",
    "    # if i % 6:\n",
    "    #     break"
   ],
   "metadata": {
    "collapsed": false,
    "pycharm": {
     "name": "#%%\n"
    }
   }
  },
  {
   "cell_type": "code",
   "execution_count": 113,
   "outputs": [
    {
     "data": {
      "text/plain": "                       ret_1  ret_rel_perc_1     ret_5  ret_rel_perc_5  \\\nticker  date                                                             \n4768.JP 2023-04-25  0.002041            10.0  0.008214            11.0   \n        2023-04-26 -0.009165             5.0  0.011435            11.0   \n        2023-04-27 -0.004111             7.0  0.005187            10.0   \n        2023-04-28  0.018576            17.0  0.020683            13.0   \n        2023-05-01  0.008105            13.0  0.015306            12.0   \n\n                      ret_10  ret_rel_perc_10    ret_21  ret_rel_perc_21  \\\nticker  date                                                               \n4768.JP 2023-04-25  0.075575             17.0  0.077936             16.0   \n        2023-04-26  0.038420             14.0  0.065717             15.0   \n        2023-04-27  0.010428             10.0  0.038585             12.0   \n        2023-04-28  0.021739             12.0  0.060150             14.0   \n        2023-05-01  0.032158             13.0  0.061900             14.0   \n\n                      ret_63  ret_rel_perc_63  ...       bbl       bbu  \\\nticker  date                                   ...                       \n4768.JP 2023-04-25  0.171838             16.0  ...  1.029011  1.005790   \n        2023-04-26  0.150118             15.0  ...  1.014441  1.014647   \n        2023-04-27  0.124130             14.0  ...  1.006884  1.017570   \n        2023-04-28  0.158451             16.0  ...  1.022440  1.004116   \n        2023-05-01  0.165105             16.0  ...  1.033851  1.005004   \n\n                    weekday  month  year  fwd_ret_01  fwd_ret_05  fwd_ret_10  \\\nticker  date                                                                   \n4768.JP 2023-04-25        1      3    13   -0.009165         NaN         NaN   \n        2023-04-26        2      3    13   -0.004111         NaN         NaN   \n        2023-04-27        3      3    13    0.018576         NaN         NaN   \n        2023-04-28        4      3    13    0.008105         NaN         NaN   \n        2023-05-01        0      4    13         NaN         NaN         NaN   \n\n                    fwd_ret_21  fwd_ret_63  \nticker  date                                \n4768.JP 2023-04-25         NaN         NaN  \n        2023-04-26         NaN         NaN  \n        2023-04-27         NaN         NaN  \n        2023-04-28         NaN         NaN  \n        2023-05-01         NaN         NaN  \n\n[5 rows x 23 columns]",
      "text/html": "<div>\n<style scoped>\n    .dataframe tbody tr th:only-of-type {\n        vertical-align: middle;\n    }\n\n    .dataframe tbody tr th {\n        vertical-align: top;\n    }\n\n    .dataframe thead th {\n        text-align: right;\n    }\n</style>\n<table border=\"1\" class=\"dataframe\">\n  <thead>\n    <tr style=\"text-align: right;\">\n      <th></th>\n      <th></th>\n      <th>ret_1</th>\n      <th>ret_rel_perc_1</th>\n      <th>ret_5</th>\n      <th>ret_rel_perc_5</th>\n      <th>ret_10</th>\n      <th>ret_rel_perc_10</th>\n      <th>ret_21</th>\n      <th>ret_rel_perc_21</th>\n      <th>ret_63</th>\n      <th>ret_rel_perc_63</th>\n      <th>...</th>\n      <th>bbl</th>\n      <th>bbu</th>\n      <th>weekday</th>\n      <th>month</th>\n      <th>year</th>\n      <th>fwd_ret_01</th>\n      <th>fwd_ret_05</th>\n      <th>fwd_ret_10</th>\n      <th>fwd_ret_21</th>\n      <th>fwd_ret_63</th>\n    </tr>\n    <tr>\n      <th>ticker</th>\n      <th>date</th>\n      <th></th>\n      <th></th>\n      <th></th>\n      <th></th>\n      <th></th>\n      <th></th>\n      <th></th>\n      <th></th>\n      <th></th>\n      <th></th>\n      <th></th>\n      <th></th>\n      <th></th>\n      <th></th>\n      <th></th>\n      <th></th>\n      <th></th>\n      <th></th>\n      <th></th>\n      <th></th>\n      <th></th>\n    </tr>\n  </thead>\n  <tbody>\n    <tr>\n      <th rowspan=\"5\" valign=\"top\">4768.JP</th>\n      <th>2023-04-25</th>\n      <td>0.002041</td>\n      <td>10.0</td>\n      <td>0.008214</td>\n      <td>11.0</td>\n      <td>0.075575</td>\n      <td>17.0</td>\n      <td>0.077936</td>\n      <td>16.0</td>\n      <td>0.171838</td>\n      <td>16.0</td>\n      <td>...</td>\n      <td>1.029011</td>\n      <td>1.005790</td>\n      <td>1</td>\n      <td>3</td>\n      <td>13</td>\n      <td>-0.009165</td>\n      <td>NaN</td>\n      <td>NaN</td>\n      <td>NaN</td>\n      <td>NaN</td>\n    </tr>\n    <tr>\n      <th>2023-04-26</th>\n      <td>-0.009165</td>\n      <td>5.0</td>\n      <td>0.011435</td>\n      <td>11.0</td>\n      <td>0.038420</td>\n      <td>14.0</td>\n      <td>0.065717</td>\n      <td>15.0</td>\n      <td>0.150118</td>\n      <td>15.0</td>\n      <td>...</td>\n      <td>1.014441</td>\n      <td>1.014647</td>\n      <td>2</td>\n      <td>3</td>\n      <td>13</td>\n      <td>-0.004111</td>\n      <td>NaN</td>\n      <td>NaN</td>\n      <td>NaN</td>\n      <td>NaN</td>\n    </tr>\n    <tr>\n      <th>2023-04-27</th>\n      <td>-0.004111</td>\n      <td>7.0</td>\n      <td>0.005187</td>\n      <td>10.0</td>\n      <td>0.010428</td>\n      <td>10.0</td>\n      <td>0.038585</td>\n      <td>12.0</td>\n      <td>0.124130</td>\n      <td>14.0</td>\n      <td>...</td>\n      <td>1.006884</td>\n      <td>1.017570</td>\n      <td>3</td>\n      <td>3</td>\n      <td>13</td>\n      <td>0.018576</td>\n      <td>NaN</td>\n      <td>NaN</td>\n      <td>NaN</td>\n      <td>NaN</td>\n    </tr>\n    <tr>\n      <th>2023-04-28</th>\n      <td>0.018576</td>\n      <td>17.0</td>\n      <td>0.020683</td>\n      <td>13.0</td>\n      <td>0.021739</td>\n      <td>12.0</td>\n      <td>0.060150</td>\n      <td>14.0</td>\n      <td>0.158451</td>\n      <td>16.0</td>\n      <td>...</td>\n      <td>1.022440</td>\n      <td>1.004116</td>\n      <td>4</td>\n      <td>3</td>\n      <td>13</td>\n      <td>0.008105</td>\n      <td>NaN</td>\n      <td>NaN</td>\n      <td>NaN</td>\n      <td>NaN</td>\n    </tr>\n    <tr>\n      <th>2023-05-01</th>\n      <td>0.008105</td>\n      <td>13.0</td>\n      <td>0.015306</td>\n      <td>12.0</td>\n      <td>0.032158</td>\n      <td>13.0</td>\n      <td>0.061900</td>\n      <td>14.0</td>\n      <td>0.165105</td>\n      <td>16.0</td>\n      <td>...</td>\n      <td>1.033851</td>\n      <td>1.005004</td>\n      <td>0</td>\n      <td>4</td>\n      <td>13</td>\n      <td>NaN</td>\n      <td>NaN</td>\n      <td>NaN</td>\n      <td>NaN</td>\n      <td>NaN</td>\n    </tr>\n  </tbody>\n</table>\n<p>5 rows × 23 columns</p>\n</div>"
     },
     "execution_count": 113,
     "metadata": {},
     "output_type": "execute_result"
    }
   ],
   "source": [
    "data.loc[idx[universe, :], :].tail()"
   ],
   "metadata": {
    "collapsed": false,
    "pycharm": {
     "name": "#%%\n"
    }
   }
  },
  {
   "cell_type": "code",
   "execution_count": 83,
   "outputs": [],
   "source": [
    "data = data.sort_index()\n",
    "cv_data = data.loc[idx[universe, : '2022'], :]\n",
    "tickers = cv_data.index.unique('ticker')"
   ],
   "metadata": {
    "collapsed": false,
    "pycharm": {
     "name": "#%%\n"
    }
   }
  },
  {
   "cell_type": "code",
   "execution_count": 86,
   "outputs": [
    {
     "name": "stdout",
     "output_type": "stream",
     "text": [
      "<class 'pandas.io.pytables.HDFStore'>\n",
      "File path: data\\data.h5\n",
      "/lasso/coeffs                            frame        (shape->[8,34])      \n",
      "/lasso/predictions                       frame        (shape->[592432,3])  \n",
      "/lasso/scores                            frame        (shape->[6000,3])    \n",
      "/logistic/coeffs                         frame        (shape->[11,34])     \n",
      "/logistic/predictions                    frame        (shape->[814594,4])  \n",
      "/logistic/scores                         frame        (shape->[825,5])     \n",
      "/lr/predictions                          frame        (shape->[74054,2])   \n",
      "/lr/scores                               frame        (shape->[750,2])     \n",
      "/model_data                              frame        (shape->[2904233,70])\n",
      "/ridge/coeffs                            frame        (shape->[18,34])     \n",
      "/ridge/predictions                       frame        (shape->[1332972,3]) \n",
      "/ridge/scores                            frame        (shape->[13500,3])   \n",
      "/stooq/japan/equities                    frame        (shape->[3081645,23])\n",
      "/stooq/japan/equities/cv_data            frame        (shape->[674160,23]) \n",
      "/us/equities/monthly                     frame        (shape->[77788,27])  \n",
      "/us/equities/prices                      frame        (shape->[9532628,16])\n"
     ]
    }
   ],
   "source": [
    "cv_data.to_hdf(DATA_DIR / 'data.h5', 'stooq/japan/equities/cv_data')\n",
    "\n",
    "with pd.HDFStore(DATA_DIR / 'data.h5') as store:\n",
    "    print(store.info())"
   ],
   "metadata": {
    "collapsed": false,
    "pycharm": {
     "name": "#%%\n"
    }
   }
  },
  {
   "cell_type": "code",
   "execution_count": 87,
   "outputs": [],
   "source": [
    "lookaheads = [1, 5, 10, 21]\n",
    "\n",
    "lr = LinearRegression()\n",
    "labels = sorted(cv_data.filter(like='fwd').columns)\n",
    "features = cv_data.columns.difference(labels).tolist()"
   ],
   "metadata": {
    "collapsed": false,
    "pycharm": {
     "name": "#%%\n"
    }
   }
  },
  {
   "cell_type": "code",
   "execution_count": 88,
   "outputs": [
    {
     "data": {
      "text/plain": "['NATR',\n 'PPO',\n 'RSI',\n 'bbl',\n 'bbu',\n 'month',\n 'ret_1',\n 'ret_10',\n 'ret_21',\n 'ret_5',\n 'ret_63',\n 'ret_rel_perc_1',\n 'ret_rel_perc_10',\n 'ret_rel_perc_21',\n 'ret_rel_perc_5',\n 'ret_rel_perc_63',\n 'weekday',\n 'year']"
     },
     "execution_count": 88,
     "metadata": {},
     "output_type": "execute_result"
    }
   ],
   "source": [
    "# labels\n",
    "features"
   ],
   "metadata": {
    "collapsed": false,
    "pycharm": {
     "name": "#%%\n"
    }
   }
  },
  {
   "cell_type": "code",
   "execution_count": 89,
   "outputs": [
    {
     "name": "stderr",
     "output_type": "stream",
     "text": [
      "100%|██████████| 40/40 [02:48<00:00,  4.21s/it]\n"
     ]
    },
    {
     "name": "stdout",
     "output_type": "stream",
     "text": [
      "<class 'pandas.core.frame.DataFrame'>\n",
      "RangeIndex: 40 entries, 0 to 39\n",
      "Data columns (total 5 columns):\n",
      " #   Column        Non-Null Count  Dtype  \n",
      "---  ------        --------------  -----  \n",
      " 0   lookahead     40 non-null     int64  \n",
      " 1   train_length  40 non-null     int64  \n",
      " 2   test_length   40 non-null     int64  \n",
      " 3   ic_by_day     40 non-null     float64\n",
      " 4   ic            40 non-null     float64\n",
      "dtypes: float64(2), int64(3)\n",
      "memory usage: 1.7 KB\n"
     ]
    }
   ],
   "source": [
    "# CV Parameters\n",
    "train_lengths = [5 * YEAR, 4 * YEAR, YEAR, 126, 63]\n",
    "test_lengths = [5, 21]\n",
    "\n",
    "test_params = list(product(lookaheads, train_lengths, test_lengths))\n",
    "\n",
    "lr_metrics = []\n",
    "for lookahead, train_lengths, test_lengths in tqdm(test_params):\n",
    "    label = f'fwd_ret_{lookahead:02}'\n",
    "    df = cv_data.loc[:, features + [label]].dropna()\n",
    "    X, y = df.drop(label, axis=1), df[label]\n",
    "\n",
    "    n_splits = int(2 * YEAR / test_lengths)\n",
    "    cv = MultipleTimeSeriesCV(n_splits=n_splits, test_period_length=test_lengths, lookahead=lookahead\n",
    "                              , train_period_length=train_lengths)\n",
    "    ic, preds = [], []\n",
    "    for i, (train_idx, test_idx) in enumerate(cv.split(X=X)):\n",
    "        X_train, y_train = X.iloc[train_idx], y.iloc[train_idx]\n",
    "        X_test, y_test = X.iloc[test_idx], y.iloc[test_idx]\n",
    "        lr.fit(X_train, y_train)\n",
    "        y_pred = lr.predict(X_test)\n",
    "        preds.append(y_test.to_frame('y_true').assign(y_pred=y_pred))\n",
    "        ic.append(spearmanr(y_test, y_pred)[0])\n",
    "    preds = pd.concat(preds)\n",
    "    lr_metrics.append([lookahead, train_lengths, test_lengths, np.mean(ic), spearmanr(preds.y_true, preds.y_pred)[0]])\n",
    "\n",
    "columns = ['lookahead', 'train_length', 'test_length', 'ic_by_day', 'ic']\n",
    "lr_metrics = pd.DataFrame(lr_metrics, columns=columns)\n",
    "lr_metrics.info()"
   ],
   "metadata": {
    "collapsed": false,
    "pycharm": {
     "name": "#%%\n"
    }
   }
  },
  {
   "cell_type": "code",
   "execution_count": 90,
   "outputs": [
    {
     "name": "stdout",
     "output_type": "stream",
     "text": [
      "<class 'pandas.core.frame.DataFrame'>\n",
      "Int64Index: 80 entries, 0 to 39\n",
      "Data columns (total 5 columns):\n",
      " #   Column        Non-Null Count  Dtype  \n",
      "---  ------        --------------  -----  \n",
      " 0   Lookahead     80 non-null     int64  \n",
      " 1   Train Length  80 non-null     int64  \n",
      " 2   Test Length   80 non-null     int64  \n",
      " 3   IC            80 non-null     float64\n",
      " 4   Measure       80 non-null     object \n",
      "dtypes: float64(1), int64(3), object(1)\n",
      "memory usage: 3.8+ KB\n"
     ]
    }
   ],
   "source": [
    "lr_metrics_long = pd.concat([(lr_metrics.drop('ic', axis=1).rename(columns={'ic_by_day': 'ic'})\n",
    "                              .assign(Measured='By Day')), lr_metrics.drop('ic_by_day', axis=1)\n",
    "                            .assign(Measured='Overall')])\n",
    "lr_metrics_long.columns = ['Lookahead', 'Train Length', 'Test Length', 'IC', 'Measure']\n",
    "lr_metrics_long.info()"
   ],
   "metadata": {
    "collapsed": false,
    "pycharm": {
     "name": "#%%\n"
    }
   }
  },
  {
   "cell_type": "code",
   "execution_count": 91,
   "outputs": [
    {
     "data": {
      "text/plain": "<seaborn.axisgrid.FacetGrid at 0x17ae6cde5e0>"
     },
     "execution_count": 91,
     "metadata": {},
     "output_type": "execute_result"
    },
    {
     "data": {
      "text/plain": "<Figure size 1499.88x720 with 8 Axes>",
      "image/png": "[encoded data removed]"
     },
     "metadata": {},
     "output_type": "display_data"
    }
   ],
   "source": [
    "sns.catplot(x='Train Length', y='IC', hue='Test Length', col='Lookahead', row='Measure', data=lr_metrics_long,\n",
    "            kind='bar')"
   ],
   "metadata": {
    "collapsed": false,
    "pycharm": {
     "name": "#%%\n"
    }
   }
  },
  {
   "cell_type": "code",
   "execution_count": 92,
   "outputs": [
    {
     "data": {
      "text/plain": "<Figure size 1008x360 with 2 Axes>",
      "image/png": "[encoded data removed]"
     },
     "metadata": {},
     "output_type": "display_data"
    }
   ],
   "source": [
    "fig, axes = plt.subplots(ncols=2, figsize=(14, 5), sharey=True)\n",
    "sns.boxplot(x='lookahead', y='ic_by_day', data=lr_metrics, ax=axes[0])\n",
    "axes[0].set_title('IC by Day')\n",
    "sns.boxplot(x='lookahead', y='ic', data=lr_metrics, ax=axes[1])\n",
    "axes[1].set_title('IC Overall')\n",
    "axes[0].set_ylabel('Information Coefficient')\n",
    "axes[1].set_ylabel('')\n",
    "sns.despine()"
   ],
   "metadata": {
    "collapsed": false,
    "pycharm": {
     "name": "#%%\n"
    }
   }
  },
  {
   "cell_type": "code",
   "execution_count": 93,
   "outputs": [
    {
     "data": {
      "text/plain": "    lookahead  train_length  test_length  ic_by_day        ic\n9           1            63           21   0.024662  0.002436\n7           1           126           21   0.028591  0.001943\n1           1          1260           21   0.006319 -0.008684\n17          5           126           21   0.091244  0.023470\n19          5            63           21   0.093488  0.018705\n15          5           252           21   0.055804 -0.003305\n26         10           126            5   0.045885  0.008461\n24         10           252            5   0.045032  0.008217\n25         10           252           21   0.091224  0.005604\n37         21           126           21   0.091419  0.025389\n39         21            63           21   0.068497  0.016686\n35         21           252           21   0.081114  0.005596",
      "text/html": "<div>\n<style scoped>\n    .dataframe tbody tr th:only-of-type {\n        vertical-align: middle;\n    }\n\n    .dataframe tbody tr th {\n        vertical-align: top;\n    }\n\n    .dataframe thead th {\n        text-align: right;\n    }\n</style>\n<table border=\"1\" class=\"dataframe\">\n  <thead>\n    <tr style=\"text-align: right;\">\n      <th></th>\n      <th>lookahead</th>\n      <th>train_length</th>\n      <th>test_length</th>\n      <th>ic_by_day</th>\n      <th>ic</th>\n    </tr>\n  </thead>\n  <tbody>\n    <tr>\n      <th>9</th>\n      <td>1</td>\n      <td>63</td>\n      <td>21</td>\n      <td>0.024662</td>\n      <td>0.002436</td>\n    </tr>\n    <tr>\n      <th>7</th>\n      <td>1</td>\n      <td>126</td>\n      <td>21</td>\n      <td>0.028591</td>\n      <td>0.001943</td>\n    </tr>\n    <tr>\n      <th>1</th>\n      <td>1</td>\n      <td>1260</td>\n      <td>21</td>\n      <td>0.006319</td>\n      <td>-0.008684</td>\n    </tr>\n    <tr>\n      <th>17</th>\n      <td>5</td>\n      <td>126</td>\n      <td>21</td>\n      <td>0.091244</td>\n      <td>0.023470</td>\n    </tr>\n    <tr>\n      <th>19</th>\n      <td>5</td>\n      <td>63</td>\n      <td>21</td>\n      <td>0.093488</td>\n      <td>0.018705</td>\n    </tr>\n    <tr>\n      <th>15</th>\n      <td>5</td>\n      <td>252</td>\n      <td>21</td>\n      <td>0.055804</td>\n      <td>-0.003305</td>\n    </tr>\n    <tr>\n      <th>26</th>\n      <td>10</td>\n      <td>126</td>\n      <td>5</td>\n      <td>0.045885</td>\n      <td>0.008461</td>\n    </tr>\n    <tr>\n      <th>24</th>\n      <td>10</td>\n      <td>252</td>\n      <td>5</td>\n      <td>0.045032</td>\n      <td>0.008217</td>\n    </tr>\n    <tr>\n      <th>25</th>\n      <td>10</td>\n      <td>252</td>\n      <td>21</td>\n      <td>0.091224</td>\n      <td>0.005604</td>\n    </tr>\n    <tr>\n      <th>37</th>\n      <td>21</td>\n      <td>126</td>\n      <td>21</td>\n      <td>0.091419</td>\n      <td>0.025389</td>\n    </tr>\n    <tr>\n      <th>39</th>\n      <td>21</td>\n      <td>63</td>\n      <td>21</td>\n      <td>0.068497</td>\n      <td>0.016686</td>\n    </tr>\n    <tr>\n      <th>35</th>\n      <td>21</td>\n      <td>252</td>\n      <td>21</td>\n      <td>0.081114</td>\n      <td>0.005596</td>\n    </tr>\n  </tbody>\n</table>\n</div>"
     },
     "execution_count": 93,
     "metadata": {},
     "output_type": "execute_result"
    }
   ],
   "source": [
    "# Best Train/Test Period Lengths\n",
    "(lr_metrics.groupby('lookahead', group_keys=False).apply(lambda x: x.nlargest(3, 'ic')))"
   ],
   "metadata": {
    "collapsed": false,
    "pycharm": {
     "name": "#%%\n"
    }
   }
  },
  {
   "cell_type": "code",
   "execution_count": 94,
   "outputs": [],
   "source": [
    "lr_metrics.to_csv(results_path / 'lin_reg_performance.csv', index=False)"
   ],
   "metadata": {
    "collapsed": false,
    "pycharm": {
     "name": "#%%\n"
    }
   }
  },
  {
   "cell_type": "code",
   "execution_count": 95,
   "outputs": [
    {
     "data": {
      "text/plain": "18"
     },
     "execution_count": 95,
     "metadata": {},
     "output_type": "execute_result"
    }
   ],
   "source": [
    "# LightGBM Random Forest MDL Tuning\n",
    "def get_fi(model):\n",
    "    fi = model.feature_importance(importance_type='gain')\n",
    "    return (pd.Series(fi / fi.sum(), index=model.feature_name()))\n",
    "\n",
    "\n",
    "base_params = dict(boosting_type='rf', objective='regression', bagging_freq=1, verbose=-1)\n",
    "\n",
    "bagging_fraction_opts = [.5, .75, .95]\n",
    "feature_fraction_opts = [.75, .95]\n",
    "min_data_in_leaf_opts = [250, 500, 1000]\n",
    "\n",
    "cv_params = list(product(bagging_fraction_opts, feature_fraction_opts, min_data_in_leaf_opts))\n",
    "n_cv_params = len(cv_params)\n",
    "n_cv_params"
   ],
   "metadata": {
    "collapsed": false,
    "pycharm": {
     "name": "#%%\n"
    }
   }
  },
  {
   "cell_type": "code",
   "execution_count": 96,
   "outputs": [
    {
     "name": "stdout",
     "output_type": "stream",
     "text": [
      "CV Parameters: 9\n"
     ]
    }
   ],
   "source": [
    "sample_proportion = .5\n",
    "sample_size = int(sample_proportion * n_cv_params)\n",
    "cv_param_sample = np.random.choice(list(range(n_cv_params)), size=int(sample_size), replace=False)\n",
    "cv_params_ = [cv_params[i] for i in cv_param_sample]\n",
    "print(f'CV Parameters: {len(cv_params_)}')"
   ],
   "metadata": {
    "collapsed": false,
    "pycharm": {
     "name": "#%%\n"
    }
   }
  },
  {
   "cell_type": "code",
   "execution_count": 97,
   "outputs": [
    {
     "name": "stdout",
     "output_type": "stream",
     "text": [
      "Train configs: 10\n",
      "CV Iterations: 90\n"
     ]
    }
   ],
   "source": [
    "num_iterations = [25] + list(range(50, 501, 25))\n",
    "num_boost_round = num_iterations[-1]\n",
    "\n",
    "train_lengths = [5 * YEAR, 3 * YEAR, YEAR, 126, 63]\n",
    "test_lengths = [5, 21]\n",
    "test_params = list(product(train_lengths, test_lengths))\n",
    "n_test_params = len(test_params)\n",
    "\n",
    "sample_proportion = 1.0\n",
    "sample_size = int(sample_proportion * n_test_params)\n",
    "\n",
    "test_param_sample = np.random.choice(list(range(n_test_params)), size=int(sample_size), replace=False)\n",
    "test_params_ = [test_params[i] for i in test_param_sample]\n",
    "print('Train configs:', len(test_params_))\n",
    "print('CV Iterations:', len(cv_params_) * len(test_params_))"
   ],
   "metadata": {
    "collapsed": false,
    "pycharm": {
     "name": "#%%\n"
    }
   }
  },
  {
   "cell_type": "code",
   "execution_count": 103,
   "outputs": [],
   "source": [
    "# categorical variables\n",
    "\n",
    "categoricals = ['year', 'weekday', 'month']\n",
    "for feature in categoricals:\n",
    "    data[feature] = pd.factorize(data[feature], sort=True)[0]\n",
    "\n",
    "labels = sorted(cv_data.filter(like='fwd').columns)\n",
    "features = cv_data.columns.difference(labels).tolist()\n",
    "label_dict = dict(zip(lookaheads, labels))\n",
    "cv_store = Path(results_path / 'parameter_tuning.h5')\n",
    "\n",
    "ic_cols = ['bagging_fraction',\n",
    "           'feature_fraction',\n",
    "           'min_data_in_leaf',\n",
    "           't'] + [str(n) for n in num_iterations]"
   ],
   "metadata": {
    "collapsed": false,
    "pycharm": {
     "name": "#%%\n"
    }
   }
  },
  {
   "cell_type": "code",
   "execution_count": 108,
   "outputs": [
    {
     "name": "stdout",
     "output_type": "stream",
     "text": [
      "Lookahead:  1 | Train:  63 | Test: 21 | Params:   9\n"
     ]
    },
    {
     "ename": "AttributeError",
     "evalue": "'tuple' object has no attribute 'loc'",
     "output_type": "error",
     "traceback": [
      "\u001B[1;31m---------------------------------------------------------------------------\u001B[0m",
      "\u001B[1;31mAttributeError\u001B[0m                            Traceback (most recent call last)",
      "Input \u001B[1;32mIn [108]\u001B[0m, in \u001B[0;36m<cell line: 1>\u001B[1;34m()\u001B[0m\n\u001B[0;32m     37\u001B[0m test_set \u001B[38;5;241m=\u001B[39m \u001B[38;5;28mtuple\u001B[39m(outcome_data\u001B[38;5;241m.\u001B[39miloc[test_idx, :])\n\u001B[0;32m     38\u001B[0m \u001B[38;5;66;03m# print(\"here: \", test_set.describe())\u001B[39;00m\n\u001B[1;32m---> 39\u001B[0m X_test \u001B[38;5;241m=\u001B[39m \u001B[43mtest_set\u001B[49m\u001B[38;5;241;43m.\u001B[39;49m\u001B[43mloc\u001B[49m[: model\u001B[38;5;241m.\u001B[39mfeature_name()]\n\u001B[0;32m     40\u001B[0m y_test \u001B[38;5;241m=\u001B[39m test_set\u001B[38;5;241m.\u001B[39mloc[:, label]\n\u001B[0;32m     41\u001B[0m y_pred \u001B[38;5;241m=\u001B[39m {\u001B[38;5;28mstr\u001B[39m(n):model\u001B[38;5;241m.\u001B[39mpredict(X_test, num_iteration\u001B[38;5;241m=\u001B[39mn) \u001B[38;5;28;01mfor\u001B[39;00m n \u001B[38;5;129;01min\u001B[39;00m num_iterations}\n",
      "\u001B[1;31mAttributeError\u001B[0m: 'tuple' object has no attribute 'loc'"
     ]
    }
   ],
   "source": [
    "for lookahead in lookaheads:\n",
    "    for train_length, test_length in test_params_:\n",
    "        n_splits = int(2 * YEAR / test_length)\n",
    "        print(f'Lookahead: {lookahead:2.0f} | Train: {train_length:3.0f} | '\n",
    "              f'Test: {test_length:2.0f} | Params: {len(cv_params_):3.0f}')\n",
    "\n",
    "        cv = MultipleTimeSeriesCV(n_splits=n_splits, test_period_length=test_length,\n",
    "                                  train_period_length=train_length, lookahead=lookahead)\n",
    "        label = label_dict[lookahead]\n",
    "        outcome_data = data.loc[:, features + [label]].dropna()\n",
    "\n",
    "        lgb_data = lgb.Dataset(data=outcome_data.drop(label, axis=1),\n",
    "                               label=outcome_data[label],\n",
    "                               categorical_feature=categoricals,\n",
    "                               free_raw_data=False)\n",
    "        predictions, daily_ic, ic, feature_importance = [], [], [], []\n",
    "        key = f'{lookahead}/{train_length}/{test_length}'\n",
    "        T = 0\n",
    "        for p, (bagging_fraction, feature_fraction, min_data_in_leaf) in enumerate(cv_params_):\n",
    "            params = base_params.copy()\n",
    "            params.update(dict(bagging_fraction=bagging_fraction,\n",
    "                               feature_fraction=feature_fraction,\n",
    "                               min_data_in_leaf=min_data_in_leaf))\n",
    "            start = time()\n",
    "            cv_preds, nrounds = [], []\n",
    "            for i, (train_idx, test_idx) in enumerate(cv.split(X=outcome_data)):\n",
    "                lgb_train = lgb_data.subset(used_indices=train_idx.tolist(), params=params).construct()\n",
    "                lgb_test = lgb_data.subset(used_indices=test_idx.tolist(), params=params).construct()\n",
    "\n",
    "                model = lgb.train(params=params, train_set=lgb_train, num_boost_round=num_boost_round\n",
    "                                  , verbose_eval=False)\n",
    "                if i == 0:\n",
    "                    fi = get_fi(model).to_frame()\n",
    "                else:\n",
    "                    fi[i] = get_fi(model)\n",
    "\n",
    "                test_set = outcome_data.iloc[test_idx, :]\n",
    "                print(\"here: \", test_set.describe())\n",
    "                X_test = test_set.loc[: model.feature_name()]\n",
    "                y_test = test_set.loc[:, label]\n",
    "                y_pred = {str(n): model.predict(X_test, num_iteration=n) for n in num_iterations}\n",
    "                cv_preds.append(y_test.to_frame('y_test').assign(**y_pred).assign(i=i))\n",
    "                nrounds.append(model.best_iteration)\n",
    "            feature_importance.append(fi.T.describe().T.assign(bagging_fraction=bagging_fraction,\n",
    "                                                               feature_fraction=feature_fraction,\n",
    "                                                               min_data_in_leaf=min_data_in_leaf))\n",
    "            cv_preds = pd.concat(cv_preds).assign(bagging_fraction=bagging_fraction,\n",
    "                                                  feature_fraction=feature_fraction,\n",
    "                                                  min_data_in_leaf=min_data_in_leaf)\n",
    "            predictions.append(cv_preds)\n",
    "            by_day = cv_preds.groupby(level='date')\n",
    "            ic_by_day = pd.concat([by_day.apply(lambda x: spearmanr(x.y_test, x[str(n)])[0]).to_frame(n)\n",
    "                                   for n in num_iterations], axis=1)\n",
    "            daily_ic.append(ic_by_day.assign(bagging_fraction=bagging_fraction,\n",
    "                                             feature_fraction=feature_fraction,\n",
    "                                             min_data_in_leaf=min_data_in_leaf))\n",
    "            cv_ic = [spearmanr(cv_preds.y_test, cv_preds[str(n)])[0] for n in num_iterations]\n",
    "\n",
    "            T += time() - start\n",
    "            ic.append([bagging_fraction, feature_fraction, min_data_in_leaf, lookahead] + cv_ic)\n",
    "\n",
    "            msg = f'{p:3.0f} | {format_time(T)} | {bagging_fraction:3.0%} | {feature_fraction:3.0%} | '\n",
    "            msg += f'{min_data_in_leaf:5, .0f} | {max(cv_ic):6.2%} | {ic_by_day.mean().max():6.2%} | '\n",
    "            msg += f'{ic_by_day.median().max():6.2%}'\n",
    "            print(msg)\n",
    "\n",
    "        m = pd.DataFrame(ic, columns=ic_cols)\n",
    "        m.to_hdf(cv_store, 'ic/' + key)\n",
    "        pd.concat(daily_ic).to_hdf(cv_store, 'daily_ic/' + key)\n",
    "        pd.concat(feature_importance).to_hdf(cv_store, 'fi/' + key)\n",
    "        pd.concat(predictions).to_hdf(cv_store, 'predictions/' + key)"
   ],
   "metadata": {
    "collapsed": false,
    "pycharm": {
     "name": "#%%\n"
    }
   }
  }
 ],
 "metadata": {
  "kernelspec": {
   "display_name": "Python 3",
   "language": "python",
   "name": "python3"
  },
  "language_info": {
   "codemirror_mode": {
    "name": "ipython",
    "version": 2
   },
   "file_extension": ".py",
   "mimetype": "text/x-python",
   "name": "python",
   "nbconvert_exporter": "python",
   "pygments_lexer": "ipython2",
   "version": "2.7.6"
  }
 },
 "nbformat": 4,
 "nbformat_minor": 0
}