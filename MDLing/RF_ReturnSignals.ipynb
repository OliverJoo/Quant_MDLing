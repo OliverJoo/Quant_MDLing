{
 "cells": [
  {
   "cell_type": "code",
   "execution_count": 5,
   "metadata": {
    "collapsed": true,
    "pycharm": {
     "name": "#%%\n"
    }
   },
   "outputs": [],
   "source": [
    "import warnings\n",
    "warnings.filterwarnings('ignore')\n",
    "\n",
    "%matplotlib inline\n",
    "\n",
    "from time import time\n",
    "from io import StringIO\n",
    "import sys, os\n",
    "from tqdm import tqdm\n",
    "\n",
    "from itertools import product\n",
    "from pathlib import Path\n",
    "\n",
    "import numpy as np\n",
    "import pandas as pd\n",
    "import statsmodels.api as sm\n",
    "\n",
    "import matplotlib.pyplot as plt\n",
    "import seaborn as sns\n",
    "\n",
    "import lightgbm as lgb\n",
    "\n",
    "from sklearn.linear_model import LinearRegression\n",
    "from scipy.stats import spearmanr\n",
    "\n",
    "sys.path.insert(1, os.path.join(sys.path[0], '..'))\n",
    "\n",
    "sns.set_style('whitegrid')\n",
    "np.random.seed(42)\n",
    "\n",
    "YEAR = 252\n",
    "idx = pd.IndexSlice\n",
    "DATA_DIR = Path('data')\n",
    "\n",
    "results_path = Path('results', 'return_predictions')\n",
    "if not results_path.exists():\n",
    "    results_path.mkdir(parents=True)"
   ]
  },
  {
   "cell_type": "code",
   "execution_count": 14,
   "outputs": [
    {
     "name": "stdout",
     "output_type": "stream",
     "text": [
      "<class 'pandas.core.frame.DataFrame'>\n",
      "MultiIndex: 3081645 entries, ('9984.JP', Timestamp('2010-01-04 00:00:00')) to ('3053.JP', Timestamp('2023-05-01 00:00:00'))\n",
      "Data columns (total 23 columns):\n",
      " #   Column           Non-Null Count    Dtype  \n",
      "---  ------           --------------    -----  \n",
      " 0   ret_1            3080700 non-null  float64\n",
      " 1   ret_rel_perc_1   3080700 non-null  float64\n",
      " 2   ret_5            3076920 non-null  float64\n",
      " 3   ret_rel_perc_5   3076920 non-null  float64\n",
      " 4   ret_10           3072195 non-null  float64\n",
      " 5   ret_rel_perc_10  3072195 non-null  float64\n",
      " 6   ret_21           3061800 non-null  float64\n",
      " 7   ret_rel_perc_21  3061800 non-null  float64\n",
      " 8   ret_63           3022110 non-null  float64\n",
      " 9   ret_rel_perc_63  3022110 non-null  float64\n",
      " 10  PPO              3058020 non-null  float64\n",
      " 11  NATR             3068415 non-null  float64\n",
      " 12  RSI              3068415 non-null  float64\n",
      " 13  bbl              3077865 non-null  float64\n",
      " 14  bbu              3077865 non-null  float64\n",
      " 15  weekday          3081645 non-null  int64  \n",
      " 16  month            3081645 non-null  int64  \n",
      " 17  year             3081645 non-null  int64  \n",
      " 18  fwd_ret_01       3080700 non-null  float64\n",
      " 19  fwd_ret_05       3076920 non-null  float64\n",
      " 20  fwd_ret_10       3072195 non-null  float64\n",
      " 21  fwd_ret_21       3061800 non-null  float64\n",
      " 22  fwd_ret_63       3022110 non-null  float64\n",
      "dtypes: float64(20), int64(3)\n",
      "memory usage: 552.7+ MB\n"
     ]
    },
    {
     "data": {
      "text/plain": "(None, 945)"
     },
     "execution_count": 14,
     "metadata": {},
     "output_type": "execute_result"
    }
   ],
   "source": [
    "# load feature engineering\n",
    "data = pd.read_hdf(DATA_DIR / 'data.h5', 'stooq/japan/equities')\n",
    "data.info(null_counts=True), len(data.index.unique('ticker'))"
   ],
   "metadata": {
    "collapsed": false,
    "pycharm": {
     "name": "#%%\n"
    }
   }
  },
  {
   "cell_type": "code",
   "execution_count": 13,
   "outputs": [
    {
     "data": {
      "text/plain": "                       ret_1  ret_rel_perc_1     ret_5  ret_rel_perc_5  \\\nticker  date                                                             \n3053.JP 2023-04-25 -0.006135             6.0 -0.024096             5.0   \n        2023-04-26 -0.006173             6.0 -0.024242             5.0   \n        2023-04-27  0.018634            16.0  0.000000             9.0   \n        2023-04-28 -0.012195             4.0  0.006211            11.0   \n        2023-05-01  0.012346            15.0  0.006135            11.0   \n\n                      ret_10  ret_rel_perc_10    ret_21  ret_rel_perc_21  \\\nticker  date                                                               \n3053.JP 2023-04-25  0.000000              9.0 -0.074286              4.0   \n        2023-04-26 -0.006173              8.0 -0.085227              4.0   \n        2023-04-27  0.018634             12.0 -0.057471              5.0   \n        2023-04-28  0.006211             10.0 -0.058140              5.0   \n        2023-05-01  0.012346             11.0 -0.057471              5.0   \n\n                      ret_63  ret_rel_perc_63  ...       bbl       bbu  \\\nticker  date                                   ...                       \n3053.JP 2023-04-25 -0.079545              6.0  ...  1.011415  1.023632   \n        2023-04-26 -0.090395              6.0  ...  1.007083  1.021940   \n        2023-04-27 -0.068182              7.0  ...  1.025849  1.003246   \n        2023-04-28 -0.074286              6.0  ...  1.010225  1.015059   \n        2023-05-01 -0.073446              7.0  ...  1.023720  1.006098   \n\n                    weekday  month  year  fwd_ret_01  fwd_ret_05  fwd_ret_10  \\\nticker  date                                                                   \n3053.JP 2023-04-25        1      4  2023   -0.006173         NaN         NaN   \n        2023-04-26        2      4  2023    0.018634         NaN         NaN   \n        2023-04-27        3      4  2023   -0.012195         NaN         NaN   \n        2023-04-28        4      4  2023    0.012346         NaN         NaN   \n        2023-05-01        0      5  2023         NaN         NaN         NaN   \n\n                    fwd_ret_21  fwd_ret_63  \nticker  date                                \n3053.JP 2023-04-25         NaN         NaN  \n        2023-04-26         NaN         NaN  \n        2023-04-27         NaN         NaN  \n        2023-04-28         NaN         NaN  \n        2023-05-01         NaN         NaN  \n\n[5 rows x 23 columns]",
      "text/html": "<div>\n<style scoped>\n    .dataframe tbody tr th:only-of-type {\n        vertical-align: middle;\n    }\n\n    .dataframe tbody tr th {\n        vertical-align: top;\n    }\n\n    .dataframe thead th {\n        text-align: right;\n    }\n</style>\n<table border=\"1\" class=\"dataframe\">\n  <thead>\n    <tr style=\"text-align: right;\">\n      <th></th>\n      <th></th>\n      <th>ret_1</th>\n      <th>ret_rel_perc_1</th>\n      <th>ret_5</th>\n      <th>ret_rel_perc_5</th>\n      <th>ret_10</th>\n      <th>ret_rel_perc_10</th>\n      <th>ret_21</th>\n      <th>ret_rel_perc_21</th>\n      <th>ret_63</th>\n      <th>ret_rel_perc_63</th>\n      <th>...</th>\n      <th>bbl</th>\n      <th>bbu</th>\n      <th>weekday</th>\n      <th>month</th>\n      <th>year</th>\n      <th>fwd_ret_01</th>\n      <th>fwd_ret_05</th>\n      <th>fwd_ret_10</th>\n      <th>fwd_ret_21</th>\n      <th>fwd_ret_63</th>\n    </tr>\n    <tr>\n      <th>ticker</th>\n      <th>date</th>\n      <th></th>\n      <th></th>\n      <th></th>\n      <th></th>\n      <th></th>\n      <th></th>\n      <th></th>\n      <th></th>\n      <th></th>\n      <th></th>\n      <th></th>\n      <th></th>\n      <th></th>\n      <th></th>\n      <th></th>\n      <th></th>\n      <th></th>\n      <th></th>\n      <th></th>\n      <th></th>\n      <th></th>\n    </tr>\n  </thead>\n  <tbody>\n    <tr>\n      <th rowspan=\"5\" valign=\"top\">3053.JP</th>\n      <th>2023-04-25</th>\n      <td>-0.006135</td>\n      <td>6.0</td>\n      <td>-0.024096</td>\n      <td>5.0</td>\n      <td>0.000000</td>\n      <td>9.0</td>\n      <td>-0.074286</td>\n      <td>4.0</td>\n      <td>-0.079545</td>\n      <td>6.0</td>\n      <td>...</td>\n      <td>1.011415</td>\n      <td>1.023632</td>\n      <td>1</td>\n      <td>4</td>\n      <td>2023</td>\n      <td>-0.006173</td>\n      <td>NaN</td>\n      <td>NaN</td>\n      <td>NaN</td>\n      <td>NaN</td>\n    </tr>\n    <tr>\n      <th>2023-04-26</th>\n      <td>-0.006173</td>\n      <td>6.0</td>\n      <td>-0.024242</td>\n      <td>5.0</td>\n      <td>-0.006173</td>\n      <td>8.0</td>\n      <td>-0.085227</td>\n      <td>4.0</td>\n      <td>-0.090395</td>\n      <td>6.0</td>\n      <td>...</td>\n      <td>1.007083</td>\n      <td>1.021940</td>\n      <td>2</td>\n      <td>4</td>\n      <td>2023</td>\n      <td>0.018634</td>\n      <td>NaN</td>\n      <td>NaN</td>\n      <td>NaN</td>\n      <td>NaN</td>\n    </tr>\n    <tr>\n      <th>2023-04-27</th>\n      <td>0.018634</td>\n      <td>16.0</td>\n      <td>0.000000</td>\n      <td>9.0</td>\n      <td>0.018634</td>\n      <td>12.0</td>\n      <td>-0.057471</td>\n      <td>5.0</td>\n      <td>-0.068182</td>\n      <td>7.0</td>\n      <td>...</td>\n      <td>1.025849</td>\n      <td>1.003246</td>\n      <td>3</td>\n      <td>4</td>\n      <td>2023</td>\n      <td>-0.012195</td>\n      <td>NaN</td>\n      <td>NaN</td>\n      <td>NaN</td>\n      <td>NaN</td>\n    </tr>\n    <tr>\n      <th>2023-04-28</th>\n      <td>-0.012195</td>\n      <td>4.0</td>\n      <td>0.006211</td>\n      <td>11.0</td>\n      <td>0.006211</td>\n      <td>10.0</td>\n      <td>-0.058140</td>\n      <td>5.0</td>\n      <td>-0.074286</td>\n      <td>6.0</td>\n      <td>...</td>\n      <td>1.010225</td>\n      <td>1.015059</td>\n      <td>4</td>\n      <td>4</td>\n      <td>2023</td>\n      <td>0.012346</td>\n      <td>NaN</td>\n      <td>NaN</td>\n      <td>NaN</td>\n      <td>NaN</td>\n    </tr>\n    <tr>\n      <th>2023-05-01</th>\n      <td>0.012346</td>\n      <td>15.0</td>\n      <td>0.006135</td>\n      <td>11.0</td>\n      <td>0.012346</td>\n      <td>11.0</td>\n      <td>-0.057471</td>\n      <td>5.0</td>\n      <td>-0.073446</td>\n      <td>7.0</td>\n      <td>...</td>\n      <td>1.023720</td>\n      <td>1.006098</td>\n      <td>0</td>\n      <td>5</td>\n      <td>2023</td>\n      <td>NaN</td>\n      <td>NaN</td>\n      <td>NaN</td>\n      <td>NaN</td>\n      <td>NaN</td>\n    </tr>\n  </tbody>\n</table>\n<p>5 rows × 23 columns</p>\n</div>"
     },
     "execution_count": 13,
     "metadata": {},
     "output_type": "execute_result"
    }
   ],
   "source": [
    "data.tail()"
   ],
   "metadata": {
    "collapsed": false,
    "pycharm": {
     "name": "#%%\n"
    }
   }
  },
  {
   "cell_type": "code",
   "execution_count": 15,
   "outputs": [
    {
     "data": {
      "text/plain": "                     open   high    low  close    volume\nticker  date                                            \n9997.JP 2023-04-25  727.0  734.0  724.0  727.0  125600.0\n        2023-04-26  728.0  738.0  726.0  734.0  150100.0\n        2023-04-27  733.0  733.0  727.0  732.0   73800.0\n        2023-04-28  738.0  745.0  738.0  745.0  127000.0\n        2023-05-01  749.0  753.0  741.0  746.0  131200.0",
      "text/html": "<div>\n<style scoped>\n    .dataframe tbody tr th:only-of-type {\n        vertical-align: middle;\n    }\n\n    .dataframe tbody tr th {\n        vertical-align: top;\n    }\n\n    .dataframe thead th {\n        text-align: right;\n    }\n</style>\n<table border=\"1\" class=\"dataframe\">\n  <thead>\n    <tr style=\"text-align: right;\">\n      <th></th>\n      <th></th>\n      <th>open</th>\n      <th>high</th>\n      <th>low</th>\n      <th>close</th>\n      <th>volume</th>\n    </tr>\n    <tr>\n      <th>ticker</th>\n      <th>date</th>\n      <th></th>\n      <th></th>\n      <th></th>\n      <th></th>\n      <th></th>\n    </tr>\n  </thead>\n  <tbody>\n    <tr>\n      <th rowspan=\"5\" valign=\"top\">9997.JP</th>\n      <th>2023-04-25</th>\n      <td>727.0</td>\n      <td>734.0</td>\n      <td>724.0</td>\n      <td>727.0</td>\n      <td>125600.0</td>\n    </tr>\n    <tr>\n      <th>2023-04-26</th>\n      <td>728.0</td>\n      <td>738.0</td>\n      <td>726.0</td>\n      <td>734.0</td>\n      <td>150100.0</td>\n    </tr>\n    <tr>\n      <th>2023-04-27</th>\n      <td>733.0</td>\n      <td>733.0</td>\n      <td>727.0</td>\n      <td>732.0</td>\n      <td>73800.0</td>\n    </tr>\n    <tr>\n      <th>2023-04-28</th>\n      <td>738.0</td>\n      <td>745.0</td>\n      <td>738.0</td>\n      <td>745.0</td>\n      <td>127000.0</td>\n    </tr>\n    <tr>\n      <th>2023-05-01</th>\n      <td>749.0</td>\n      <td>753.0</td>\n      <td>741.0</td>\n      <td>746.0</td>\n      <td>131200.0</td>\n    </tr>\n  </tbody>\n</table>\n</div>"
     },
     "execution_count": 15,
     "metadata": {},
     "output_type": "execute_result"
    }
   ],
   "source": [
    "prices = (pd.read_hdf(DATA_DIR / 'assets.h5', 'stooq/jp/tse/stocks/prices').loc[idx[:, '2010':'2023'],:])\n",
    "prices.tail()"
   ],
   "metadata": {
    "collapsed": false,
    "pycharm": {
     "name": "#%%\n"
    }
   }
  },
  {
   "cell_type": "code",
   "execution_count": 18,
   "outputs": [
    {
     "data": {
      "text/plain": "Index(['7131.JP', '4413.JP', '9252.JP', '4412.JP', '9253.JP', '9251.JP',\n       '9250.JP', '4379.JP', '4378.JP', '9249.JP'],\n      dtype='object', name='ticker')"
     },
     "execution_count": 18,
     "metadata": {},
     "output_type": "execute_result"
    }
   ],
   "source": [
    "dollar_vol = prices.close.mul(prices.volume)\n",
    "dollar_vol_rank = dollar_vol.groupby(level='ticker').rank(ascending=False)\n",
    "universe = dollar_vol_rank.groupby(level='ticker').mean().nsmallest(250).index\n",
    "universe[-10:]"
   ],
   "metadata": {
    "collapsed": false,
    "pycharm": {
     "name": "#%%\n"
    }
   }
  },
  {
   "cell_type": "code",
   "execution_count": null,
   "outputs": [],
   "source": [],
   "metadata": {
    "collapsed": false,
    "pycharm": {
     "name": "#%%\n"
    }
   }
  }
 ],
 "metadata": {
  "kernelspec": {
   "display_name": "Python 3",
   "language": "python",
   "name": "python3"
  },
  "language_info": {
   "codemirror_mode": {
    "name": "ipython",
    "version": 2
   },
   "file_extension": ".py",
   "mimetype": "text/x-python",
   "name": "python",
   "nbconvert_exporter": "python",
   "pygments_lexer": "ipython2",
   "version": "2.7.6"
  }
 },
 "nbformat": 4,
 "nbformat_minor": 0
}