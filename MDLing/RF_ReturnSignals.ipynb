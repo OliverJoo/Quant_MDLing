{
 "cells": [
  {
   "cell_type": "code",
   "execution_count": 1,
   "metadata": {
    "collapsed": true,
    "pycharm": {
     "name": "#%%\n"
    }
   },
   "outputs": [],
   "source": [
    "import warnings\n",
    "\n",
    "warnings.filterwarnings('ignore')\n",
    "\n",
    "%matplotlib inline\n",
    "\n",
    "from time import time\n",
    "from io import StringIO\n",
    "import sys, os\n",
    "from tqdm import tqdm\n",
    "\n",
    "from itertools import product\n",
    "from pathlib import Path\n",
    "\n",
    "import numpy as np\n",
    "import pandas as pd\n",
    "import statsmodels.api as sm\n",
    "\n",
    "import matplotlib.pyplot as plt\n",
    "import seaborn as sns\n",
    "\n",
    "import lightgbm as lgb\n",
    "\n",
    "from sklearn.linear_model import LinearRegression\n",
    "from scipy.stats import spearmanr\n",
    "\n",
    "from utils4t import MultipleTimeSeriesCV, format_time\n",
    "\n",
    "sys.path.insert(1, os.path.join(sys.path[0], '..'))\n",
    "\n",
    "sns.set_style('whitegrid')\n",
    "np.random.seed(42)\n",
    "\n",
    "YEAR = 252\n",
    "idx = pd.IndexSlice\n",
    "DATA_DIR = Path('data')\n",
    "\n",
    "results_path = Path('results', 'return_predictions')\n",
    "if not results_path.exists():\n",
    "    results_path.mkdir(parents=True)"
   ]
  },
  {
   "cell_type": "code",
   "execution_count": 2,
   "outputs": [
    {
     "name": "stdout",
     "output_type": "stream",
     "text": [
      "<class 'pandas.core.frame.DataFrame'>\n",
      "MultiIndex: 3081645 entries, ('9984.JP', Timestamp('2010-01-04 00:00:00')) to ('3053.JP', Timestamp('2023-05-01 00:00:00'))\n",
      "Data columns (total 23 columns):\n",
      " #   Column           Non-Null Count    Dtype  \n",
      "---  ------           --------------    -----  \n",
      " 0   ret_1            3080700 non-null  float64\n",
      " 1   ret_rel_perc_1   3080700 non-null  float64\n",
      " 2   ret_5            3076920 non-null  float64\n",
      " 3   ret_rel_perc_5   3076920 non-null  float64\n",
      " 4   ret_10           3072195 non-null  float64\n",
      " 5   ret_rel_perc_10  3072195 non-null  float64\n",
      " 6   ret_21           3061800 non-null  float64\n",
      " 7   ret_rel_perc_21  3061800 non-null  float64\n",
      " 8   ret_63           3022110 non-null  float64\n",
      " 9   ret_rel_perc_63  3022110 non-null  float64\n",
      " 10  PPO              3058020 non-null  float64\n",
      " 11  NATR             3068415 non-null  float64\n",
      " 12  RSI              3068415 non-null  float64\n",
      " 13  bbl              3077865 non-null  float64\n",
      " 14  bbu              3077865 non-null  float64\n",
      " 15  weekday          3081645 non-null  int64  \n",
      " 16  month            3081645 non-null  int64  \n",
      " 17  year             3081645 non-null  int64  \n",
      " 18  fwd_ret_01       3080700 non-null  float64\n",
      " 19  fwd_ret_05       3076920 non-null  float64\n",
      " 20  fwd_ret_10       3072195 non-null  float64\n",
      " 21  fwd_ret_21       3061800 non-null  float64\n",
      " 22  fwd_ret_63       3022110 non-null  float64\n",
      "dtypes: float64(20), int64(3)\n",
      "memory usage: 552.7+ MB\n"
     ]
    },
    {
     "data": {
      "text/plain": "(None, 945)"
     },
     "execution_count": 2,
     "metadata": {},
     "output_type": "execute_result"
    }
   ],
   "source": [
    "# load feature engineering\n",
    "data = pd.read_hdf(DATA_DIR / 'data.h5', 'stooq/japan/equities')\n",
    "data.info(null_counts=True), len(data.index.unique('ticker'))"
   ],
   "metadata": {
    "collapsed": false,
    "pycharm": {
     "name": "#%%\n"
    }
   }
  },
  {
   "cell_type": "code",
   "execution_count": 3,
   "outputs": [
    {
     "data": {
      "text/plain": "                       ret_1  ret_rel_perc_1     ret_5  ret_rel_perc_5  \\\nticker  date                                                             \n3053.JP 2023-04-25 -0.006135             3.0 -0.024096             1.0   \n        2023-04-26 -0.006173            12.0 -0.024242             3.0   \n        2023-04-27  0.018634            18.0  0.000000            10.0   \n        2023-04-28 -0.012195             0.0  0.006211             6.0   \n        2023-05-01  0.012346            12.0  0.006135             5.0   \n\n                      ret_10  ret_rel_perc_10    ret_21  ret_rel_perc_21  \\\nticker  date                                                               \n3053.JP 2023-04-25  0.000000              3.0 -0.074286              0.0   \n        2023-04-26 -0.006173              5.0 -0.085227              0.0   \n        2023-04-27  0.018634             11.0 -0.057471              1.0   \n        2023-04-28  0.006211              5.0 -0.058140              0.0   \n        2023-05-01  0.012346              5.0 -0.057471              1.0   \n\n                      ret_63  ret_rel_perc_63  ...       bbl       bbu  \\\nticker  date                                   ...                       \n3053.JP 2023-04-25 -0.079545              1.0  ...  1.011415  1.023632   \n        2023-04-26 -0.090395              1.0  ...  1.007083  1.021940   \n        2023-04-27 -0.068182              2.0  ...  1.025849  1.003246   \n        2023-04-28 -0.074286              1.0  ...  1.010225  1.015059   \n        2023-05-01 -0.073446              1.0  ...  1.023720  1.006098   \n\n                    weekday  month  year  fwd_ret_01  fwd_ret_05  fwd_ret_10  \\\nticker  date                                                                   \n3053.JP 2023-04-25        1      4  2023   -0.006173         NaN         NaN   \n        2023-04-26        2      4  2023    0.018634         NaN         NaN   \n        2023-04-27        3      4  2023   -0.012195         NaN         NaN   \n        2023-04-28        4      4  2023    0.012346         NaN         NaN   \n        2023-05-01        0      5  2023         NaN         NaN         NaN   \n\n                    fwd_ret_21  fwd_ret_63  \nticker  date                                \n3053.JP 2023-04-25         NaN         NaN  \n        2023-04-26         NaN         NaN  \n        2023-04-27         NaN         NaN  \n        2023-04-28         NaN         NaN  \n        2023-05-01         NaN         NaN  \n\n[5 rows x 23 columns]",
      "text/html": "<div>\n<style scoped>\n    .dataframe tbody tr th:only-of-type {\n        vertical-align: middle;\n    }\n\n    .dataframe tbody tr th {\n        vertical-align: top;\n    }\n\n    .dataframe thead th {\n        text-align: right;\n    }\n</style>\n<table border=\"1\" class=\"dataframe\">\n  <thead>\n    <tr style=\"text-align: right;\">\n      <th></th>\n      <th></th>\n      <th>ret_1</th>\n      <th>ret_rel_perc_1</th>\n      <th>ret_5</th>\n      <th>ret_rel_perc_5</th>\n      <th>ret_10</th>\n      <th>ret_rel_perc_10</th>\n      <th>ret_21</th>\n      <th>ret_rel_perc_21</th>\n      <th>ret_63</th>\n      <th>ret_rel_perc_63</th>\n      <th>...</th>\n      <th>bbl</th>\n      <th>bbu</th>\n      <th>weekday</th>\n      <th>month</th>\n      <th>year</th>\n      <th>fwd_ret_01</th>\n      <th>fwd_ret_05</th>\n      <th>fwd_ret_10</th>\n      <th>fwd_ret_21</th>\n      <th>fwd_ret_63</th>\n    </tr>\n    <tr>\n      <th>ticker</th>\n      <th>date</th>\n      <th></th>\n      <th></th>\n      <th></th>\n      <th></th>\n      <th></th>\n      <th></th>\n      <th></th>\n      <th></th>\n      <th></th>\n      <th></th>\n      <th></th>\n      <th></th>\n      <th></th>\n      <th></th>\n      <th></th>\n      <th></th>\n      <th></th>\n      <th></th>\n      <th></th>\n      <th></th>\n      <th></th>\n    </tr>\n  </thead>\n  <tbody>\n    <tr>\n      <th rowspan=\"5\" valign=\"top\">3053.JP</th>\n      <th>2023-04-25</th>\n      <td>-0.006135</td>\n      <td>3.0</td>\n      <td>-0.024096</td>\n      <td>1.0</td>\n      <td>0.000000</td>\n      <td>3.0</td>\n      <td>-0.074286</td>\n      <td>0.0</td>\n      <td>-0.079545</td>\n      <td>1.0</td>\n      <td>...</td>\n      <td>1.011415</td>\n      <td>1.023632</td>\n      <td>1</td>\n      <td>4</td>\n      <td>2023</td>\n      <td>-0.006173</td>\n      <td>NaN</td>\n      <td>NaN</td>\n      <td>NaN</td>\n      <td>NaN</td>\n    </tr>\n    <tr>\n      <th>2023-04-26</th>\n      <td>-0.006173</td>\n      <td>12.0</td>\n      <td>-0.024242</td>\n      <td>3.0</td>\n      <td>-0.006173</td>\n      <td>5.0</td>\n      <td>-0.085227</td>\n      <td>0.0</td>\n      <td>-0.090395</td>\n      <td>1.0</td>\n      <td>...</td>\n      <td>1.007083</td>\n      <td>1.021940</td>\n      <td>2</td>\n      <td>4</td>\n      <td>2023</td>\n      <td>0.018634</td>\n      <td>NaN</td>\n      <td>NaN</td>\n      <td>NaN</td>\n      <td>NaN</td>\n    </tr>\n    <tr>\n      <th>2023-04-27</th>\n      <td>0.018634</td>\n      <td>18.0</td>\n      <td>0.000000</td>\n      <td>10.0</td>\n      <td>0.018634</td>\n      <td>11.0</td>\n      <td>-0.057471</td>\n      <td>1.0</td>\n      <td>-0.068182</td>\n      <td>2.0</td>\n      <td>...</td>\n      <td>1.025849</td>\n      <td>1.003246</td>\n      <td>3</td>\n      <td>4</td>\n      <td>2023</td>\n      <td>-0.012195</td>\n      <td>NaN</td>\n      <td>NaN</td>\n      <td>NaN</td>\n      <td>NaN</td>\n    </tr>\n    <tr>\n      <th>2023-04-28</th>\n      <td>-0.012195</td>\n      <td>0.0</td>\n      <td>0.006211</td>\n      <td>6.0</td>\n      <td>0.006211</td>\n      <td>5.0</td>\n      <td>-0.058140</td>\n      <td>0.0</td>\n      <td>-0.074286</td>\n      <td>1.0</td>\n      <td>...</td>\n      <td>1.010225</td>\n      <td>1.015059</td>\n      <td>4</td>\n      <td>4</td>\n      <td>2023</td>\n      <td>0.012346</td>\n      <td>NaN</td>\n      <td>NaN</td>\n      <td>NaN</td>\n      <td>NaN</td>\n    </tr>\n    <tr>\n      <th>2023-05-01</th>\n      <td>0.012346</td>\n      <td>12.0</td>\n      <td>0.006135</td>\n      <td>5.0</td>\n      <td>0.012346</td>\n      <td>5.0</td>\n      <td>-0.057471</td>\n      <td>1.0</td>\n      <td>-0.073446</td>\n      <td>1.0</td>\n      <td>...</td>\n      <td>1.023720</td>\n      <td>1.006098</td>\n      <td>0</td>\n      <td>5</td>\n      <td>2023</td>\n      <td>NaN</td>\n      <td>NaN</td>\n      <td>NaN</td>\n      <td>NaN</td>\n      <td>NaN</td>\n    </tr>\n  </tbody>\n</table>\n<p>5 rows × 23 columns</p>\n</div>"
     },
     "execution_count": 3,
     "metadata": {},
     "output_type": "execute_result"
    }
   ],
   "source": [
    "data.tail()"
   ],
   "metadata": {
    "collapsed": false,
    "pycharm": {
     "name": "#%%\n"
    }
   }
  },
  {
   "cell_type": "code",
   "execution_count": 4,
   "outputs": [
    {
     "data": {
      "text/plain": "                     open   high    low  close    volume\nticker  date                                            \n9997.JP 2023-04-25  727.0  734.0  724.0  727.0  125600.0\n        2023-04-26  728.0  738.0  726.0  734.0  150100.0\n        2023-04-27  733.0  733.0  727.0  732.0   73800.0\n        2023-04-28  738.0  745.0  738.0  745.0  127000.0\n        2023-05-01  749.0  753.0  741.0  746.0  131200.0",
      "text/html": "<div>\n<style scoped>\n    .dataframe tbody tr th:only-of-type {\n        vertical-align: middle;\n    }\n\n    .dataframe tbody tr th {\n        vertical-align: top;\n    }\n\n    .dataframe thead th {\n        text-align: right;\n    }\n</style>\n<table border=\"1\" class=\"dataframe\">\n  <thead>\n    <tr style=\"text-align: right;\">\n      <th></th>\n      <th></th>\n      <th>open</th>\n      <th>high</th>\n      <th>low</th>\n      <th>close</th>\n      <th>volume</th>\n    </tr>\n    <tr>\n      <th>ticker</th>\n      <th>date</th>\n      <th></th>\n      <th></th>\n      <th></th>\n      <th></th>\n      <th></th>\n    </tr>\n  </thead>\n  <tbody>\n    <tr>\n      <th rowspan=\"5\" valign=\"top\">9997.JP</th>\n      <th>2023-04-25</th>\n      <td>727.0</td>\n      <td>734.0</td>\n      <td>724.0</td>\n      <td>727.0</td>\n      <td>125600.0</td>\n    </tr>\n    <tr>\n      <th>2023-04-26</th>\n      <td>728.0</td>\n      <td>738.0</td>\n      <td>726.0</td>\n      <td>734.0</td>\n      <td>150100.0</td>\n    </tr>\n    <tr>\n      <th>2023-04-27</th>\n      <td>733.0</td>\n      <td>733.0</td>\n      <td>727.0</td>\n      <td>732.0</td>\n      <td>73800.0</td>\n    </tr>\n    <tr>\n      <th>2023-04-28</th>\n      <td>738.0</td>\n      <td>745.0</td>\n      <td>738.0</td>\n      <td>745.0</td>\n      <td>127000.0</td>\n    </tr>\n    <tr>\n      <th>2023-05-01</th>\n      <td>749.0</td>\n      <td>753.0</td>\n      <td>741.0</td>\n      <td>746.0</td>\n      <td>131200.0</td>\n    </tr>\n  </tbody>\n</table>\n</div>"
     },
     "execution_count": 4,
     "metadata": {},
     "output_type": "execute_result"
    }
   ],
   "source": [
    "prices = (pd.read_hdf(DATA_DIR / 'assets.h5', 'stooq/jp/tse/stocks/prices').loc[idx[:, '2010':'2023'], :])\n",
    "prices.tail()"
   ],
   "metadata": {
    "collapsed": false,
    "pycharm": {
     "name": "#%%\n"
    }
   }
  },
  {
   "cell_type": "code",
   "execution_count": 6,
   "outputs": [
    {
     "name": "stdout",
     "output_type": "stream",
     "text": [
      "Index(['6472.JP', '6448.JP', '9513.JP', '8354.JP', '3861.JP', '7911.JP',\n",
      "       '4182.JP', '6963.JP', '7936.JP', '4768.JP'],\n",
      "      dtype='object', name='ticker')\n"
     ]
    }
   ],
   "source": [
    "dollar_vol = prices.close.mul(prices.volume)\n",
    "dollar_vol_rank = dollar_vol.groupby(level='date').rank(ascending=False)\n",
    "universe = dollar_vol_rank.groupby(level='ticker').mean().nsmallest(250).index\n",
    "universe[-10:]"
   ],
   "metadata": {
    "collapsed": false,
    "pycharm": {
     "name": "#%%\n"
    }
   }
  },
  {
   "cell_type": "code",
   "execution_count": 7,
   "outputs": [
    {
     "name": "stdout",
     "output_type": "stream",
     "text": [
      "Training: 2021-03-01 ~ 2023-03-27(508 days)|Test: 2023-04-03 ~ 2023-05-01(21 days)\n",
      "Training: 2021-01-27 ~ 2023-02-22(508 days)|Test: 2023-03-02 ~ 2023-03-31(21 days)\n",
      "Training: 2020-12-24 ~ 2023-01-24(508 days)|Test: 2023-01-31 ~ 2023-03-01(21 days)\n",
      "Training: 2020-11-25 ~ 2022-12-21(508 days)|Test: 2022-12-28 ~ 2023-01-30(21 days)\n",
      "Training: 2020-10-23 ~ 2022-11-21(508 days)|Test: 2022-11-29 ~ 2022-12-27(21 days)\n",
      "Training: 2020-09-23 ~ 2022-10-20(508 days)|Test: 2022-10-27 ~ 2022-11-28(21 days)\n",
      "Training: 2020-08-21 ~ 2022-09-16(508 days)|Test: 2022-09-27 ~ 2022-10-26(21 days)\n",
      "Training: 2020-07-20 ~ 2022-08-18(508 days)|Test: 2022-08-25 ~ 2022-09-26(21 days)\n",
      "Training: 2020-06-19 ~ 2022-07-19(508 days)|Test: 2022-07-26 ~ 2022-08-24(21 days)\n",
      "Training: 2020-05-21 ~ 2022-06-17(508 days)|Test: 2022-06-24 ~ 2022-07-25(21 days)\n",
      "Training: 2020-04-16 ~ 2022-05-19(508 days)|Test: 2022-05-26 ~ 2022-06-23(21 days)\n",
      "Training: 2020-03-17 ~ 2022-04-14(508 days)|Test: 2022-04-21 ~ 2022-05-25(21 days)\n",
      "Training: 2020-02-14 ~ 2022-03-15(508 days)|Test: 2022-03-23 ~ 2022-04-20(21 days)\n",
      "Training: 2020-01-15 ~ 2022-02-10(508 days)|Test: 2022-02-18 ~ 2022-03-22(21 days)\n",
      "Training: 2019-12-10 ~ 2022-01-12(508 days)|Test: 2022-01-19 ~ 2022-02-17(21 days)\n",
      "Training: 2019-11-11 ~ 2021-12-09(508 days)|Test: 2021-12-16 ~ 2022-01-18(21 days)\n",
      "Training: 2019-10-08 ~ 2021-11-09(508 days)|Test: 2021-11-16 ~ 2021-12-15(21 days)\n",
      "Training: 2019-09-05 ~ 2021-10-08(508 days)|Test: 2021-10-15 ~ 2021-11-15(21 days)\n",
      "Training: 2019-08-06 ~ 2021-09-07(508 days)|Test: 2021-09-14 ~ 2021-10-14(21 days)\n",
      "Training: 2019-07-05 ~ 2021-08-06(508 days)|Test: 2021-08-16 ~ 2021-09-13(21 days)\n",
      "Training: 2019-06-06 ~ 2021-07-06(508 days)|Test: 2021-07-13 ~ 2021-08-13(21 days)\n",
      "Training: 2019-05-08 ~ 2021-06-07(508 days)|Test: 2021-06-14 ~ 2021-07-12(21 days)\n",
      "Training: 2019-04-01 ~ 2021-05-07(508 days)|Test: 2021-05-14 ~ 2021-06-11(21 days)\n",
      "Training: 2019-02-28 ~ 2021-04-02(508 days)|Test: 2021-04-09 ~ 2021-05-13(21 days)\n",
      "Training: 2019-01-29 ~ 2021-03-04(508 days)|Test: 2021-03-11 ~ 2021-04-08(21 days)\n",
      "Training: 2018-12-21 ~ 2021-02-01(508 days)|Test: 2021-02-08 ~ 2021-03-10(21 days)\n",
      "Training: 2018-11-21 ~ 2020-12-29(508 days)|Test: 2021-01-07 ~ 2021-02-05(21 days)\n",
      "Training: 2018-10-23 ~ 2020-11-30(508 days)|Test: 2020-12-07 ~ 2021-01-06(21 days)\n",
      "Training: 2018-09-20 ~ 2020-10-28(508 days)|Test: 2020-11-05 ~ 2020-12-04(21 days)\n",
      "Training: 2018-08-21 ~ 2020-09-28(508 days)|Test: 2020-10-06 ~ 2020-11-04(21 days)\n",
      "Training: 2018-07-23 ~ 2020-08-26(508 days)|Test: 2020-09-02 ~ 2020-10-05(21 days)\n",
      "Training: 2018-06-21 ~ 2020-07-27(508 days)|Test: 2020-08-03 ~ 2020-09-01(21 days)\n",
      "Training: 2018-05-23 ~ 2020-06-24(508 days)|Test: 2020-07-01 ~ 2020-07-31(21 days)\n",
      "Training: 2018-04-19 ~ 2020-05-26(508 days)|Test: 2020-06-02 ~ 2020-06-30(21 days)\n",
      "Training: 2018-03-20 ~ 2020-04-21(508 days)|Test: 2020-04-28 ~ 2020-06-01(21 days)\n",
      "Training: 2018-02-19 ~ 2020-03-23(508 days)|Test: 2020-03-30 ~ 2020-04-27(21 days)\n"
     ]
    }
   ],
   "source": [
    "cv = MultipleTimeSeriesCV(n_splits=36, test_period_length=21, lookahead=5, train_period_length=2 * YEAR)\n",
    "\n",
    "for i, (train_idx, test_idx) in enumerate(cv.split(X=data)):\n",
    "    train = data.iloc[train_idx]\n",
    "    train_dates = train.index.get_level_values('date')\n",
    "    test = data.iloc[test_idx]\n",
    "    test_dates = test.index.get_level_values('date')\n",
    "    df = train.reset_index().append(test.reset_index())\n",
    "    n = len(df)\n",
    "    assert n == len(df.drop_duplicates())\n",
    "    msg = f'Training: {train_dates.min().date()} ~ {train_dates.max().date()}'\n",
    "    msg += f'({train.groupby(level=\"ticker\").size().value_counts().index[0]:,.0f} days)|'\n",
    "    msg += f'Test: {test_dates.min().date()} ~ {test_dates.max().date()}'\n",
    "    msg += f'({test.groupby(level=\"ticker\").size().value_counts().index[0]:,.0f} days)'\n",
    "    print(msg)\n",
    "    # if i % 6:\n",
    "    #     break"
   ],
   "metadata": {
    "collapsed": false,
    "pycharm": {
     "name": "#%%\n"
    }
   }
  },
  {
   "cell_type": "code",
   "execution_count": 8,
   "outputs": [
    {
     "ename": "UnsortedIndexError",
     "evalue": "'MultiIndex slicing requires the index to be lexsorted: slicing on levels [1], lexsort depth 0'",
     "output_type": "error",
     "traceback": [
      "\u001B[1;31m---------------------------------------------------------------------------\u001B[0m",
      "\u001B[1;31mUnsortedIndexError\u001B[0m                        Traceback (most recent call last)",
      "Input \u001B[1;32mIn [8]\u001B[0m, in \u001B[0;36m<cell line: 1>\u001B[1;34m()\u001B[0m\n\u001B[1;32m----> 1\u001B[0m \u001B[43mdata\u001B[49m\u001B[38;5;241;43m.\u001B[39;49m\u001B[43mloc\u001B[49m\u001B[43m[\u001B[49m\u001B[43midx\u001B[49m\u001B[43m[\u001B[49m\u001B[43muniverse\u001B[49m\u001B[43m,\u001B[49m\u001B[43m \u001B[49m\u001B[43m:\u001B[49m\u001B[38;5;124;43m'\u001B[39;49m\u001B[38;5;124;43m2020\u001B[39;49m\u001B[38;5;124;43m'\u001B[39;49m\u001B[43m]\u001B[49m\u001B[43m,\u001B[49m\u001B[43m \u001B[49m\u001B[43m:\u001B[49m\u001B[43m]\u001B[49m\n",
      "File \u001B[1;32mD:\\99.Dev\\Python\\pythonProject\\lib\\site-packages\\pandas\\core\\indexing.py:1067\u001B[0m, in \u001B[0;36m_LocationIndexer.__getitem__\u001B[1;34m(self, key)\u001B[0m\n\u001B[0;32m   1065\u001B[0m     \u001B[38;5;28;01mif\u001B[39;00m \u001B[38;5;28mself\u001B[39m\u001B[38;5;241m.\u001B[39m_is_scalar_access(key):\n\u001B[0;32m   1066\u001B[0m         \u001B[38;5;28;01mreturn\u001B[39;00m \u001B[38;5;28mself\u001B[39m\u001B[38;5;241m.\u001B[39mobj\u001B[38;5;241m.\u001B[39m_get_value(\u001B[38;5;241m*\u001B[39mkey, takeable\u001B[38;5;241m=\u001B[39m\u001B[38;5;28mself\u001B[39m\u001B[38;5;241m.\u001B[39m_takeable)\n\u001B[1;32m-> 1067\u001B[0m     \u001B[38;5;28;01mreturn\u001B[39;00m \u001B[38;5;28;43mself\u001B[39;49m\u001B[38;5;241;43m.\u001B[39;49m\u001B[43m_getitem_tuple\u001B[49m\u001B[43m(\u001B[49m\u001B[43mkey\u001B[49m\u001B[43m)\u001B[49m\n\u001B[0;32m   1068\u001B[0m \u001B[38;5;28;01melse\u001B[39;00m:\n\u001B[0;32m   1069\u001B[0m     \u001B[38;5;66;03m# we by definition only have the 0th axis\u001B[39;00m\n\u001B[0;32m   1070\u001B[0m     axis \u001B[38;5;241m=\u001B[39m \u001B[38;5;28mself\u001B[39m\u001B[38;5;241m.\u001B[39maxis \u001B[38;5;129;01mor\u001B[39;00m \u001B[38;5;241m0\u001B[39m\n",
      "File \u001B[1;32mD:\\99.Dev\\Python\\pythonProject\\lib\\site-packages\\pandas\\core\\indexing.py:1247\u001B[0m, in \u001B[0;36m_LocIndexer._getitem_tuple\u001B[1;34m(self, tup)\u001B[0m\n\u001B[0;32m   1245\u001B[0m \u001B[38;5;28;01mwith\u001B[39;00m suppress(IndexingError):\n\u001B[0;32m   1246\u001B[0m     tup \u001B[38;5;241m=\u001B[39m \u001B[38;5;28mself\u001B[39m\u001B[38;5;241m.\u001B[39m_expand_ellipsis(tup)\n\u001B[1;32m-> 1247\u001B[0m     \u001B[38;5;28;01mreturn\u001B[39;00m \u001B[38;5;28;43mself\u001B[39;49m\u001B[38;5;241;43m.\u001B[39;49m\u001B[43m_getitem_lowerdim\u001B[49m\u001B[43m(\u001B[49m\u001B[43mtup\u001B[49m\u001B[43m)\u001B[49m\n\u001B[0;32m   1249\u001B[0m \u001B[38;5;66;03m# no multi-index, so validate all of the indexers\u001B[39;00m\n\u001B[0;32m   1250\u001B[0m tup \u001B[38;5;241m=\u001B[39m \u001B[38;5;28mself\u001B[39m\u001B[38;5;241m.\u001B[39m_validate_tuple_indexer(tup)\n",
      "File \u001B[1;32mD:\\99.Dev\\Python\\pythonProject\\lib\\site-packages\\pandas\\core\\indexing.py:941\u001B[0m, in \u001B[0;36m_LocationIndexer._getitem_lowerdim\u001B[1;34m(self, tup)\u001B[0m\n\u001B[0;32m    939\u001B[0m \u001B[38;5;66;03m# we may have a nested tuples indexer here\u001B[39;00m\n\u001B[0;32m    940\u001B[0m \u001B[38;5;28;01mif\u001B[39;00m \u001B[38;5;28mself\u001B[39m\u001B[38;5;241m.\u001B[39m_is_nested_tuple_indexer(tup):\n\u001B[1;32m--> 941\u001B[0m     \u001B[38;5;28;01mreturn\u001B[39;00m \u001B[38;5;28;43mself\u001B[39;49m\u001B[38;5;241;43m.\u001B[39;49m\u001B[43m_getitem_nested_tuple\u001B[49m\u001B[43m(\u001B[49m\u001B[43mtup\u001B[49m\u001B[43m)\u001B[49m\n\u001B[0;32m    943\u001B[0m \u001B[38;5;66;03m# we maybe be using a tuple to represent multiple dimensions here\u001B[39;00m\n\u001B[0;32m    944\u001B[0m ax0 \u001B[38;5;241m=\u001B[39m \u001B[38;5;28mself\u001B[39m\u001B[38;5;241m.\u001B[39mobj\u001B[38;5;241m.\u001B[39m_get_axis(\u001B[38;5;241m0\u001B[39m)\n",
      "File \u001B[1;32mD:\\99.Dev\\Python\\pythonProject\\lib\\site-packages\\pandas\\core\\indexing.py:1047\u001B[0m, in \u001B[0;36m_LocationIndexer._getitem_nested_tuple\u001B[1;34m(self, tup)\u001B[0m\n\u001B[0;32m   1044\u001B[0m     axis \u001B[38;5;241m-\u001B[39m\u001B[38;5;241m=\u001B[39m \u001B[38;5;241m1\u001B[39m\n\u001B[0;32m   1045\u001B[0m     \u001B[38;5;28;01mcontinue\u001B[39;00m\n\u001B[1;32m-> 1047\u001B[0m obj \u001B[38;5;241m=\u001B[39m \u001B[38;5;28;43mgetattr\u001B[39;49m\u001B[43m(\u001B[49m\u001B[43mobj\u001B[49m\u001B[43m,\u001B[49m\u001B[43m \u001B[49m\u001B[38;5;28;43mself\u001B[39;49m\u001B[38;5;241;43m.\u001B[39;49m\u001B[43mname\u001B[49m\u001B[43m)\u001B[49m\u001B[38;5;241;43m.\u001B[39;49m\u001B[43m_getitem_axis\u001B[49m\u001B[43m(\u001B[49m\u001B[43mkey\u001B[49m\u001B[43m,\u001B[49m\u001B[43m \u001B[49m\u001B[43maxis\u001B[49m\u001B[38;5;241;43m=\u001B[39;49m\u001B[43maxis\u001B[49m\u001B[43m)\u001B[49m\n\u001B[0;32m   1048\u001B[0m axis \u001B[38;5;241m-\u001B[39m\u001B[38;5;241m=\u001B[39m \u001B[38;5;241m1\u001B[39m\n\u001B[0;32m   1050\u001B[0m \u001B[38;5;66;03m# if we have a scalar, we are done\u001B[39;00m\n",
      "File \u001B[1;32mD:\\99.Dev\\Python\\pythonProject\\lib\\site-packages\\pandas\\core\\indexing.py:1305\u001B[0m, in \u001B[0;36m_LocIndexer._getitem_axis\u001B[1;34m(self, key, axis)\u001B[0m\n\u001B[0;32m   1303\u001B[0m \u001B[38;5;66;03m# nested tuple slicing\u001B[39;00m\n\u001B[0;32m   1304\u001B[0m \u001B[38;5;28;01mif\u001B[39;00m is_nested_tuple(key, labels):\n\u001B[1;32m-> 1305\u001B[0m     locs \u001B[38;5;241m=\u001B[39m \u001B[43mlabels\u001B[49m\u001B[38;5;241;43m.\u001B[39;49m\u001B[43mget_locs\u001B[49m\u001B[43m(\u001B[49m\u001B[43mkey\u001B[49m\u001B[43m)\u001B[49m\n\u001B[0;32m   1306\u001B[0m     indexer \u001B[38;5;241m=\u001B[39m [\u001B[38;5;28mslice\u001B[39m(\u001B[38;5;28;01mNone\u001B[39;00m)] \u001B[38;5;241m*\u001B[39m \u001B[38;5;28mself\u001B[39m\u001B[38;5;241m.\u001B[39mndim\n\u001B[0;32m   1307\u001B[0m     indexer[axis] \u001B[38;5;241m=\u001B[39m locs\n",
      "File \u001B[1;32mD:\\99.Dev\\Python\\pythonProject\\lib\\site-packages\\pandas\\core\\indexes\\multi.py:3331\u001B[0m, in \u001B[0;36mMultiIndex.get_locs\u001B[1;34m(self, seq)\u001B[0m\n\u001B[0;32m   3329\u001B[0m true_slices \u001B[38;5;241m=\u001B[39m [i \u001B[38;5;28;01mfor\u001B[39;00m (i, s) \u001B[38;5;129;01min\u001B[39;00m \u001B[38;5;28menumerate\u001B[39m(com\u001B[38;5;241m.\u001B[39mis_true_slices(seq)) \u001B[38;5;28;01mif\u001B[39;00m s]\n\u001B[0;32m   3330\u001B[0m \u001B[38;5;28;01mif\u001B[39;00m true_slices \u001B[38;5;129;01mand\u001B[39;00m true_slices[\u001B[38;5;241m-\u001B[39m\u001B[38;5;241m1\u001B[39m] \u001B[38;5;241m>\u001B[39m\u001B[38;5;241m=\u001B[39m \u001B[38;5;28mself\u001B[39m\u001B[38;5;241m.\u001B[39m_lexsort_depth:\n\u001B[1;32m-> 3331\u001B[0m     \u001B[38;5;28;01mraise\u001B[39;00m UnsortedIndexError(\n\u001B[0;32m   3332\u001B[0m         \u001B[38;5;124m\"\u001B[39m\u001B[38;5;124mMultiIndex slicing requires the index to be lexsorted: slicing \u001B[39m\u001B[38;5;124m\"\u001B[39m\n\u001B[0;32m   3333\u001B[0m         \u001B[38;5;124mf\u001B[39m\u001B[38;5;124m\"\u001B[39m\u001B[38;5;124mon levels \u001B[39m\u001B[38;5;132;01m{\u001B[39;00mtrue_slices\u001B[38;5;132;01m}\u001B[39;00m\u001B[38;5;124m, lexsort depth \u001B[39m\u001B[38;5;132;01m{\u001B[39;00m\u001B[38;5;28mself\u001B[39m\u001B[38;5;241m.\u001B[39m_lexsort_depth\u001B[38;5;132;01m}\u001B[39;00m\u001B[38;5;124m\"\u001B[39m\n\u001B[0;32m   3334\u001B[0m     )\n\u001B[0;32m   3336\u001B[0m \u001B[38;5;28;01mif\u001B[39;00m \u001B[38;5;28many\u001B[39m(x \u001B[38;5;129;01mis\u001B[39;00m \u001B[38;5;28mEllipsis\u001B[39m \u001B[38;5;28;01mfor\u001B[39;00m x \u001B[38;5;129;01min\u001B[39;00m seq):\n\u001B[0;32m   3337\u001B[0m     \u001B[38;5;28;01mraise\u001B[39;00m \u001B[38;5;167;01mNotImplementedError\u001B[39;00m(\n\u001B[0;32m   3338\u001B[0m         \u001B[38;5;124m\"\u001B[39m\u001B[38;5;124mMultiIndex does not support indexing with Ellipsis\u001B[39m\u001B[38;5;124m\"\u001B[39m\n\u001B[0;32m   3339\u001B[0m     )\n",
      "\u001B[1;31mUnsortedIndexError\u001B[0m: 'MultiIndex slicing requires the index to be lexsorted: slicing on levels [1], lexsort depth 0'"
     ]
    }
   ],
   "source": [
    " data.loc[idx[universe, :'2020'], :]"
   ],
   "metadata": {
    "collapsed": false,
    "pycharm": {
     "name": "#%%\n"
    }
   }
  },
  {
   "cell_type": "code",
   "execution_count": 9,
   "outputs": [],
   "source": [
    "data = data.sort_index()\n",
    "cv_data = data.loc[idx[universe, : '2022'], :]\n",
    "tickers = cv_data.index.unique('ticker')"
   ],
   "metadata": {
    "collapsed": false,
    "pycharm": {
     "name": "#%%\n"
    }
   }
  },
  {
   "cell_type": "code",
   "execution_count": 10,
   "outputs": [
    {
     "data": {
      "text/plain": "                       ret_1  ret_rel_perc_1     ret_5  ret_rel_perc_5  \\\nticker  date                                                             \n4768.JP 2022-12-26 -0.001190             5.0 -0.032295             6.0   \n        2022-12-27  0.002384             8.0  0.003580            10.0   \n        2022-12-28  0.001189            11.0  0.013237            10.0   \n        2022-12-29 -0.019002             2.0 -0.021327             3.0   \n        2022-12-30  0.006053            15.0 -0.010714             3.0   \n\n                      ret_10  ret_rel_perc_10    ret_21  ret_rel_perc_21  \\\nticker  date                                                               \n4768.JP 2022-12-26 -0.030058              8.0 -0.104589              3.0   \n        2022-12-27 -0.027746              8.0 -0.094726              4.0   \n        2022-12-28 -0.045351              6.0 -0.093649              3.0   \n        2022-12-29 -0.048387              6.0 -0.096280              3.0   \n        2022-12-30 -0.047018              5.0 -0.082781              4.0   \n\n                      ret_63  ret_rel_perc_63  ...       bbl       bbu  \\\nticker  date                                   ...                       \n4768.JP 2022-12-26 -0.045506              7.0  ...  1.010901  1.009353   \n        2022-12-27 -0.038857              5.0  ...  1.012853  1.007933   \n        2022-12-28 -0.042093              5.0  ...  1.005062  1.003136   \n        2022-12-29 -0.070866              3.0  ...  1.000207  1.028294   \n        2022-12-30 -0.083793              3.0  ...  1.009332  1.020799   \n\n                    weekday  month  year  fwd_ret_01  fwd_ret_05  fwd_ret_10  \\\nticker  date                                                                   \n4768.JP 2022-12-26        0     12  2022    0.002384   -0.026222   -0.009535   \n        2022-12-27        1     12  2022    0.001189   -0.015458   -0.035672   \n        2022-12-28        2     12  2022   -0.019002   -0.015439   -0.030879   \n        2022-12-29        3     12  2022    0.006053    0.014528   -0.014528   \n        2022-12-30        4     12  2022   -0.016847    0.006017   -0.006017   \n\n                    fwd_ret_21  fwd_ret_63  \nticker  date                                \n4768.JP 2022-12-26    0.015495    0.109654  \n        2022-12-27    0.015458    0.114150  \n        2022-12-28    0.010689    0.121140  \n        2022-12-29    0.043584    0.116223  \n        2022-12-30    0.115523    0.078219  \n\n[5 rows x 23 columns]",
      "text/html": "<div>\n<style scoped>\n    .dataframe tbody tr th:only-of-type {\n        vertical-align: middle;\n    }\n\n    .dataframe tbody tr th {\n        vertical-align: top;\n    }\n\n    .dataframe thead th {\n        text-align: right;\n    }\n</style>\n<table border=\"1\" class=\"dataframe\">\n  <thead>\n    <tr style=\"text-align: right;\">\n      <th></th>\n      <th></th>\n      <th>ret_1</th>\n      <th>ret_rel_perc_1</th>\n      <th>ret_5</th>\n      <th>ret_rel_perc_5</th>\n      <th>ret_10</th>\n      <th>ret_rel_perc_10</th>\n      <th>ret_21</th>\n      <th>ret_rel_perc_21</th>\n      <th>ret_63</th>\n      <th>ret_rel_perc_63</th>\n      <th>...</th>\n      <th>bbl</th>\n      <th>bbu</th>\n      <th>weekday</th>\n      <th>month</th>\n      <th>year</th>\n      <th>fwd_ret_01</th>\n      <th>fwd_ret_05</th>\n      <th>fwd_ret_10</th>\n      <th>fwd_ret_21</th>\n      <th>fwd_ret_63</th>\n    </tr>\n    <tr>\n      <th>ticker</th>\n      <th>date</th>\n      <th></th>\n      <th></th>\n      <th></th>\n      <th></th>\n      <th></th>\n      <th></th>\n      <th></th>\n      <th></th>\n      <th></th>\n      <th></th>\n      <th></th>\n      <th></th>\n      <th></th>\n      <th></th>\n      <th></th>\n      <th></th>\n      <th></th>\n      <th></th>\n      <th></th>\n      <th></th>\n      <th></th>\n    </tr>\n  </thead>\n  <tbody>\n    <tr>\n      <th rowspan=\"5\" valign=\"top\">4768.JP</th>\n      <th>2022-12-26</th>\n      <td>-0.001190</td>\n      <td>5.0</td>\n      <td>-0.032295</td>\n      <td>6.0</td>\n      <td>-0.030058</td>\n      <td>8.0</td>\n      <td>-0.104589</td>\n      <td>3.0</td>\n      <td>-0.045506</td>\n      <td>7.0</td>\n      <td>...</td>\n      <td>1.010901</td>\n      <td>1.009353</td>\n      <td>0</td>\n      <td>12</td>\n      <td>2022</td>\n      <td>0.002384</td>\n      <td>-0.026222</td>\n      <td>-0.009535</td>\n      <td>0.015495</td>\n      <td>0.109654</td>\n    </tr>\n    <tr>\n      <th>2022-12-27</th>\n      <td>0.002384</td>\n      <td>8.0</td>\n      <td>0.003580</td>\n      <td>10.0</td>\n      <td>-0.027746</td>\n      <td>8.0</td>\n      <td>-0.094726</td>\n      <td>4.0</td>\n      <td>-0.038857</td>\n      <td>5.0</td>\n      <td>...</td>\n      <td>1.012853</td>\n      <td>1.007933</td>\n      <td>1</td>\n      <td>12</td>\n      <td>2022</td>\n      <td>0.001189</td>\n      <td>-0.015458</td>\n      <td>-0.035672</td>\n      <td>0.015458</td>\n      <td>0.114150</td>\n    </tr>\n    <tr>\n      <th>2022-12-28</th>\n      <td>0.001189</td>\n      <td>11.0</td>\n      <td>0.013237</td>\n      <td>10.0</td>\n      <td>-0.045351</td>\n      <td>6.0</td>\n      <td>-0.093649</td>\n      <td>3.0</td>\n      <td>-0.042093</td>\n      <td>5.0</td>\n      <td>...</td>\n      <td>1.005062</td>\n      <td>1.003136</td>\n      <td>2</td>\n      <td>12</td>\n      <td>2022</td>\n      <td>-0.019002</td>\n      <td>-0.015439</td>\n      <td>-0.030879</td>\n      <td>0.010689</td>\n      <td>0.121140</td>\n    </tr>\n    <tr>\n      <th>2022-12-29</th>\n      <td>-0.019002</td>\n      <td>2.0</td>\n      <td>-0.021327</td>\n      <td>3.0</td>\n      <td>-0.048387</td>\n      <td>6.0</td>\n      <td>-0.096280</td>\n      <td>3.0</td>\n      <td>-0.070866</td>\n      <td>3.0</td>\n      <td>...</td>\n      <td>1.000207</td>\n      <td>1.028294</td>\n      <td>3</td>\n      <td>12</td>\n      <td>2022</td>\n      <td>0.006053</td>\n      <td>0.014528</td>\n      <td>-0.014528</td>\n      <td>0.043584</td>\n      <td>0.116223</td>\n    </tr>\n    <tr>\n      <th>2022-12-30</th>\n      <td>0.006053</td>\n      <td>15.0</td>\n      <td>-0.010714</td>\n      <td>3.0</td>\n      <td>-0.047018</td>\n      <td>5.0</td>\n      <td>-0.082781</td>\n      <td>4.0</td>\n      <td>-0.083793</td>\n      <td>3.0</td>\n      <td>...</td>\n      <td>1.009332</td>\n      <td>1.020799</td>\n      <td>4</td>\n      <td>12</td>\n      <td>2022</td>\n      <td>-0.016847</td>\n      <td>0.006017</td>\n      <td>-0.006017</td>\n      <td>0.115523</td>\n      <td>0.078219</td>\n    </tr>\n  </tbody>\n</table>\n<p>5 rows × 23 columns</p>\n</div>"
     },
     "execution_count": 10,
     "metadata": {},
     "output_type": "execute_result"
    }
   ],
   "source": [
    "cv_data.tail()"
   ],
   "metadata": {
    "collapsed": false,
    "pycharm": {
     "name": "#%%\n"
    }
   }
  },
  {
   "cell_type": "code",
   "execution_count": 11,
   "outputs": [
    {
     "name": "stdout",
     "output_type": "stream",
     "text": [
      "<class 'pandas.io.pytables.HDFStore'>\n",
      "File path: data\\data.h5\n",
      "/lasso/coeffs                            frame        (shape->[8,34])      \n",
      "/lasso/predictions                       frame        (shape->[592432,3])  \n",
      "/lasso/scores                            frame        (shape->[6000,3])    \n",
      "/logistic/coeffs                         frame        (shape->[11,34])     \n",
      "/logistic/predictions                    frame        (shape->[814594,4])  \n",
      "/logistic/scores                         frame        (shape->[825,5])     \n",
      "/lr/predictions                          frame        (shape->[74054,2])   \n",
      "/lr/scores                               frame        (shape->[750,2])     \n",
      "/model_data                              frame        (shape->[2904233,70])\n",
      "/ridge/coeffs                            frame        (shape->[18,34])     \n",
      "/ridge/predictions                       frame        (shape->[1332972,3]) \n",
      "/ridge/scores                            frame        (shape->[13500,3])   \n",
      "/stooq/japan/equities                    frame        (shape->[3081645,23])\n",
      "/stooq/japan/equities/cv_data            frame        (shape->[674160,23]) \n",
      "/us/equities/monthly                     frame        (shape->[77788,27])  \n",
      "/us/equities/prices                      frame        (shape->[9532628,16])\n"
     ]
    }
   ],
   "source": [
    "cv_data.to_hdf(DATA_DIR / 'data.h5', 'stooq/japan/equities/cv_data')\n",
    "\n",
    "with pd.HDFStore(DATA_DIR / 'data.h5') as store:\n",
    "    print(store.info())"
   ],
   "metadata": {
    "collapsed": false,
    "pycharm": {
     "name": "#%%\n"
    }
   }
  },
  {
   "cell_type": "code",
   "execution_count": 13,
   "outputs": [],
   "source": [
    "lookaheads = [1, 5, 10, 21]\n",
    "\n",
    "lr = LinearRegression()\n",
    "\n",
    "labels = sorted(cv_data.filter(like='fwd').columns)\n",
    "features = cv_data.columns.difference(labels).tolist()"
   ],
   "metadata": {
    "collapsed": false,
    "pycharm": {
     "name": "#%%\n"
    }
   }
  },
  {
   "cell_type": "code",
   "execution_count": 14,
   "outputs": [
    {
     "data": {
      "text/plain": "['NATR',\n 'PPO',\n 'RSI',\n 'bbl',\n 'bbu',\n 'month',\n 'ret_1',\n 'ret_10',\n 'ret_21',\n 'ret_5',\n 'ret_63',\n 'ret_rel_perc_1',\n 'ret_rel_perc_10',\n 'ret_rel_perc_21',\n 'ret_rel_perc_5',\n 'ret_rel_perc_63',\n 'weekday',\n 'year']"
     },
     "execution_count": 14,
     "metadata": {},
     "output_type": "execute_result"
    }
   ],
   "source": [
    "# labels\n",
    "features"
   ],
   "metadata": {
    "collapsed": false,
    "pycharm": {
     "name": "#%%\n"
    }
   }
  },
  {
   "cell_type": "code",
   "execution_count": 15,
   "outputs": [
    {
     "name": "stderr",
     "output_type": "stream",
     "text": [
      "100%|██████████| 40/40 [02:52<00:00,  4.32s/it]\n"
     ]
    },
    {
     "name": "stdout",
     "output_type": "stream",
     "text": [
      "<class 'pandas.core.frame.DataFrame'>\n",
      "RangeIndex: 40 entries, 0 to 39\n",
      "Data columns (total 5 columns):\n",
      " #   Column        Non-Null Count  Dtype  \n",
      "---  ------        --------------  -----  \n",
      " 0   lookahead     40 non-null     int64  \n",
      " 1   train_length  40 non-null     int64  \n",
      " 2   test_length   40 non-null     int64  \n",
      " 3   ic_by_day     40 non-null     float64\n",
      " 4   ic            40 non-null     float64\n",
      "dtypes: float64(2), int64(3)\n",
      "memory usage: 1.7 KB\n"
     ]
    }
   ],
   "source": [
    "# CV Parameters\n",
    "train_lengths = [5 * YEAR, 3 * YEAR, YEAR, 126, 63]\n",
    "test_lengths = [5, 21]\n",
    "\n",
    "test_params = list(product(lookaheads, train_lengths, test_lengths))\n",
    "\n",
    "lr_metrics = []\n",
    "for lookahead, train_length, test_length in tqdm(test_params):\n",
    "    label = f'fwd_ret_{lookahead:02}'\n",
    "    df = cv_data.loc[:, features + [label]].dropna()\n",
    "    X, y = df.drop(label, axis=1), df[label]\n",
    "\n",
    "    n_splits = int(2 * YEAR / test_length)\n",
    "    cv = MultipleTimeSeriesCV(n_splits=n_splits, test_period_length=test_length, lookahead=lookahead,\n",
    "                              train_period_length=train_length)\n",
    "    ic, preds = [], []\n",
    "    for i, (train_idx, test_idx) in enumerate(cv.split(X=X)):\n",
    "        X_train, y_train = X.iloc[train_idx], y.iloc[train_idx]\n",
    "        X_test, y_test = X.iloc[test_idx], y.iloc[test_idx]\n",
    "        lr.fit(X_train, y_train)\n",
    "        y_pred = lr.predict(X_test)\n",
    "        preds.append(y_test.to_frame('y_true').assign(y_pred=y_pred))\n",
    "        ic.append(spearmanr(y_test, y_pred)[0])\n",
    "    preds = pd.concat(preds)\n",
    "    lr_metrics.append([lookahead, train_length, test_length,np.mean(ic),\n",
    "        spearmanr(preds.y_true, preds.y_pred)[0]])\n",
    "\n",
    "columns = ['lookahead', 'train_length', 'test_length', 'ic_by_day', 'ic']\n",
    "lr_metrics = pd.DataFrame(lr_metrics, columns=columns)\n",
    "lr_metrics.info()"
   ],
   "metadata": {
    "collapsed": false,
    "pycharm": {
     "name": "#%%\n"
    }
   }
  },
  {
   "cell_type": "code",
   "execution_count": 17,
   "outputs": [
    {
     "name": "stdout",
     "output_type": "stream",
     "text": [
      "<class 'pandas.core.frame.DataFrame'>\n",
      "Int64Index: 80 entries, 0 to 39\n",
      "Data columns (total 5 columns):\n",
      " #   Column        Non-Null Count  Dtype  \n",
      "---  ------        --------------  -----  \n",
      " 0   Lookahead     80 non-null     int64  \n",
      " 1   Train Length  80 non-null     int64  \n",
      " 2   Test Length   80 non-null     int64  \n",
      " 3   IC            80 non-null     float64\n",
      " 4   Measure       80 non-null     object \n",
      "dtypes: float64(1), int64(3), object(1)\n",
      "memory usage: 3.8+ KB\n"
     ]
    }
   ],
   "source": [
    "lr_metrics_long = pd.concat([(lr_metrics.drop('ic', axis=1).rename(columns={'ic_by_day': 'ic'})\n",
    "                              .assign(Measured='By Day')),lr_metrics.drop('ic_by_day', axis=1)\n",
    "                             .assign(Measured='Overall')])\n",
    "lr_metrics_long.columns=['Lookahead', 'Train Length', 'Test Length', 'IC', 'Measure']\n",
    "lr_metrics_long.info()"
   ],
   "metadata": {
    "collapsed": false,
    "pycharm": {
     "name": "#%%\n"
    }
   }
  },
  {
   "cell_type": "code",
   "execution_count": 18,
   "outputs": [
    {
     "data": {
      "text/plain": "<seaborn.axisgrid.FacetGrid at 0x2a3142b6670>"
     },
     "execution_count": 18,
     "metadata": {},
     "output_type": "execute_result"
    },
    {
     "data": {
      "text/plain": "<Figure size 1499.88x720 with 8 Axes>",
      "image/png": "[encoded data removed]"
     },
     "metadata": {},
     "output_type": "display_data"
    }
   ],
   "source": [
    "sns.catplot(x='Train Length', y='IC', hue='Test Length', col='Lookahead', row='Measure', data=lr_metrics_long,\n",
    "            kind='bar')"
   ],
   "metadata": {
    "collapsed": false,
    "pycharm": {
     "name": "#%%\n"
    }
   }
  },
  {
   "cell_type": "code",
   "execution_count": 19,
   "outputs": [
    {
     "data": {
      "text/plain": "<Figure size 1008x360 with 2 Axes>",
      "image/png": "[encoded data removed]"
     },
     "metadata": {},
     "output_type": "display_data"
    }
   ],
   "source": [
    "fig, axes = plt.subplots(ncols=2, figsize=(14, 5), sharey=True)\n",
    "sns.boxplot(x='lookahead', y='ic_by_day', data=lr_metrics, ax=axes[0])\n",
    "axes[0].set_title('IC by Day')\n",
    "sns.boxplot(x='lookahead', y='ic', data=lr_metrics, ax=axes[1])\n",
    "axes[1].set_title('IC Overall')\n",
    "axes[0].set_ylabel('Information Coefficient')\n",
    "axes[1].set_ylabel('')\n",
    "sns.despine()"
   ],
   "metadata": {
    "collapsed": false,
    "pycharm": {
     "name": "#%%\n"
    }
   }
  },
  {
   "cell_type": "code",
   "execution_count": 20,
   "outputs": [
    {
     "data": {
      "text/plain": "    lookahead  train_length  test_length  ic_by_day        ic\n7           1           126           21   0.080675  0.019717\n9           1            63           21   0.061224  0.010180\n6           1           126            5   0.064660  0.006399\n17          5           126           21   0.173173  0.050901\n19          5            63           21   0.163050  0.049575\n16          5           126            5   0.108005  0.032094\n26         10           126            5   0.103205  0.045533\n24         10           252            5   0.089432  0.040674\n27         10           126           21   0.204365  0.032537\n37         21           126           21   0.143643  0.023799\n36         21           126            5   0.080990  0.006303\n35         21           252           21   0.131180  0.005126",
      "text/html": "<div>\n<style scoped>\n    .dataframe tbody tr th:only-of-type {\n        vertical-align: middle;\n    }\n\n    .dataframe tbody tr th {\n        vertical-align: top;\n    }\n\n    .dataframe thead th {\n        text-align: right;\n    }\n</style>\n<table border=\"1\" class=\"dataframe\">\n  <thead>\n    <tr style=\"text-align: right;\">\n      <th></th>\n      <th>lookahead</th>\n      <th>train_length</th>\n      <th>test_length</th>\n      <th>ic_by_day</th>\n      <th>ic</th>\n    </tr>\n  </thead>\n  <tbody>\n    <tr>\n      <th>7</th>\n      <td>1</td>\n      <td>126</td>\n      <td>21</td>\n      <td>0.080675</td>\n      <td>0.019717</td>\n    </tr>\n    <tr>\n      <th>9</th>\n      <td>1</td>\n      <td>63</td>\n      <td>21</td>\n      <td>0.061224</td>\n      <td>0.010180</td>\n    </tr>\n    <tr>\n      <th>6</th>\n      <td>1</td>\n      <td>126</td>\n      <td>5</td>\n      <td>0.064660</td>\n      <td>0.006399</td>\n    </tr>\n    <tr>\n      <th>17</th>\n      <td>5</td>\n      <td>126</td>\n      <td>21</td>\n      <td>0.173173</td>\n      <td>0.050901</td>\n    </tr>\n    <tr>\n      <th>19</th>\n      <td>5</td>\n      <td>63</td>\n      <td>21</td>\n      <td>0.163050</td>\n      <td>0.049575</td>\n    </tr>\n    <tr>\n      <th>16</th>\n      <td>5</td>\n      <td>126</td>\n      <td>5</td>\n      <td>0.108005</td>\n      <td>0.032094</td>\n    </tr>\n    <tr>\n      <th>26</th>\n      <td>10</td>\n      <td>126</td>\n      <td>5</td>\n      <td>0.103205</td>\n      <td>0.045533</td>\n    </tr>\n    <tr>\n      <th>24</th>\n      <td>10</td>\n      <td>252</td>\n      <td>5</td>\n      <td>0.089432</td>\n      <td>0.040674</td>\n    </tr>\n    <tr>\n      <th>27</th>\n      <td>10</td>\n      <td>126</td>\n      <td>21</td>\n      <td>0.204365</td>\n      <td>0.032537</td>\n    </tr>\n    <tr>\n      <th>37</th>\n      <td>21</td>\n      <td>126</td>\n      <td>21</td>\n      <td>0.143643</td>\n      <td>0.023799</td>\n    </tr>\n    <tr>\n      <th>36</th>\n      <td>21</td>\n      <td>126</td>\n      <td>5</td>\n      <td>0.080990</td>\n      <td>0.006303</td>\n    </tr>\n    <tr>\n      <th>35</th>\n      <td>21</td>\n      <td>252</td>\n      <td>21</td>\n      <td>0.131180</td>\n      <td>0.005126</td>\n    </tr>\n  </tbody>\n</table>\n</div>"
     },
     "execution_count": 20,
     "metadata": {},
     "output_type": "execute_result"
    }
   ],
   "source": [
    "# Best Train/Test Period Lengths\n",
    "(lr_metrics.groupby('lookahead', group_keys=False).apply(lambda x: x.nlargest(3, 'ic')))"
   ],
   "metadata": {
    "collapsed": false,
    "pycharm": {
     "name": "#%%\n"
    }
   }
  },
  {
   "cell_type": "code",
   "execution_count": 21,
   "outputs": [],
   "source": [
    "lr_metrics.to_csv(results_path / 'lin_reg_performance.csv', index=False)"
   ],
   "metadata": {
    "collapsed": false,
    "pycharm": {
     "name": "#%%\n"
    }
   }
  },
  {
   "cell_type": "code",
   "execution_count": 22,
   "outputs": [
    {
     "data": {
      "text/plain": "18"
     },
     "execution_count": 22,
     "metadata": {},
     "output_type": "execute_result"
    }
   ],
   "source": [
    "# LightGBM Random Forest MDL Tuning\n",
    "def get_fi(model):\n",
    "    fi = model.feature_importance(importance_type='gain')\n",
    "    return (pd.Series(fi / fi.sum(), index=model.feature_name()))\n",
    "\n",
    "\n",
    "\n",
    "base_params = dict(boosting_type='rf', objective='regression', bagging_freq=1, verbose=-1)\n",
    "\n",
    "bagging_fraction_opts = [.5, .75, .95]\n",
    "feature_fraction_opts = [.75, .95]\n",
    "min_data_in_leaf_opts = [250, 500, 1000]\n",
    "\n",
    "\n",
    "cv_params = list(product(bagging_fraction_opts, feature_fraction_opts, min_data_in_leaf_opts))\n",
    "n_cv_params = len(cv_params)\n",
    "n_cv_params"
   ],
   "metadata": {
    "collapsed": false,
    "pycharm": {
     "name": "#%%\n"
    }
   }
  },
  {
   "cell_type": "code",
   "execution_count": 23,
   "outputs": [
    {
     "name": "stdout",
     "output_type": "stream",
     "text": [
      "CV Parameters: 9\n"
     ]
    }
   ],
   "source": [
    "sample_proportion = .5\n",
    "sample_size = int(sample_proportion * n_cv_params)\n",
    "\n",
    "cv_param_sample = np.random.choice(list(range(n_cv_params)), size=int(sample_size), replace=False)\n",
    "cv_params_ = [cv_params[i] for i in cv_param_sample]\n",
    "print(f'CV Parameters: {len(cv_params_)}')"
   ],
   "metadata": {
    "collapsed": false,
    "pycharm": {
     "name": "#%%\n"
    }
   }
  },
  {
   "cell_type": "code",
   "execution_count": 24,
   "outputs": [
    {
     "name": "stdout",
     "output_type": "stream",
     "text": [
      "Train configs: 10\n",
      "CV Iterations: 90\n"
     ]
    }
   ],
   "source": [
    "num_iterations = [25] + list(range(50, 501, 25))\n",
    "num_boost_round = num_iterations[-1]\n",
    "\n",
    "train_lengths = [5 * YEAR, 3 * YEAR, YEAR, 126, 63]\n",
    "test_lengths = [5, 21]\n",
    "test_params = list(product(train_lengths, test_lengths))\n",
    "n_test_params = len(test_params)\n",
    "\n",
    "sample_proportion = 1.0\n",
    "sample_size = int(sample_proportion * n_test_params)\n",
    "\n",
    "test_param_sample = np.random.choice(list(range(n_test_params)), size=int(sample_size), replace=False)\n",
    "test_params_ = [test_params[i] for i in test_param_sample]\n",
    "print('Train configs:', len(test_params_))\n",
    "print('CV Iterations:', len(cv_params_) * len(test_params_))"
   ],
   "metadata": {
    "collapsed": false,
    "pycharm": {
     "name": "#%%\n"
    }
   }
  },
  {
   "cell_type": "code",
   "execution_count": 27,
   "outputs": [],
   "source": [
    "# categorical variables\n",
    "categoricals = ['year', 'weekday', 'month']\n",
    "for feature in categoricals:\n",
    "    data[feature] = pd.factorize(data[feature], sort=True)[0]\n",
    "\n",
    "labels = sorted(cv_data.filter(like='fwd').columns)\n",
    "features = cv_data.columns.difference(labels).tolist()\n",
    "label_dict = dict(zip(lookaheads, labels))\n",
    "cv_store = Path(results_path / 'parameter_tuning.h5')\n",
    "ic_cols = ['bagging_fraction', 'feature_fraction', 'min_data_in_leaf', 't'] + [str(n) for n in num_iterations]"
   ],
   "metadata": {
    "collapsed": false,
    "pycharm": {
     "name": "#%%\n"
    }
   }
  },
  {
   "cell_type": "code",
   "execution_count": null,
   "outputs": [
    {
     "name": "stdout",
     "output_type": "stream",
     "text": [
      "Lookahead:  1 | Train:  63 | Test: 21 | Params:   9\n",
      "  0 | 00:01:09 | 50% | 75% |   250 | -1.56% |  0.64% |  0.70%\n",
      "  1 | 00:02:18 | 50% | 75% |   500 | -2.70% |  0.73% |  1.14%\n",
      "  2 | 00:03:22 | 75% | 75% | 1,000 | -2.74% |  0.75% |  1.10%\n",
      "  3 | 00:04:21 | 50% | 95% | 1,000 | -3.29% |  0.48% |  0.77%\n",
      "  4 | 00:05:26 | 50% | 95% |   250 | -1.76% |  0.43% |  0.64%\n",
      "  5 | 00:06:30 | 95% | 75% |   500 | -1.11% |  0.30% |  0.92%\n",
      "  6 | 00:07:35 | 95% | 95% |   500 | -1.05% |  0.09% |  0.30%\n",
      "  7 | 00:08:44 | 95% | 95% |   250 | -1.27% |  0.41% |  0.82%\n",
      "  8 | 00:09:49 | 75% | 95% | 1,000 | -2.83% |  0.59% |  1.02%\n",
      "Lookahead:  1 | Train: 756 | Test:  5 | Params:   9\n",
      "  0 | 00:14:24 | 50% | 75% |   250 | -2.48% | -1.36% | -0.98%\n",
      "  1 | 00:29:21 | 50% | 75% |   500 | -2.46% | -1.17% | -1.25%\n",
      "  2 | 00:44:36 | 75% | 75% | 1,000 | -1.87% | -1.04% | -1.10%\n",
      "  3 | 01:01:17 | 50% | 95% | 1,000 | -2.19% | -1.02% | -1.01%\n",
      "  4 | 01:16:27 | 50% | 95% |   250 | -2.29% | -1.01% | -0.58%\n",
      "  5 | 01:30:10 | 95% | 75% |   500 | -2.29% | -1.26% | -0.86%\n",
      "  6 | 01:44:30 | 95% | 95% |   500 | -1.79% | -1.32% | -0.83%\n",
      "  7 | 01:58:54 | 95% | 95% |   250 | -2.02% | -1.29% | -0.81%\n",
      "  8 | 02:13:09 | 75% | 95% | 1,000 | -2.30% | -0.88% | -0.69%\n",
      "Lookahead:  1 | Train: 1260 | Test:  5 | Params:   9\n",
      "  0 | 00:22:14 | 50% | 75% |   250 | -3.69% | -0.79% |  0.01%\n",
      "  1 | 00:44:52 | 50% | 75% |   500 | -3.92% | -0.55% | -0.02%\n",
      "  2 | 01:06:25 | 75% | 75% | 1,000 | -5.02% | -0.52% |  0.27%\n",
      "  3 | 01:31:22 | 50% | 95% | 1,000 | -4.26% | -0.49% |  0.15%\n",
      "  4 | 01:55:34 | 50% | 95% |   250 | -3.86% | -0.35% |  0.14%\n",
      "  5 | 02:18:50 | 95% | 75% |   500 | -5.07% | -0.72% | -0.03%\n",
      "  6 | 02:46:28 | 95% | 95% |   500 | -5.38% | -0.64% | -0.09%\n",
      "  7 | 03:12:15 | 95% | 95% |   250 | -5.16% | -0.30% |  0.08%\n",
      "  8 | 03:37:52 | 75% | 95% | 1,000 | -4.84% | -0.74% |  0.39%\n",
      "Lookahead:  1 | Train: 126 | Test:  5 | Params:   9\n",
      "  0 | 00:04:02 | 50% | 75% |   250 | -2.22% | -0.04% |  0.50%\n",
      "  1 | 00:07:51 | 50% | 75% |   500 | -3.47% |  0.03% |  0.84%\n",
      "  2 | 00:11:33 | 75% | 75% | 1,000 | -3.58% |  0.19% |  0.88%\n",
      "  3 | 00:15:27 | 50% | 95% | 1,000 | -2.22% |  0.06% |  0.69%\n",
      "  4 | 00:19:17 | 50% | 95% |   250 | -2.00% | -0.06% |  0.84%\n",
      "  5 | 00:22:48 | 95% | 75% |   500 | -1.61% | -0.04% |  0.59%\n",
      "  6 | 00:26:24 | 95% | 95% |   500 | -1.15% | -0.13% |  0.60%\n",
      "  7 | 00:30:02 | 95% | 95% |   250 | -1.68% |  0.01% |  1.02%\n",
      "  8 | 00:33:34 | 75% | 95% | 1,000 | -3.73% |  0.09% |  0.52%\n",
      "Lookahead:  1 | Train:  63 | Test:  5 | Params:   9\n",
      "  0 | 00:02:23 | 50% | 75% |   250 | -3.64% |  0.09% |  0.64%\n",
      "  1 | 00:04:44 | 50% | 75% |   500 | -3.69% |  0.25% |  0.50%\n",
      "  2 | 00:06:56 | 75% | 75% | 1,000 | -3.80% |  0.10% |  0.53%\n",
      "  3 | 00:09:10 | 50% | 95% | 1,000 | -3.94% | -0.30% | -0.61%\n",
      "  4 | 00:11:47 | 50% | 95% |   250 | -4.09% |  0.14% |  0.53%\n",
      "  5 | 00:14:07 | 95% | 75% |   500 | -3.41% | -0.00% |  0.26%\n",
      "  6 | 00:16:37 | 95% | 95% |   500 | -3.66% | -0.03% |  0.22%\n",
      "  7 | 00:19:10 | 95% | 95% |   250 | -4.03% | -0.10% |  0.42%\n",
      "  8 | 00:21:31 | 75% | 95% | 1,000 | -4.00% |  0.17% |  0.36%\n",
      "Lookahead:  1 | Train: 252 | Test: 21 | Params:   9\n",
      "  0 | 00:01:49 | 50% | 75% |   250 | -1.95% |  0.58% |  1.04%\n",
      "  1 | 00:03:40 | 50% | 75% |   500 | -1.79% |  0.51% |  0.61%\n",
      "  2 | 00:05:22 | 75% | 75% | 1,000 | -1.83% |  0.33% |  0.86%\n",
      "  3 | 00:07:15 | 50% | 95% | 1,000 | -2.23% |  0.54% |  0.86%\n",
      "  4 | 00:09:06 | 50% | 95% |   250 | -2.79% |  0.68% |  0.94%\n",
      "  5 | 00:10:50 | 95% | 75% |   500 | -2.90% |  0.26% |  0.79%\n",
      "  6 | 00:12:36 | 95% | 95% |   500 | -3.86% |  0.33% |  0.66%\n",
      "  7 | 00:14:22 | 95% | 95% |   250 | -3.98% |  0.25% |  0.38%\n",
      "  8 | 00:16:08 | 75% | 95% | 1,000 | -2.79% |  0.40% |  0.41%\n",
      "Lookahead:  1 | Train: 756 | Test: 21 | Params:   9\n",
      "  0 | 00:03:42 | 50% | 75% |   250 | -0.60% | -1.05% | -0.94%\n",
      "  1 | 00:07:31 | 50% | 75% |   500 | -0.44% | -0.98% | -0.93%\n",
      "  2 | 00:10:57 | 75% | 75% | 1,000 | -0.85% | -0.85% | -0.79%\n",
      "  3 | 00:14:59 | 50% | 95% | 1,000 | -0.38% | -0.60% | -0.71%\n",
      "  4 | 00:18:57 | 50% | 95% |   250 | -0.39% | -1.02% | -0.59%\n",
      "  5 | 00:22:23 | 95% | 75% |   500 | -0.22% | -1.34% | -1.26%\n",
      "  6 | 00:26:07 | 95% | 95% |   500 | -0.19% | -1.15% | -0.99%\n",
      "  7 | 00:29:54 | 95% | 95% |   250 | -0.10% | -0.88% | -0.45%\n",
      "  8 | 00:33:33 | 75% | 95% | 1,000 | -0.79% | -0.60% | -0.22%\n",
      "Lookahead:  1 | Train: 126 | Test: 21 | Params:   9\n",
      "  0 | 00:01:18 | 50% | 75% |   250 |  0.63% |  0.36% |  0.19%\n",
      "  1 | 00:02:39 | 50% | 75% |   500 | -0.59% |  0.28% |  0.56%\n",
      "  2 | 00:03:53 | 75% | 75% | 1,000 | -1.40% |  0.39% |  0.46%\n",
      "  3 | 00:05:13 | 50% | 95% | 1,000 | -1.75% |  0.31% |  0.59%\n",
      "  4 | 00:06:34 | 50% | 95% |   250 |  0.30% |  0.25% |  0.52%\n",
      "  5 | 00:07:48 | 95% | 75% |   500 | -0.08% |  0.35% |  0.38%\n",
      "  6 | 00:09:04 | 95% | 95% |   500 | -0.45% |  0.06% |  0.19%\n",
      "  7 | 00:10:19 | 95% | 95% |   250 | -0.53% |  0.05% |  0.22%\n",
      "  8 | 00:11:35 | 75% | 95% | 1,000 | -1.64% |  0.43% |  0.52%\n",
      "Lookahead:  1 | Train: 1260 | Test: 21 | Params:   9\n",
      "  0 | 00:05:26 | 50% | 75% |   250 |  0.23% | -0.53% |  0.02%\n",
      "  1 | 00:11:05 | 50% | 75% |   500 |  0.13% | -0.24% |  0.48%\n",
      "  2 | 00:16:28 | 75% | 75% | 1,000 | -0.51% |  0.04% |  0.48%\n",
      "  3 | 00:22:30 | 50% | 95% | 1,000 | -0.56% | -0.30% |  0.57%\n",
      "  4 | 00:28:18 | 50% | 95% |   250 | -0.30% | -0.34% |  0.26%\n",
      "  5 | 00:33:51 | 95% | 75% |   500 | -0.50% | -0.51% | -0.02%\n",
      "  6 | 00:39:33 | 95% | 95% |   500 | -0.45% | -0.28% | -0.12%\n",
      "  7 | 00:45:27 | 95% | 95% |   250 | -0.41% | -0.30% | -0.08%\n",
      "  8 | 00:50:59 | 75% | 95% | 1,000 | -0.60% | -0.09% |  0.51%\n",
      "Lookahead:  1 | Train: 252 | Test:  5 | Params:   9\n",
      "  0 | 00:05:57 | 50% | 75% |   250 | -0.15% |  0.47% |  0.89%\n",
      "  1 | 00:11:55 | 50% | 75% |   500 | -0.19% |  0.69% |  1.03%\n",
      "  2 | 00:17:18 | 75% | 75% | 1,000 | -0.96% |  0.83% |  1.20%\n",
      "  3 | 00:23:33 | 50% | 95% | 1,000 | -0.55% |  0.70% |  0.88%\n",
      "  4 | 00:29:36 | 50% | 95% |   250 | -0.28% |  0.31% |  0.99%\n",
      "  5 | 00:35:10 | 95% | 75% |   500 | -0.89% |  0.51% |  0.86%\n",
      "  6 | 00:40:58 | 95% | 95% |   500 | -0.90% |  0.29% |  0.69%\n",
      "  7 | 00:46:44 | 95% | 95% |   250 | -0.96% |  0.43% |  0.81%\n",
      "  8 | 00:52:18 | 75% | 95% | 1,000 | -1.20% |  0.76% |  0.57%\n",
      "Lookahead:  5 | Train:  63 | Test: 21 | Params:   9\n",
      "  0 | 00:01:02 | 50% | 75% |   250 | -1.32% | -0.78% | -0.49%\n",
      "  1 | 00:02:03 | 50% | 75% |   500 | -1.60% | -0.61% | -0.06%\n",
      "  2 | 00:03:03 | 75% | 75% | 1,000 | -1.72% | -0.61% | -0.37%\n",
      "  3 | 00:03:59 | 50% | 95% | 1,000 | -1.48% | -0.45% | -0.10%\n",
      "  4 | 00:05:01 | 50% | 95% |   250 | -1.65% | -0.96% | -0.42%\n",
      "  5 | 00:05:60 | 95% | 75% |   500 | -1.44% | -0.89% | -0.48%\n",
      "  6 | 00:06:57 | 95% | 95% |   500 | -1.62% | -0.87% | -0.67%\n",
      "  7 | 00:07:55 | 95% | 95% |   250 | -1.56% | -1.00% | -0.16%\n",
      "  8 | 00:08:53 | 75% | 95% | 1,000 | -1.79% | -0.60% | -0.09%\n",
      "Lookahead:  5 | Train: 756 | Test:  5 | Params:   9\n",
      "  0 | 00:13:32 | 50% | 75% |   250 | -10.48% | -0.65% |  0.72%\n",
      "  1 | 00:27:35 | 50% | 75% |   500 | -10.38% | -0.63% |  0.35%\n",
      "  2 | 00:39:56 | 75% | 75% | 1,000 | -9.35% | -0.72% |  0.53%\n",
      "  3 | 00:54:47 | 50% | 95% | 1,000 | -9.27% | -0.35% |  0.02%\n",
      "  4 | 01:08:58 | 50% | 95% |   250 | -10.61% | -0.70% |  0.60%\n",
      "  5 | 01:22:09 | 95% | 75% |   500 | -9.71% | -0.82% |  0.52%\n",
      "  6 | 01:35:17 | 95% | 95% |   500 | -9.21% | -0.68% |  0.36%\n",
      "  7 | 01:48:25 | 95% | 95% |   250 | -8.77% | -0.66% |  0.62%\n",
      "  8 | 02:01:10 | 75% | 95% | 1,000 | -9.37% | -0.70% |  0.25%\n",
      "Lookahead:  5 | Train: 1260 | Test:  5 | Params:   9\n",
      "  0 | 00:22:18 | 50% | 75% |   250 |  0.98% |  0.61% |  1.12%\n",
      "  1 | 00:45:25 | 50% | 75% |   500 |  0.90% |  0.59% |  1.25%\n",
      "  2 | 01:05:26 | 75% | 75% | 1,000 |  1.08% |  0.48% |  1.39%\n",
      "  3 | 01:29:30 | 50% | 95% | 1,000 |  1.68% |  0.46% |  0.60%\n",
      "  4 | 01:52:47 | 50% | 95% |   250 |  1.39% |  0.74% |  0.96%\n",
      "  5 | 02:13:49 | 95% | 75% |   500 |  1.30% |  0.39% |  1.26%\n",
      "  6 | 02:36:18 | 95% | 95% |   500 |  1.76% |  0.41% |  1.07%\n",
      "  7 | 02:57:58 | 95% | 95% |   250 |  1.96% |  0.19% |  0.44%\n",
      "  8 | 03:18:57 | 75% | 95% | 1,000 |  1.79% |  0.85% |  1.41%\n",
      "Lookahead:  5 | Train: 126 | Test:  5 | Params:   9\n",
      "  0 | 00:03:45 | 50% | 75% |   250 | -3.63% | -1.07% |  0.10%\n",
      "  1 | 00:07:33 | 50% | 75% |   500 | -3.93% | -1.06% |  0.04%\n",
      "  2 | 00:10:56 | 75% | 75% | 1,000 | -4.22% | -0.98% |  0.32%\n",
      "  3 | 00:14:45 | 50% | 95% | 1,000 | -4.45% | -0.59% | -0.10%\n",
      "  4 | 00:18:37 | 50% | 95% |   250 | -3.70% | -1.27% | -0.84%\n",
      "  5 | 00:22:11 | 95% | 75% |   500 | -3.76% | -0.96% | -0.24%\n",
      "  6 | 00:25:51 | 95% | 95% |   500 | -4.04% | -1.16% | -0.69%\n",
      "  7 | 00:29:29 | 95% | 95% |   250 | -4.20% | -1.48% | -0.94%\n",
      "  8 | 00:32:58 | 75% | 95% | 1,000 | -4.57% | -1.24% | -0.57%\n",
      "Lookahead:  5 | Train:  63 | Test:  5 | Params:   9\n",
      "  0 | 00:02:38 | 50% | 75% |   250 | -4.81% | -1.91% | -0.75%\n",
      "  1 | 00:05:12 | 50% | 75% |   500 | -4.59% | -1.40% | -0.32%\n",
      "  2 | 00:07:33 | 75% | 75% | 1,000 | -4.73% | -1.15% | -0.25%\n",
      "  3 | 00:09:53 | 50% | 95% | 1,000 | -4.85% | -0.64% | -0.18%\n",
      "  4 | 00:12:35 | 50% | 95% |   250 | -5.26% | -1.87% | -1.01%\n",
      "  5 | 00:15:06 | 95% | 75% |   500 | -5.18% | -1.64% | -0.93%\n",
      "  6 | 00:17:40 | 95% | 95% |   500 | -5.55% | -1.68% | -1.13%\n",
      "  7 | 00:20:15 | 95% | 95% |   250 | -5.63% | -1.47% | -0.90%\n",
      "  8 | 00:22:39 | 75% | 95% | 1,000 | -4.80% | -1.01% | -0.28%\n",
      "Lookahead:  5 | Train: 252 | Test: 21 | Params:   9\n",
      "  0 | 00:01:50 | 50% | 75% |   250 | -3.30% |  0.72% |  0.96%\n",
      "  1 | 00:03:40 | 50% | 75% |   500 | -3.28% |  0.77% |  1.02%\n",
      "  2 | 00:05:19 | 75% | 75% | 1,000 | -3.05% |  0.58% |  0.76%\n",
      "  3 | 00:07:12 | 50% | 95% | 1,000 | -3.50% |  0.60% |  1.02%\n",
      "  4 | 00:09:01 | 50% | 95% |   250 | -4.04% |  0.35% |  0.80%\n",
      "  5 | 00:10:44 | 95% | 75% |   500 | -3.10% |  0.53% |  0.55%\n",
      "  6 | 00:12:27 | 95% | 95% |   500 | -3.68% |  0.32% |  0.83%\n",
      "  7 | 00:14:10 | 95% | 95% |   250 | -3.71% |  0.29% |  0.71%\n",
      "  8 | 00:15:52 | 75% | 95% | 1,000 | -3.52% |  0.27% |  0.58%\n",
      "Lookahead:  5 | Train: 756 | Test: 21 | Params:   9\n",
      "  0 | 00:03:36 | 50% | 75% |   250 | -7.30% | -0.84% |  0.12%\n",
      "  1 | 00:07:21 | 50% | 75% |   500 | -7.06% | -0.30% |  0.54%\n",
      "  2 | 00:10:41 | 75% | 75% | 1,000 | -6.77% | -0.40% |  0.52%\n",
      "  3 | 00:14:36 | 50% | 95% | 1,000 | -6.72% | -0.54% |  0.29%\n",
      "  4 | 00:18:18 | 50% | 95% |   250 | -7.21% | -0.80% |  0.32%\n",
      "  5 | 00:21:40 | 95% | 75% |   500 | -7.91% | -0.79% |  0.11%\n",
      "  6 | 00:25:12 | 95% | 95% |   500 | -7.61% | -0.80% |  0.64%\n",
      "  7 | 00:28:28 | 95% | 95% |   250 | -8.11% | -1.14% |  0.35%\n",
      "  8 | 00:31:52 | 75% | 95% | 1,000 | -7.21% | -0.13% |  0.41%\n",
      "Lookahead:  5 | Train: 126 | Test: 21 | Params:   9\n",
      "  0 | 00:01:21 | 50% | 75% |   250 | -0.95% |  0.47% |  0.42%\n",
      "  1 | 00:02:42 | 50% | 75% |   500 | -0.80% |  0.59% |  0.47%\n",
      "  2 | 00:03:56 | 75% | 75% | 1,000 | -0.25% |  0.42% |  0.19%\n",
      "  3 | 00:05:18 | 50% | 95% | 1,000 | -0.55% |  0.60% |  0.83%\n",
      "  4 | 00:06:37 | 50% | 95% |   250 | -1.27% |  0.21% |  0.14%\n",
      "  5 | 00:07:53 | 95% | 75% |   500 |  0.01% |  0.14% |  0.15%\n",
      "  6 | 00:09:08 | 95% | 95% |   500 | -0.44% | -0.36% |  0.02%\n",
      "  7 | 00:10:24 | 95% | 95% |   250 | -0.74% | -0.47% | -0.32%\n",
      "  8 | 00:11:38 | 75% | 95% | 1,000 | -0.47% |  0.23% |  0.28%\n",
      "Lookahead:  5 | Train: 1260 | Test: 21 | Params:   9\n",
      "  0 | 00:05:40 | 50% | 75% |   250 |  0.63% |  0.67% |  1.52%\n",
      "  1 | 00:11:29 | 50% | 75% |   500 |  0.48% |  0.32% |  1.50%\n",
      "  2 | 00:16:58 | 75% | 75% | 1,000 |  0.84% |  0.23% |  0.95%\n",
      "  3 | 00:23:09 | 50% | 95% | 1,000 | -0.05% |  0.15% |  0.73%\n",
      "  4 | 00:29:07 | 50% | 95% |   250 |  0.56% |  0.63% |  1.59%\n",
      "  5 | 00:34:35 | 95% | 75% |   500 |  0.67% |  0.01% |  0.30%\n",
      "  6 | 00:40:24 | 95% | 95% |   500 |  1.00% |  0.41% |  0.71%\n",
      "  7 | 00:46:27 | 95% | 95% |   250 |  1.06% |  0.27% |  0.21%\n",
      "  8 | 00:52:17 | 75% | 95% | 1,000 |  0.11% |  0.13% |  1.09%\n",
      "Lookahead:  5 | Train: 252 | Test:  5 | Params:   9\n",
      "  0 | 00:06:22 | 50% | 75% |   250 | -8.04% |  0.56% |  1.27%\n",
      "  1 | 00:12:29 | 50% | 75% |   500 | -8.28% |  0.66% |  1.33%\n",
      "  2 | 00:17:51 | 75% | 75% | 1,000 | -8.28% |  0.65% |  1.23%\n",
      "  3 | 00:24:21 | 50% | 95% | 1,000 | -7.90% |  0.55% |  1.65%\n",
      "  4 | 00:30:48 | 50% | 95% |   250 | -7.93% |  0.38% |  0.98%\n",
      "  5 | 00:36:41 | 95% | 75% |   500 | -8.16% |  0.61% |  0.87%\n",
      "  6 | 00:42:50 | 95% | 95% |   500 | -7.49% |  0.43% |  0.87%\n",
      "  7 | 00:48:52 | 95% | 95% |   250 | -7.51% |  0.37% |  0.81%\n",
      "  8 | 00:54:60 | 75% | 95% | 1,000 | -7.87% |  0.40% |  1.04%\n",
      "Lookahead: 10 | Train:  63 | Test: 21 | Params:   9\n",
      "  0 | 00:01:02 | 50% | 75% |   250 |  1.45% |  0.41% |  0.59%\n",
      "  1 | 00:02:03 | 50% | 75% |   500 |  1.75% |  0.46% |  0.72%\n",
      "  2 | 00:03:02 | 75% | 75% | 1,000 |  1.49% |  0.33% |  0.38%\n",
      "  3 | 00:04:06 | 50% | 95% | 1,000 |  0.85% |  0.64% |  0.12%\n",
      "  4 | 00:05:11 | 50% | 95% |   250 |  0.57% |  0.38% |  0.35%\n",
      "  5 | 00:06:11 | 95% | 75% |   500 |  1.17% |  0.38% |  0.42%\n",
      "  6 | 00:07:14 | 95% | 95% |   500 |  0.26% | -0.00% | -0.14%\n",
      "  7 | 00:08:16 | 95% | 95% |   250 |  0.06% |  0.00% | -0.29%\n",
      "  8 | 00:09:17 | 75% | 95% | 1,000 |  0.67% |  0.30% |  0.23%\n",
      "Lookahead: 10 | Train: 756 | Test:  5 | Params:   9\n",
      "  0 | 00:14:01 | 50% | 75% |   250 | -8.12% |  0.57% |  1.15%\n",
      "  1 | 00:28:22 | 50% | 75% |   500 | -8.05% |  0.21% |  1.21%\n",
      "  2 | 00:41:51 | 75% | 75% | 1,000 | -7.27% |  0.10% |  0.99%\n",
      "  3 | 00:57:36 | 50% | 95% | 1,000 | -8.80% | -0.17% |  0.35%\n",
      "  4 | 01:12:57 | 50% | 95% |   250 | -8.99% |  0.00% |  0.61%\n",
      "  5 | 01:26:43 | 95% | 75% |   500 | -7.75% |  0.30% |  0.87%\n",
      "  6 | 01:41:33 | 95% | 95% |   500 | -8.73% |  0.07% |  0.73%\n",
      "  7 | 01:56:27 | 95% | 95% |   250 | -8.69% |  0.07% |  0.41%\n",
      "  8 | 02:10:09 | 75% | 95% | 1,000 | -8.64% | -0.40% |  0.62%\n",
      "Lookahead: 10 | Train: 1260 | Test:  5 | Params:   9\n",
      "  0 | 00:23:45 | 50% | 75% |   250 | -3.22% | -0.11% |  0.36%\n",
      "  1 | 00:50:12 | 50% | 75% |   500 | -3.38% | -0.27% |  0.38%\n",
      "  2 | 01:12:38 | 75% | 75% | 1,000 | -2.05% | -0.15% |  0.44%\n",
      "  3 | 01:37:36 | 50% | 95% | 1,000 | -2.14% |  0.22% |  0.10%\n",
      "  4 | 02:02:30 | 50% | 95% |   250 | -2.00% |  0.40% |  0.05%\n",
      "  5 | 02:26:02 | 95% | 75% |   500 | -2.68% |  0.10% |  0.50%\n",
      "  6 | 02:50:32 | 95% | 95% |   500 | -0.73% |  0.62% |  0.29%\n",
      "  7 | 03:15:23 | 95% | 95% |   250 | -0.67% |  0.78% |  0.59%\n",
      "  8 | 03:38:46 | 75% | 95% | 1,000 | -2.19% |  0.56% |  0.74%\n",
      "Lookahead: 10 | Train: 126 | Test:  5 | Params:   9\n",
      "  0 | 00:03:44 | 50% | 75% |   250 | -6.20% |  0.49% |  0.68%\n",
      "  1 | 00:07:34 | 50% | 75% |   500 | -6.18% |  0.56% |  1.02%\n",
      "  2 | 00:11:03 | 75% | 75% | 1,000 | -5.94% |  0.61% |  1.03%\n",
      "  3 | 00:15:19 | 50% | 95% | 1,000 | -7.00% |  0.23% |  0.22%\n",
      "  4 | 00:19:37 | 50% | 95% |   250 | -6.98% |  0.63% |  0.56%\n",
      "  5 | 00:23:18 | 95% | 75% |   500 | -6.13% |  0.51% |  0.96%\n",
      "  6 | 00:27:29 | 95% | 95% |   500 | -6.88% |  0.50% |  0.68%\n",
      "  7 | 00:31:47 | 95% | 95% |   250 | -6.89% |  0.46% |  0.46%\n",
      "  8 | 00:35:55 | 75% | 95% | 1,000 | -6.59% |  0.49% |  0.83%\n",
      "Lookahead: 10 | Train:  63 | Test:  5 | Params:   9\n",
      "  0 | 00:02:41 | 50% | 75% |   250 | -4.11% | -0.22% |  0.06%\n",
      "  1 | 00:05:28 | 50% | 75% |   500 | -3.79% | -0.34% | -0.14%\n",
      "  2 | 00:07:53 | 75% | 75% | 1,000 | -3.86% | -0.27% | -0.26%\n",
      "  3 | 00:10:27 | 50% | 95% | 1,000 | -5.20% | -0.57% | -0.08%\n",
      "  4 | 00:13:18 | 50% | 95% |   250 | -5.29% | -0.27% | -0.20%\n",
      "  5 | 00:15:45 | 95% | 75% |   500 | -3.13% | -0.39% | -0.08%\n",
      "  6 | 00:18:33 | 95% | 95% |   500 | -4.17% | -0.37% | -0.34%\n",
      "  7 | 00:21:21 | 95% | 95% |   250 | -4.18% | -0.38% | -0.42%\n",
      "  8 | 00:23:58 | 75% | 95% | 1,000 | -5.15% | -0.32% | -0.58%\n",
      "Lookahead: 10 | Train: 252 | Test: 21 | Params:   9\n",
      "  0 | 00:01:50 | 50% | 75% |   250 |  3.04% |  2.18% |  1.83%\n",
      "  1 | 00:03:41 | 50% | 75% |   500 |  3.09% |  2.14% |  2.02%\n",
      "  2 | 00:05:25 | 75% | 75% | 1,000 |  3.12% |  1.98% |  1.97%\n",
      "  3 | 00:07:23 | 50% | 95% | 1,000 |  2.85% |  1.98% |  2.15%\n",
      "  4 | 00:09:19 | 50% | 95% |   250 |  2.50% |  2.04% |  1.79%\n",
      "  5 | 00:11:08 | 95% | 75% |   500 |  2.95% |  2.19% |  1.71%\n",
      "  6 | 00:12:59 | 95% | 95% |   500 |  2.50% |  1.94% |  2.17%\n",
      "  7 | 00:14:49 | 95% | 95% |   250 |  2.47% |  2.08% |  2.22%\n",
      "  8 | 00:16:34 | 75% | 95% | 1,000 |  2.76% |  1.76% |  1.53%\n",
      "Lookahead: 10 | Train: 756 | Test: 21 | Params:   9\n",
      "  0 | 00:03:45 | 50% | 75% |   250 | -2.30% |  0.87% |  1.11%\n",
      "  1 | 00:07:33 | 50% | 75% |   500 | -2.33% |  0.84% |  1.00%\n",
      "  2 | 00:11:08 | 75% | 75% | 1,000 | -2.70% |  0.47% |  1.19%\n",
      "  3 | 00:15:26 | 50% | 95% | 1,000 | -2.79% |  0.74% |  1.16%\n",
      "  4 | 00:19:31 | 50% | 95% |   250 | -2.97% |  0.59% |  0.90%\n",
      "  5 | 00:23:14 | 95% | 75% |   500 | -2.87% |  0.91% |  0.92%\n",
      "  6 | 00:27:16 | 95% | 95% |   500 | -3.89% |  0.93% |  0.59%\n",
      "  7 | 00:31:11 | 95% | 95% |   250 | -3.84% |  0.99% |  0.74%\n",
      "  8 | 00:34:46 | 75% | 95% | 1,000 | -3.35% |  0.34% |  0.78%\n",
      "Lookahead: 10 | Train: 126 | Test: 21 | Params:   9\n",
      "  0 | 00:01:16 | 50% | 75% |   250 |  4.95% |  1.25% |  0.90%\n",
      "  1 | 00:02:31 | 50% | 75% |   500 |  4.93% |  1.21% |  0.92%\n",
      "  2 | 00:03:42 | 75% | 75% | 1,000 |  3.65% |  1.14% |  0.99%\n",
      "  3 | 00:05:04 | 50% | 95% | 1,000 |  4.05% |  0.63% |  0.82%\n",
      "  4 | 00:06:25 | 50% | 95% |   250 |  4.11% |  0.97% |  0.95%\n",
      "  5 | 00:07:34 | 95% | 75% |   500 |  2.73% |  0.90% |  0.83%\n",
      "  6 | 00:08:46 | 95% | 95% |   500 |  1.08% |  0.67% |  0.85%\n",
      "  7 | 00:09:58 | 95% | 95% |   250 |  1.12% |  0.56% |  0.54%\n",
      "  8 | 00:11:09 | 75% | 95% | 1,000 |  2.30% |  0.90% |  0.55%\n",
      "Lookahead: 10 | Train: 1260 | Test: 21 | Params:   9\n",
      "  0 | 00:05:30 | 50% | 75% |   250 |  0.05% | -0.11% |  0.69%\n",
      "  1 | 00:11:04 | 50% | 75% |   500 |  0.11% | -0.14% |  0.79%\n",
      "  2 | 00:16:20 | 75% | 75% | 1,000 | -2.63% |  0.41% |  0.70%\n",
      "  3 | 00:22:14 | 50% | 95% | 1,000 | -2.34% |  0.80% |  0.77%\n",
      "  4 | 00:28:13 | 50% | 95% |   250 | -2.53% |  0.90% |  0.34%\n",
      "  5 | 00:34:28 | 95% | 75% |   500 | -1.53% |  0.07% |  0.37%\n",
      "  6 | 00:41:06 | 95% | 95% |   500 | -1.47% |  0.81% |  0.68%\n",
      "  7 | 00:47:02 | 95% | 95% |   250 | -1.59% |  0.73% |  0.80%\n",
      "  8 | 00:52:50 | 75% | 95% | 1,000 | -2.66% |  1.01% |  0.99%\n",
      "Lookahead: 10 | Train: 252 | Test:  5 | Params:   9\n",
      "  0 | 00:05:57 | 50% | 75% |   250 | -5.66% |  1.72% |  1.76%\n",
      "  1 | 00:11:53 | 50% | 75% |   500 | -4.56% |  1.80% |  1.87%\n",
      "  2 | 00:17:23 | 75% | 75% | 1,000 | -4.59% |  1.72% |  1.72%\n",
      "  3 | 00:23:59 | 50% | 95% | 1,000 | -5.39% |  1.76% |  1.59%\n",
      "  4 | 00:30:37 | 50% | 95% |   250 | -6.59% |  1.58% |  1.38%\n",
      "  5 | 00:36:25 | 95% | 75% |   500 | -5.49% |  1.54% |  1.75%\n",
      "  6 | 00:42:42 | 95% | 95% |   500 | -6.30% |  1.22% |  1.53%\n",
      "  7 | 00:49:01 | 95% | 95% |   250 | -7.19% |  1.37% |  1.73%\n",
      "  8 | 00:55:02 | 75% | 95% | 1,000 | -5.39% |  1.47% |  1.66%\n",
      "Lookahead: 21 | Train:  63 | Test: 21 | Params:   9\n",
      "  0 | 00:01:05 | 50% | 75% |   250 |  4.60% |  3.56% |  2.95%\n",
      "  1 | 00:02:11 | 50% | 75% |   500 |  4.78% |  3.36% |  2.85%\n",
      "  2 | 00:03:13 | 75% | 75% | 1,000 |  3.24% |  3.01% |  2.52%\n",
      "  3 | 00:04:20 | 50% | 95% | 1,000 |  5.24% |  3.12% |  2.39%\n",
      "  4 | 00:05:30 | 50% | 95% |   250 |  4.68% |  3.54% |  3.28%\n",
      "  5 | 00:06:32 | 95% | 75% |   500 |  3.92% |  3.20% |  2.83%\n",
      "  6 | 00:07:35 | 95% | 95% |   500 |  4.13% |  3.15% |  2.82%\n",
      "  7 | 00:08:40 | 95% | 95% |   250 |  3.93% |  2.82% |  2.81%\n",
      "  8 | 00:09:45 | 75% | 95% | 1,000 |  3.62% |  2.82% |  2.14%\n",
      "Lookahead: 21 | Train: 756 | Test:  5 | Params:   9\n",
      "  0 | 00:14:27 | 50% | 75% |   250 | -0.28% |  2.12% |  1.42%\n",
      "  1 | 00:28:45 | 50% | 75% |   500 | -0.25% |  2.02% |  1.16%\n",
      "  2 | 00:41:58 | 75% | 75% | 1,000 |  0.12% |  1.35% |  0.43%\n",
      "  3 | 00:57:32 | 50% | 95% | 1,000 | -1.45% |  2.16% |  1.56%\n"
     ]
    }
   ],
   "source": [
    "for lookahead in lookaheads:\n",
    "    for train_length, test_length in test_params_:\n",
    "        n_splits = int(2 * YEAR / test_length)\n",
    "        print(f'Lookahead: {lookahead:2.0f} | Train: {train_length:3.0f} | '\n",
    "              f'Test: {test_length:2.0f} | Params: {len(cv_params_):3.0f}')\n",
    "\n",
    "        cv = MultipleTimeSeriesCV(n_splits=n_splits, test_period_length=test_length,\n",
    "                                  train_period_length=train_length, lookahead=lookahead)\n",
    "        label = label_dict[lookahead]\n",
    "        outcome_data = data.loc[:, features + [label]].dropna()\n",
    "\n",
    "        lgb_data = lgb.Dataset(data=outcome_data.drop(label, axis=1), label=outcome_data[label],\n",
    "                               categorical_feature=categoricals, free_raw_data=False)\n",
    "        predictions, daily_ic, ic, feature_importance = [], [], [], []\n",
    "        key = f'{lookahead}/{train_length}/{test_length}'\n",
    "        T = 0\n",
    "        for p, (bagging_fraction, feature_fraction, min_data_in_leaf) in enumerate(cv_params_):\n",
    "            params = base_params.copy()\n",
    "            params.update(dict(bagging_fraction=bagging_fraction, feature_fraction=feature_fraction,\n",
    "                               min_data_in_leaf=min_data_in_leaf))\n",
    "\n",
    "            start = time()\n",
    "            cv_preds, nrounds = [], []\n",
    "            for i, (train_idx, test_idx) in enumerate(cv.split(X=outcome_data)):\n",
    "                lgb_train = lgb_data.subset(used_indices=train_idx.tolist(), params=params).construct()\n",
    "                lgb_test = lgb_data.subset(used_indices=test_idx.tolist(), params=params).construct()\n",
    "\n",
    "                model = lgb.train(params=params, train_set=lgb_train, num_boost_round=num_boost_round,\n",
    "                                  verbose_eval=False)\n",
    "                if i == 0:\n",
    "                    fi = get_fi(model).to_frame()\n",
    "                else:\n",
    "                    fi[i] = get_fi(model)\n",
    "\n",
    "\n",
    "                test_set = outcome_data.iloc[test_idx, :]\n",
    "                X_test = test_set.loc[:, model.feature_name()]\n",
    "                y_test = test_set.loc[:, label]\n",
    "                y_pred = {str(n): model.predict(X_test, num_iteration=n) for n in num_iterations}\n",
    "                cv_preds.append(y_test.to_frame('y_test').assign(**y_pred).assign(i=i))\n",
    "                nrounds.append(model.best_iteration)\n",
    "            feature_importance.append(fi.T.describe().T.assign(bagging_fraction=bagging_fraction,\n",
    "                                                               feature_fraction=feature_fraction,\n",
    "                                                               min_data_in_leaf=min_data_in_leaf))\n",
    "            cv_preds = pd.concat(cv_preds).assign(bagging_fraction=bagging_fraction,\n",
    "                                                  feature_fraction=feature_fraction,\n",
    "                                                  min_data_in_leaf=min_data_in_leaf)\n",
    "            predictions.append(cv_preds)\n",
    "            by_day = cv_preds.groupby(level='date')\n",
    "            ic_by_day = pd.concat([by_day.apply(lambda x: spearmanr(x.y_test, x[str(n)])[0]).to_frame(n)\n",
    "                                   for n in num_iterations], axis=1)\n",
    "\n",
    "            daily_ic.append(ic_by_day.assign(bagging_fraction=bagging_fraction,\n",
    "                                             feature_fraction=feature_fraction,\n",
    "                                             min_data_in_leaf=min_data_in_leaf))\n",
    "\n",
    "            cv_ic = [spearmanr(cv_preds.y_test, cv_preds[str(n)])[0] for n in num_iterations]\n",
    "\n",
    "            T += time() - start\n",
    "            ic.append([bagging_fraction, feature_fraction, min_data_in_leaf, lookahead] + cv_ic)\n",
    "\n",
    "            msg = f'{p:3.0f} | {format_time(T)} | '\n",
    "            msg += f'{bagging_fraction:3.0%} | {feature_fraction:3.0%} | {min_data_in_leaf:5,.0f} | '\n",
    "            msg += f'{max(cv_ic):6.2%} | {ic_by_day.mean().max(): 6.2%} | {ic_by_day.median().max(): 6.2%}'\n",
    "            print(msg)\n",
    "\n",
    "        m = pd.DataFrame(ic, columns=ic_cols)\n",
    "        m.to_hdf(cv_store, 'ic/' + key)\n",
    "        pd.concat(daily_ic).to_hdf(cv_store, 'daily_ic/' + key)\n",
    "        pd.concat(feature_importance).to_hdf(cv_store, 'fi/' + key)\n",
    "        pd.concat(predictions).to_hdf(cv_store, 'predictions/' + key)"
   ],
   "metadata": {
    "collapsed": false,
    "pycharm": {
     "name": "#%%\n",
     "is_executing": true
    }
   }
  },
  {
   "cell_type": "code",
   "execution_count": null,
   "outputs": [],
   "source": [],
   "metadata": {
    "collapsed": false,
    "pycharm": {
     "name": "#%%\n"
    }
   }
  }
 ],
 "metadata": {
  "kernelspec": {
   "display_name": "Python 3",
   "language": "python",
   "name": "python3"
  },
  "language_info": {
   "codemirror_mode": {
    "name": "ipython",
    "version": 2
   },
   "file_extension": ".py",
   "mimetype": "text/x-python",
   "name": "python",
   "nbconvert_exporter": "python",
   "pygments_lexer": "ipython2",
   "version": "2.7.6"
  }
 },
 "nbformat": 4,
 "nbformat_minor": 0
}