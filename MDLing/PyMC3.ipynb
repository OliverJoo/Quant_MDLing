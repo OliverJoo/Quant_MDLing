{
 "cells": [
  {
   "cell_type": "code",
   "execution_count": 4,
   "outputs": [
    {
     "name": "stdout",
     "output_type": "stream",
     "text": [
      "\n",
      "You can find the C code in this temporary file: C:\\Users\\19498\\AppData\\Local\\Temp\\theano_compilation_error_db1c52n9\n"
     ]
    },
    {
     "ename": "AttributeError",
     "evalue": "partially initialized module 'theano' has no attribute 'gof' (most likely due to a circular import)",
     "output_type": "error",
     "traceback": [
      "\u001B[1;31m---------------------------------------------------------------------------\u001B[0m",
      "\u001B[1;31mImportError\u001B[0m                               Traceback (most recent call last)",
      "File \u001B[1;32mD:\\99.Dev\\Python\\pythonProject\\lib\\site-packages\\theano\\gof\\lazylinker_c.py:76\u001B[0m, in \u001B[0;36m<module>\u001B[1;34m\u001B[0m\n\u001B[0;32m     75\u001B[0m         \u001B[38;5;28;01mif\u001B[39;00m version \u001B[38;5;241m!=\u001B[39m actual_version:\n\u001B[1;32m---> 76\u001B[0m             \u001B[38;5;28;01mraise\u001B[39;00m \u001B[38;5;167;01mImportError\u001B[39;00m(\n\u001B[0;32m     77\u001B[0m                 \u001B[38;5;124m\"\u001B[39m\u001B[38;5;124mVersion check of the existing lazylinker compiled file.\u001B[39m\u001B[38;5;124m\"\u001B[39m\n\u001B[0;32m     78\u001B[0m                 \u001B[38;5;124m\"\u001B[39m\u001B[38;5;124m Looking for version \u001B[39m\u001B[38;5;132;01m%s\u001B[39;00m\u001B[38;5;124m, but found \u001B[39m\u001B[38;5;132;01m%s\u001B[39;00m\u001B[38;5;124m. \u001B[39m\u001B[38;5;124m\"\u001B[39m\n\u001B[0;32m     79\u001B[0m                 \u001B[38;5;124m\"\u001B[39m\u001B[38;5;124mExtra debug information: force_compile=\u001B[39m\u001B[38;5;132;01m%s\u001B[39;00m\u001B[38;5;124m, _need_reload=\u001B[39m\u001B[38;5;132;01m%s\u001B[39;00m\u001B[38;5;124m\"\u001B[39m \u001B[38;5;241m%\u001B[39m (\n\u001B[0;32m     80\u001B[0m                     version,\n\u001B[0;32m     81\u001B[0m                     actual_version, force_compile, _need_reload))\n\u001B[0;32m     82\u001B[0m \u001B[38;5;28;01mexcept\u001B[39;00m \u001B[38;5;167;01mImportError\u001B[39;00m:\n",
      "\u001B[1;31mImportError\u001B[0m: Version check of the existing lazylinker compiled file. Looking for version 0.211, but found None. Extra debug information: force_compile=False, _need_reload=True",
      "\nDuring handling of the above exception, another exception occurred:\n",
      "\u001B[1;31mImportError\u001B[0m                               Traceback (most recent call last)",
      "File \u001B[1;32mD:\\99.Dev\\Python\\pythonProject\\lib\\site-packages\\theano\\gof\\lazylinker_c.py:99\u001B[0m, in \u001B[0;36m<module>\u001B[1;34m\u001B[0m\n\u001B[0;32m     98\u001B[0m     \u001B[38;5;28;01mif\u001B[39;00m version \u001B[38;5;241m!=\u001B[39m actual_version:\n\u001B[1;32m---> 99\u001B[0m         \u001B[38;5;28;01mraise\u001B[39;00m \u001B[38;5;167;01mImportError\u001B[39;00m(\n\u001B[0;32m    100\u001B[0m             \u001B[38;5;124m\"\u001B[39m\u001B[38;5;124mVersion check of the existing lazylinker compiled file.\u001B[39m\u001B[38;5;124m\"\u001B[39m\n\u001B[0;32m    101\u001B[0m             \u001B[38;5;124m\"\u001B[39m\u001B[38;5;124m Looking for version \u001B[39m\u001B[38;5;132;01m%s\u001B[39;00m\u001B[38;5;124m, but found \u001B[39m\u001B[38;5;132;01m%s\u001B[39;00m\u001B[38;5;124m. \u001B[39m\u001B[38;5;124m\"\u001B[39m\n\u001B[0;32m    102\u001B[0m             \u001B[38;5;124m\"\u001B[39m\u001B[38;5;124mExtra debug information: force_compile=\u001B[39m\u001B[38;5;132;01m%s\u001B[39;00m\u001B[38;5;124m,\u001B[39m\u001B[38;5;124m\"\u001B[39m\n\u001B[0;32m    103\u001B[0m             \u001B[38;5;124m\"\u001B[39m\u001B[38;5;124m _need_reload=\u001B[39m\u001B[38;5;132;01m%s\u001B[39;00m\u001B[38;5;124m\"\u001B[39m \u001B[38;5;241m%\u001B[39m (\n\u001B[0;32m    104\u001B[0m                 version,\n\u001B[0;32m    105\u001B[0m                 actual_version, force_compile, _need_reload))\n\u001B[0;32m    106\u001B[0m \u001B[38;5;28;01mexcept\u001B[39;00m \u001B[38;5;167;01mImportError\u001B[39;00m:\n\u001B[0;32m    107\u001B[0m     \u001B[38;5;66;03m# It is useless to try to compile if there isn't any\u001B[39;00m\n\u001B[0;32m    108\u001B[0m     \u001B[38;5;66;03m# compiler!  But we still want to try to load it, in case\u001B[39;00m\n\u001B[0;32m    109\u001B[0m     \u001B[38;5;66;03m# the cache was copied from another computer.\u001B[39;00m\n",
      "\u001B[1;31mImportError\u001B[0m: Version check of the existing lazylinker compiled file. Looking for version 0.211, but found None. Extra debug information: force_compile=False, _need_reload=True",
      "\nDuring handling of the above exception, another exception occurred:\n",
      "\u001B[1;31mException\u001B[0m                                 Traceback (most recent call last)",
      "File \u001B[1;32mD:\\99.Dev\\Python\\pythonProject\\lib\\site-packages\\theano\\gof\\vm.py:674\u001B[0m, in \u001B[0;36m<module>\u001B[1;34m\u001B[0m\n\u001B[0;32m    673\u001B[0m     \u001B[38;5;28;01mraise\u001B[39;00m theano\u001B[38;5;241m.\u001B[39mgof\u001B[38;5;241m.\u001B[39mcmodule\u001B[38;5;241m.\u001B[39mMissingGXX(\u001B[38;5;124m'\u001B[39m\u001B[38;5;124mlazylinker will not be imported if theano.config.cxx is not set.\u001B[39m\u001B[38;5;124m'\u001B[39m)\n\u001B[1;32m--> 674\u001B[0m \u001B[38;5;28;01mfrom\u001B[39;00m \u001B[38;5;21;01m.\u001B[39;00m \u001B[38;5;28;01mimport\u001B[39;00m lazylinker_c\n\u001B[0;32m    676\u001B[0m \u001B[38;5;28;01mclass\u001B[39;00m \u001B[38;5;21;01mCVM\u001B[39;00m(lazylinker_c\u001B[38;5;241m.\u001B[39mCLazyLinker, VM):\n",
      "File \u001B[1;32mD:\\99.Dev\\Python\\pythonProject\\lib\\site-packages\\theano\\gof\\lazylinker_c.py:139\u001B[0m, in \u001B[0;36m<module>\u001B[1;34m\u001B[0m\n\u001B[0;32m    138\u001B[0m args \u001B[38;5;241m=\u001B[39m cmodule\u001B[38;5;241m.\u001B[39mGCC_compiler\u001B[38;5;241m.\u001B[39mcompile_args()\n\u001B[1;32m--> 139\u001B[0m \u001B[43mcmodule\u001B[49m\u001B[38;5;241;43m.\u001B[39;49m\u001B[43mGCC_compiler\u001B[49m\u001B[38;5;241;43m.\u001B[39;49m\u001B[43mcompile_str\u001B[49m\u001B[43m(\u001B[49m\u001B[43mdirname\u001B[49m\u001B[43m,\u001B[49m\u001B[43m \u001B[49m\u001B[43mcode\u001B[49m\u001B[43m,\u001B[49m\u001B[43m \u001B[49m\u001B[43mlocation\u001B[49m\u001B[38;5;241;43m=\u001B[39;49m\u001B[43mloc\u001B[49m\u001B[43m,\u001B[49m\n\u001B[0;32m    140\u001B[0m \u001B[43m                                 \u001B[49m\u001B[43mpreargs\u001B[49m\u001B[38;5;241;43m=\u001B[39;49m\u001B[43margs\u001B[49m\u001B[43m)\u001B[49m\n\u001B[0;32m    141\u001B[0m \u001B[38;5;66;03m# Save version into the __init__.py file.\u001B[39;00m\n",
      "File \u001B[1;32mD:\\99.Dev\\Python\\pythonProject\\lib\\site-packages\\theano\\gof\\cmodule.py:2410\u001B[0m, in \u001B[0;36mGCC_compiler.compile_str\u001B[1;34m(module_name, src_code, location, include_dirs, lib_dirs, libs, preargs, py_module, hide_symbols)\u001B[0m\n\u001B[0;32m   2407\u001B[0m     \u001B[38;5;66;03m# We replace '\\n' by '. ' in the error message because when Python\u001B[39;00m\n\u001B[0;32m   2408\u001B[0m     \u001B[38;5;66;03m# prints the exception, having '\\n' in the text makes it more\u001B[39;00m\n\u001B[0;32m   2409\u001B[0m     \u001B[38;5;66;03m# difficult to read.\u001B[39;00m\n\u001B[1;32m-> 2410\u001B[0m     \u001B[38;5;28;01mraise\u001B[39;00m \u001B[38;5;167;01mException\u001B[39;00m(\u001B[38;5;124m'\u001B[39m\u001B[38;5;124mCompilation failed (return status=\u001B[39m\u001B[38;5;132;01m%s\u001B[39;00m\u001B[38;5;124m): \u001B[39m\u001B[38;5;132;01m%s\u001B[39;00m\u001B[38;5;124m'\u001B[39m \u001B[38;5;241m%\u001B[39m\n\u001B[0;32m   2411\u001B[0m                     (status, compile_stderr\u001B[38;5;241m.\u001B[39mreplace(\u001B[38;5;124m'\u001B[39m\u001B[38;5;130;01m\\n\u001B[39;00m\u001B[38;5;124m'\u001B[39m, \u001B[38;5;124m'\u001B[39m\u001B[38;5;124m. \u001B[39m\u001B[38;5;124m'\u001B[39m)))\n\u001B[0;32m   2412\u001B[0m \u001B[38;5;28;01melif\u001B[39;00m config\u001B[38;5;241m.\u001B[39mcmodule\u001B[38;5;241m.\u001B[39mcompilation_warning \u001B[38;5;129;01mand\u001B[39;00m compile_stderr:\n\u001B[0;32m   2413\u001B[0m     \u001B[38;5;66;03m# Print errors just below the command line.\u001B[39;00m\n",
      "\u001B[1;31mException\u001B[0m: Compilation failed (return status=1): C:\\Users\\19498\\AppData\\Local\\Theano\\compiledir_Windows-10-10.0.19044-SP0-Intel64_Family_6_Model_165_Stepping_2_GenuineIntel-3.8.10-64\\lazylinker_ext\\mod.cpp:1:0: sorry, unimplemented: 64-bit mode not compiled in\r.  #include <Python.h>\r.  \r. ",
      "\nDuring handling of the above exception, another exception occurred:\n",
      "\u001B[1;31mAttributeError\u001B[0m                            Traceback (most recent call last)",
      "Input \u001B[1;32mIn [4]\u001B[0m, in \u001B[0;36m<cell line: 31>\u001B[1;34m()\u001B[0m\n\u001B[0;32m     28\u001B[0m     \u001B[38;5;28;01mif\u001B[39;00m \u001B[38;5;129;01mnot\u001B[39;00m p\u001B[38;5;241m.\u001B[39mexists():\n\u001B[0;32m     29\u001B[0m         p\u001B[38;5;241m.\u001B[39mmkdir()\n\u001B[1;32m---> 31\u001B[0m \u001B[38;5;28;01mimport\u001B[39;00m \u001B[38;5;21;01mpymc3\u001B[39;00m \u001B[38;5;28;01mas\u001B[39;00m \u001B[38;5;21;01mpm\u001B[39;00m\n\u001B[0;32m     32\u001B[0m \u001B[38;5;28;01mfrom\u001B[39;00m \u001B[38;5;21;01mpymc3\u001B[39;00m\u001B[38;5;21;01m.\u001B[39;00m\u001B[38;5;21;01mvariational\u001B[39;00m\u001B[38;5;21;01m.\u001B[39;00m\u001B[38;5;21;01mcallbacks\u001B[39;00m \u001B[38;5;28;01mimport\u001B[39;00m CheckParametersConvergence\n\u001B[0;32m     33\u001B[0m \u001B[38;5;28;01mimport\u001B[39;00m \u001B[38;5;21;01marviz\u001B[39;00m\n",
      "File \u001B[1;32mD:\\99.Dev\\Python\\pythonProject\\lib\\site-packages\\pymc3\\__init__.py:45\u001B[0m, in \u001B[0;36m<module>\u001B[1;34m\u001B[0m\n\u001B[0;32m     41\u001B[0m         blas_info \u001B[38;5;241m=\u001B[39m numpy\u001B[38;5;241m.\u001B[39mdistutils\u001B[38;5;241m.\u001B[39msystem_info\u001B[38;5;241m.\u001B[39mget_info(\u001B[38;5;124m\"\u001B[39m\u001B[38;5;124mblas_opt\u001B[39m\u001B[38;5;124m\"\u001B[39m)\n\u001B[0;32m     43\u001B[0m     numpy\u001B[38;5;241m.\u001B[39mdistutils\u001B[38;5;241m.\u001B[39m__config__\u001B[38;5;241m.\u001B[39mblas_opt_info \u001B[38;5;241m=\u001B[39m blas_info\n\u001B[1;32m---> 45\u001B[0m \u001B[38;5;28;01mimport\u001B[39;00m \u001B[38;5;21;01mtheano\u001B[39;00m\n\u001B[0;32m     47\u001B[0m _log \u001B[38;5;241m=\u001B[39m logging\u001B[38;5;241m.\u001B[39mgetLogger(\u001B[38;5;124m\"\u001B[39m\u001B[38;5;124mpymc3\u001B[39m\u001B[38;5;124m\"\u001B[39m)\n\u001B[0;32m     49\u001B[0m \u001B[38;5;28;01mif\u001B[39;00m \u001B[38;5;129;01mnot\u001B[39;00m logging\u001B[38;5;241m.\u001B[39mroot\u001B[38;5;241m.\u001B[39mhandlers:\n",
      "File \u001B[1;32mD:\\99.Dev\\Python\\pythonProject\\lib\\site-packages\\theano\\__init__.py:110\u001B[0m, in \u001B[0;36m<module>\u001B[1;34m\u001B[0m\n\u001B[0;32m     97\u001B[0m __api_version__ \u001B[38;5;241m=\u001B[39m \u001B[38;5;241m1\u001B[39m\n\u001B[0;32m     99\u001B[0m \u001B[38;5;28;01mfrom\u001B[39;00m \u001B[38;5;21;01mtheano\u001B[39;00m\u001B[38;5;21;01m.\u001B[39;00m\u001B[38;5;21;01mgof\u001B[39;00m \u001B[38;5;28;01mimport\u001B[39;00m (\n\u001B[0;32m    100\u001B[0m     CLinker, OpWiseCLinker, DualLinker, Linker, LocalLinker, PerformLinker,\n\u001B[0;32m    101\u001B[0m     Container,\n\u001B[1;32m   (...)\u001B[0m\n\u001B[0;32m    107\u001B[0m     Type, Generic, generic,\n\u001B[0;32m    108\u001B[0m     object2, utils)\n\u001B[1;32m--> 110\u001B[0m \u001B[38;5;28;01mfrom\u001B[39;00m \u001B[38;5;21;01mtheano\u001B[39;00m\u001B[38;5;21;01m.\u001B[39;00m\u001B[38;5;21;01mcompile\u001B[39;00m \u001B[38;5;28;01mimport\u001B[39;00m (\n\u001B[0;32m    111\u001B[0m     SymbolicInput, In,\n\u001B[0;32m    112\u001B[0m     SymbolicOutput, Out,\n\u001B[0;32m    113\u001B[0m     Mode,\n\u001B[0;32m    114\u001B[0m     predefined_modes, predefined_linkers, predefined_optimizers,\n\u001B[0;32m    115\u001B[0m     FunctionMaker, function, function_dump,\n\u001B[0;32m    116\u001B[0m     OpFromGraph,\n\u001B[0;32m    117\u001B[0m     ProfileStats,\n\u001B[0;32m    118\u001B[0m     Param, shared, as_op)\n\u001B[0;32m    120\u001B[0m \u001B[38;5;28;01mfrom\u001B[39;00m \u001B[38;5;21;01mtheano\u001B[39;00m\u001B[38;5;21;01m.\u001B[39;00m\u001B[38;5;21;01mmisc\u001B[39;00m\u001B[38;5;21;01m.\u001B[39;00m\u001B[38;5;21;01msafe_asarray\u001B[39;00m \u001B[38;5;28;01mimport\u001B[39;00m _asarray\n\u001B[0;32m    122\u001B[0m \u001B[38;5;28;01mfrom\u001B[39;00m \u001B[38;5;21;01mtheano\u001B[39;00m\u001B[38;5;21;01m.\u001B[39;00m\u001B[38;5;21;01mprinting\u001B[39;00m \u001B[38;5;28;01mimport\u001B[39;00m pprint, pp\n",
      "File \u001B[1;32mD:\\99.Dev\\Python\\pythonProject\\lib\\site-packages\\theano\\compile\\__init__.py:12\u001B[0m, in \u001B[0;36m<module>\u001B[1;34m\u001B[0m\n\u001B[0;32m      2\u001B[0m \u001B[38;5;28;01mfrom\u001B[39;00m \u001B[38;5;21;01mtheano\u001B[39;00m\u001B[38;5;21;01m.\u001B[39;00m\u001B[38;5;21;01mcompile\u001B[39;00m\u001B[38;5;21;01m.\u001B[39;00m\u001B[38;5;21;01mops\u001B[39;00m \u001B[38;5;28;01mimport\u001B[39;00m (\n\u001B[0;32m      3\u001B[0m         DeepCopyOp, deep_copy_op, register_deep_copy_op_c_code,\n\u001B[0;32m      4\u001B[0m         Shape, shape, register_shape_c_code,\n\u001B[1;32m   (...)\u001B[0m\n\u001B[0;32m      7\u001B[0m         as_op, Rebroadcast, register_rebroadcast_c_code,\n\u001B[0;32m      8\u001B[0m         SpecifyShape, specify_shape, register_specify_shape_c_code)\n\u001B[0;32m     10\u001B[0m \u001B[38;5;28;01mfrom\u001B[39;00m \u001B[38;5;21;01mtheano\u001B[39;00m\u001B[38;5;21;01m.\u001B[39;00m\u001B[38;5;21;01mcompile\u001B[39;00m\u001B[38;5;21;01m.\u001B[39;00m\u001B[38;5;21;01mfunction_module\u001B[39;00m \u001B[38;5;28;01mimport\u001B[39;00m \u001B[38;5;241m*\u001B[39m\n\u001B[1;32m---> 12\u001B[0m \u001B[38;5;28;01mfrom\u001B[39;00m \u001B[38;5;21;01mtheano\u001B[39;00m\u001B[38;5;21;01m.\u001B[39;00m\u001B[38;5;21;01mcompile\u001B[39;00m\u001B[38;5;21;01m.\u001B[39;00m\u001B[38;5;21;01mmode\u001B[39;00m \u001B[38;5;28;01mimport\u001B[39;00m \u001B[38;5;241m*\u001B[39m\n\u001B[0;32m     14\u001B[0m \u001B[38;5;28;01mfrom\u001B[39;00m \u001B[38;5;21;01mtheano\u001B[39;00m\u001B[38;5;21;01m.\u001B[39;00m\u001B[38;5;21;01mcompile\u001B[39;00m\u001B[38;5;21;01m.\u001B[39;00m\u001B[38;5;21;01mio\u001B[39;00m \u001B[38;5;28;01mimport\u001B[39;00m \u001B[38;5;241m*\u001B[39m\n\u001B[0;32m     16\u001B[0m \u001B[38;5;28;01mfrom\u001B[39;00m \u001B[38;5;21;01mtheano\u001B[39;00m\u001B[38;5;21;01m.\u001B[39;00m\u001B[38;5;21;01mcompile\u001B[39;00m\u001B[38;5;21;01m.\u001B[39;00m\u001B[38;5;21;01mdebugmode\u001B[39;00m \u001B[38;5;28;01mimport\u001B[39;00m DebugMode\n",
      "File \u001B[1;32mD:\\99.Dev\\Python\\pythonProject\\lib\\site-packages\\theano\\compile\\mode.py:11\u001B[0m, in \u001B[0;36m<module>\u001B[1;34m\u001B[0m\n\u001B[0;32m      9\u001B[0m \u001B[38;5;28;01mimport\u001B[39;00m \u001B[38;5;21;01mtheano\u001B[39;00m\n\u001B[0;32m     10\u001B[0m \u001B[38;5;28;01mfrom\u001B[39;00m \u001B[38;5;21;01mtheano\u001B[39;00m \u001B[38;5;28;01mimport\u001B[39;00m gof\n\u001B[1;32m---> 11\u001B[0m \u001B[38;5;28;01mimport\u001B[39;00m \u001B[38;5;21;01mtheano\u001B[39;00m\u001B[38;5;21;01m.\u001B[39;00m\u001B[38;5;21;01mgof\u001B[39;00m\u001B[38;5;21;01m.\u001B[39;00m\u001B[38;5;21;01mvm\u001B[39;00m\n\u001B[0;32m     12\u001B[0m \u001B[38;5;28;01mfrom\u001B[39;00m \u001B[38;5;21;01mtheano\u001B[39;00m \u001B[38;5;28;01mimport\u001B[39;00m config\n\u001B[0;32m     13\u001B[0m \u001B[38;5;28;01mfrom\u001B[39;00m \u001B[38;5;21;01msix\u001B[39;00m \u001B[38;5;28;01mimport\u001B[39;00m string_types\n",
      "File \u001B[1;32mD:\\99.Dev\\Python\\pythonProject\\lib\\site-packages\\theano\\gof\\vm.py:683\u001B[0m, in \u001B[0;36m<module>\u001B[1;34m\u001B[0m\n\u001B[0;32m    681\u001B[0m \u001B[38;5;28;01mexcept\u001B[39;00m \u001B[38;5;167;01mImportError\u001B[39;00m:\n\u001B[0;32m    682\u001B[0m     \u001B[38;5;28;01mpass\u001B[39;00m\n\u001B[1;32m--> 683\u001B[0m \u001B[38;5;28;01mexcept\u001B[39;00m (\u001B[38;5;167;01mOSError\u001B[39;00m, \u001B[43mtheano\u001B[49m\u001B[38;5;241;43m.\u001B[39;49m\u001B[43mgof\u001B[49m\u001B[38;5;241m.\u001B[39mcmodule\u001B[38;5;241m.\u001B[39mMissingGXX) \u001B[38;5;28;01mas\u001B[39;00m e:\n\u001B[0;32m    684\u001B[0m     \u001B[38;5;66;03m# OSError happens when g++ is not installed.  In that case, we\u001B[39;00m\n\u001B[0;32m    685\u001B[0m     \u001B[38;5;66;03m# already changed the default linker to something else then CVM.\u001B[39;00m\n\u001B[0;32m    686\u001B[0m     \u001B[38;5;66;03m# Currently this is the py linker.\u001B[39;00m\n\u001B[0;32m    687\u001B[0m     \u001B[38;5;66;03m# Here we assert that the default linker is not cvm.\u001B[39;00m\n\u001B[0;32m    688\u001B[0m     \u001B[38;5;28;01massert\u001B[39;00m \u001B[38;5;129;01mnot\u001B[39;00m [x \u001B[38;5;28;01mfor\u001B[39;00m x \u001B[38;5;129;01min\u001B[39;00m _config_var_list\n\u001B[0;32m    689\u001B[0m                 \u001B[38;5;28;01mif\u001B[39;00m x\u001B[38;5;241m.\u001B[39mfullname \u001B[38;5;241m==\u001B[39m \u001B[38;5;124m'\u001B[39m\u001B[38;5;124mlinker\u001B[39m\u001B[38;5;124m'\u001B[39m][\u001B[38;5;241m0\u001B[39m]\u001B[38;5;241m.\u001B[39mdefault\u001B[38;5;241m.\u001B[39mstartswith(\u001B[38;5;124m'\u001B[39m\u001B[38;5;124mcvm\u001B[39m\u001B[38;5;124m'\u001B[39m), e\n\u001B[0;32m    690\u001B[0m     \u001B[38;5;28;01mpass\u001B[39;00m\n",
      "\u001B[1;31mAttributeError\u001B[0m: partially initialized module 'theano' has no attribute 'gof' (most likely due to a circular import)"
     ]
    }
   ],
   "source": [
    "import warnings\n",
    "warnings.filterwarnings('ignore')\n",
    "%matplotlib inline\n",
    "from pathlib import Path\n",
    "import pickle\n",
    "import pandas as pd\n",
    "import numpy as np\n",
    "from scipy import stats\n",
    "\n",
    "import pandas_datareader.data as web\n",
    "\n",
    "from sklearn.preprocessing import scale\n",
    "from sklearn.model_selection import train_test_split\n",
    "from sklearn.feature_selection import mutual_info_classif\n",
    "from sklearn.metrics import roc_auc_score\n",
    "\n",
    "import statsmodels.formula.api as smf\n",
    "\n",
    "import matplotlib.pyplot as plt\n",
    "from matplotlib import animation\n",
    "import seaborn as sns\n",
    "from IPython.display import HTML\n",
    "sns.set_style('whitegrid')\n",
    "data_path = Path('data')\n",
    "fig_path = Path('figures')\n",
    "model_path = Path('models')\n",
    "for p in [data_path, fig_path, model_path]:\n",
    "    if not p.exists():\n",
    "        p.mkdir()\n",
    "\n",
    "import pymc3 as pm\n",
    "from pymc3.variational.callbacks import CheckParametersConvergence\n",
    "import arviz\n",
    "import theano\n"
   ],
   "metadata": {
    "collapsed": false,
    "pycharm": {
     "name": "#%%\n"
    }
   }
  },
  {
   "cell_type": "code",
   "execution_count": 5,
   "outputs": [
    {
     "data": {
      "text/plain": "            recession  yield_curve  financial_conditions  leverage  sentiment\nDATE                                                                         \n2022-09-30        0.0         0.50              -0.11330  -0.93985       58.6\n2022-10-31        0.0        -0.12              -0.14161  -0.89611       59.9\n2022-11-30        0.0        -0.69              -0.20458  -0.86048       56.8\n2022-12-31        0.0        -0.54              -0.25475  -0.82518       59.7\n2023-01-31        0.0        -0.54              -0.25475  -0.82518       64.9",
      "text/html": "<div>\n<style scoped>\n    .dataframe tbody tr th:only-of-type {\n        vertical-align: middle;\n    }\n\n    .dataframe tbody tr th {\n        vertical-align: top;\n    }\n\n    .dataframe thead th {\n        text-align: right;\n    }\n</style>\n<table border=\"1\" class=\"dataframe\">\n  <thead>\n    <tr style=\"text-align: right;\">\n      <th></th>\n      <th>recession</th>\n      <th>yield_curve</th>\n      <th>financial_conditions</th>\n      <th>leverage</th>\n      <th>sentiment</th>\n    </tr>\n    <tr>\n      <th>DATE</th>\n      <th></th>\n      <th></th>\n      <th></th>\n      <th></th>\n      <th></th>\n    </tr>\n  </thead>\n  <tbody>\n    <tr>\n      <th>2022-09-30</th>\n      <td>0.0</td>\n      <td>0.50</td>\n      <td>-0.11330</td>\n      <td>-0.93985</td>\n      <td>58.6</td>\n    </tr>\n    <tr>\n      <th>2022-10-31</th>\n      <td>0.0</td>\n      <td>-0.12</td>\n      <td>-0.14161</td>\n      <td>-0.89611</td>\n      <td>59.9</td>\n    </tr>\n    <tr>\n      <th>2022-11-30</th>\n      <td>0.0</td>\n      <td>-0.69</td>\n      <td>-0.20458</td>\n      <td>-0.86048</td>\n      <td>56.8</td>\n    </tr>\n    <tr>\n      <th>2022-12-31</th>\n      <td>0.0</td>\n      <td>-0.54</td>\n      <td>-0.25475</td>\n      <td>-0.82518</td>\n      <td>59.7</td>\n    </tr>\n    <tr>\n      <th>2023-01-31</th>\n      <td>0.0</td>\n      <td>-0.54</td>\n      <td>-0.25475</td>\n      <td>-0.82518</td>\n      <td>64.9</td>\n    </tr>\n  </tbody>\n</table>\n</div>"
     },
     "execution_count": 5,
     "metadata": {},
     "output_type": "execute_result"
    }
   ],
   "source": [
    "#  source: https://fred.stlouisfed.org/\n",
    "indicators = ['JHDUSRGDPBR', 'T10Y3M', 'NFCI', 'NFCINONFINLEVERAGE', 'UMCSENT']\n",
    "var_names = ['recession', 'yield_curve', 'financial_conditions', 'leverage', 'sentiment']\n",
    "features = var_names[1:]\n",
    "label = var_names[0]\n",
    "# leading indicator for Recession: Yield Curve, Financial Conditions, Leverage, Sentiment\n",
    "var_display = ['Recession', 'Yield Curve', 'Financial Conditions', 'Leverage', 'Sentiment']\n",
    "col_dict = dict(zip(var_names, var_display))\n",
    "data = (web.DataReader(indicators, 'fred', 1980, 2023).ffill().resample('M').last().dropna())\n",
    "data.columns = var_names\n",
    "data.tail()"
   ],
   "metadata": {
    "collapsed": false,
    "pycharm": {
     "name": "#%%\n"
    }
   }
  },
  {
   "cell_type": "code",
   "execution_count": 6,
   "outputs": [
    {
     "name": "stdout",
     "output_type": "stream",
     "text": [
      "<class 'pandas.core.frame.DataFrame'>\n",
      "DatetimeIndex: 493 entries, 1982-01-31 to 2023-01-31\n",
      "Freq: M\n",
      "Data columns (total 5 columns):\n",
      " #   Column                Non-Null Count  Dtype  \n",
      "---  ------                --------------  -----  \n",
      " 0   recession             493 non-null    float64\n",
      " 1   yield_curve           493 non-null    float64\n",
      " 2   financial_conditions  493 non-null    float64\n",
      " 3   leverage              493 non-null    float64\n",
      " 4   sentiment             493 non-null    float64\n",
      "dtypes: float64(5)\n",
      "memory usage: 23.1 KB\n"
     ]
    }
   ],
   "source": [
    "data.loc[:, features] = scale(data.loc[:, features])\n",
    "data.info()"
   ],
   "metadata": {
    "collapsed": false,
    "pycharm": {
     "name": "#%%\n"
    }
   }
  },
  {
   "cell_type": "code",
   "execution_count": 7,
   "outputs": [
    {
     "data": {
      "text/plain": "            recession  yield_curve  financial_conditions  leverage  sentiment\nDATE                                                                         \n2022-09-30        0.0    -1.068749              0.253579 -0.878758  -2.259614\n2022-10-31        0.0    -1.621684              0.209220 -0.837101  -2.155632\n2022-11-30        0.0    -2.130027              0.110555 -0.803168  -2.403589\n2022-12-31        0.0    -1.996252              0.031945 -0.769549  -2.171629\n2023-01-31        0.0    -1.996252              0.031945 -0.769549  -1.755702",
      "text/html": "<div>\n<style scoped>\n    .dataframe tbody tr th:only-of-type {\n        vertical-align: middle;\n    }\n\n    .dataframe tbody tr th {\n        vertical-align: top;\n    }\n\n    .dataframe thead th {\n        text-align: right;\n    }\n</style>\n<table border=\"1\" class=\"dataframe\">\n  <thead>\n    <tr style=\"text-align: right;\">\n      <th></th>\n      <th>recession</th>\n      <th>yield_curve</th>\n      <th>financial_conditions</th>\n      <th>leverage</th>\n      <th>sentiment</th>\n    </tr>\n    <tr>\n      <th>DATE</th>\n      <th></th>\n      <th></th>\n      <th></th>\n      <th></th>\n      <th></th>\n    </tr>\n  </thead>\n  <tbody>\n    <tr>\n      <th>2022-09-30</th>\n      <td>0.0</td>\n      <td>-1.068749</td>\n      <td>0.253579</td>\n      <td>-0.878758</td>\n      <td>-2.259614</td>\n    </tr>\n    <tr>\n      <th>2022-10-31</th>\n      <td>0.0</td>\n      <td>-1.621684</td>\n      <td>0.209220</td>\n      <td>-0.837101</td>\n      <td>-2.155632</td>\n    </tr>\n    <tr>\n      <th>2022-11-30</th>\n      <td>0.0</td>\n      <td>-2.130027</td>\n      <td>0.110555</td>\n      <td>-0.803168</td>\n      <td>-2.403589</td>\n    </tr>\n    <tr>\n      <th>2022-12-31</th>\n      <td>0.0</td>\n      <td>-1.996252</td>\n      <td>0.031945</td>\n      <td>-0.769549</td>\n      <td>-2.171629</td>\n    </tr>\n    <tr>\n      <th>2023-01-31</th>\n      <td>0.0</td>\n      <td>-1.996252</td>\n      <td>0.031945</td>\n      <td>-0.769549</td>\n      <td>-1.755702</td>\n    </tr>\n  </tbody>\n</table>\n</div>"
     },
     "execution_count": 7,
     "metadata": {},
     "output_type": "execute_result"
    }
   ],
   "source": [
    "data.tail()"
   ],
   "metadata": {
    "collapsed": false,
    "pycharm": {
     "name": "#%%\n"
    }
   }
  },
  {
   "cell_type": "code",
   "execution_count": 8,
   "outputs": [
    {
     "data": {
      "text/plain": "<Figure size 864x288 with 1 Axes>",
      "image/png": "[encoded data removed]"
     },
     "metadata": {},
     "output_type": "display_data"
    }
   ],
   "source": [
    "mi = []\n",
    "months = list(range(1, 25))\n",
    "for month in months:\n",
    "    df_ = data.copy()\n",
    "    df_[label] = df_[label].shift(-month)\n",
    "    df_ = df_.dropna()\n",
    "    # mutual_info_classif: Estimate mutual information for a discrete target variable\n",
    "    mi.append(mutual_info_classif(df_.loc[:, features], df_[label]))\n",
    "mi = pd.DataFrame(mi, columns=features, index=months)\n",
    "mi.sum(1).mul(100).iloc[:12].sort_index(ascending=False).plot.barh(figsize=(12, 4), xlim=(15, 40));"
   ],
   "metadata": {
    "collapsed": false,
    "pycharm": {
     "name": "#%%\n"
    }
   }
  },
  {
   "cell_type": "code",
   "execution_count": 10,
   "outputs": [
    {
     "data": {
      "text/plain": "    yield_curve  financial_conditions  leverage  sentiment\n20     0.101563              0.087277  0.176023   0.033907\n21     0.097630              0.088616  0.176622   0.041785\n22     0.101789              0.075761  0.158315   0.041714\n23     0.065952              0.073918  0.127289   0.041221\n24     0.036196              0.065641  0.111892   0.024398",
      "text/html": "<div>\n<style scoped>\n    .dataframe tbody tr th:only-of-type {\n        vertical-align: middle;\n    }\n\n    .dataframe tbody tr th {\n        vertical-align: top;\n    }\n\n    .dataframe thead th {\n        text-align: right;\n    }\n</style>\n<table border=\"1\" class=\"dataframe\">\n  <thead>\n    <tr style=\"text-align: right;\">\n      <th></th>\n      <th>yield_curve</th>\n      <th>financial_conditions</th>\n      <th>leverage</th>\n      <th>sentiment</th>\n    </tr>\n  </thead>\n  <tbody>\n    <tr>\n      <th>20</th>\n      <td>0.101563</td>\n      <td>0.087277</td>\n      <td>0.176023</td>\n      <td>0.033907</td>\n    </tr>\n    <tr>\n      <th>21</th>\n      <td>0.097630</td>\n      <td>0.088616</td>\n      <td>0.176622</td>\n      <td>0.041785</td>\n    </tr>\n    <tr>\n      <th>22</th>\n      <td>0.101789</td>\n      <td>0.075761</td>\n      <td>0.158315</td>\n      <td>0.041714</td>\n    </tr>\n    <tr>\n      <th>23</th>\n      <td>0.065952</td>\n      <td>0.073918</td>\n      <td>0.127289</td>\n      <td>0.041221</td>\n    </tr>\n    <tr>\n      <th>24</th>\n      <td>0.036196</td>\n      <td>0.065641</td>\n      <td>0.111892</td>\n      <td>0.024398</td>\n    </tr>\n  </tbody>\n</table>\n</div>"
     },
     "execution_count": 10,
     "metadata": {},
     "output_type": "execute_result"
    }
   ],
   "source": [
    "mi.tail()"
   ],
   "metadata": {
    "collapsed": false,
    "pycharm": {
     "name": "#%%\n"
    }
   }
  },
  {
   "cell_type": "code",
   "execution_count": 9,
   "outputs": [
    {
     "data": {
      "text/plain": "<Figure size 1440x216 with 1 Axes>",
      "image/png": "[encoded data removed]"
     },
     "metadata": {},
     "output_type": "display_data"
    }
   ],
   "source": [
    "fig, ax = plt.subplots(figsize=(20, 3))\n",
    "sns.heatmap(mi.rename(columns=col_dict).T*100, cmap='Greys', ax=ax, annot=True, fmt='.1f', cbar=False)\n",
    "ax.set_xlabel('Lead Time (Months)')\n",
    "ax.set_title('Mutual Information between Indicators and Recession by Lead Time')\n",
    "fig.tight_layout()"
   ],
   "metadata": {
    "collapsed": false,
    "pycharm": {
     "name": "#%%\n"
    }
   }
  },
  {
   "cell_type": "code",
   "execution_count": 12,
   "outputs": [
    {
     "data": {
      "text/plain": "<Figure size 1440x360 with 4 Axes>",
      "image/png": "[encoded data removed]"
     },
     "metadata": {},
     "output_type": "display_data"
    }
   ],
   "source": [
    "data[label] = data[label].shift(-12)\n",
    "data = data.dropna()\n",
    "data_ = pd.melt(data.rename(columns=col_dict), id_vars='Recession').rename(columns=str.capitalize)\n",
    "g = sns.catplot(x='Recession', y='Value', col='Variable', data=data_, kind='box');"
   ],
   "metadata": {
    "collapsed": false,
    "pycharm": {
     "name": "#%%\n"
    }
   }
  },
  {
   "cell_type": "code",
   "execution_count": 19,
   "outputs": [
    {
     "data": {
      "text/plain": "0.0    427\n1.0     54\nName: recession, dtype: int64"
     },
     "execution_count": 19,
     "metadata": {},
     "output_type": "execute_result"
    }
   ],
   "source": [
    "X = data.loc[:, features]\n",
    "y = data[label]\n",
    "y.value_counts()"
   ],
   "metadata": {
    "collapsed": false,
    "pycharm": {
     "name": "#%%\n"
    }
   }
  },
  {
   "cell_type": "code",
   "execution_count": 20,
   "outputs": [],
   "source": [
    "data.to_csv('data/recessions.csv')"
   ],
   "metadata": {
    "collapsed": false,
    "pycharm": {
     "name": "#%%\n"
    }
   }
  },
  {
   "cell_type": "code",
   "execution_count": 21,
   "outputs": [
    {
     "name": "stdout",
     "output_type": "stream",
     "text": [
      "<class 'pandas.core.frame.DataFrame'>\n",
      "Index: 481 entries, 1982-01-31 to 2022-01-31\n",
      "Data columns (total 5 columns):\n",
      " #   Column                Non-Null Count  Dtype  \n",
      "---  ------                --------------  -----  \n",
      " 0   recession             481 non-null    float64\n",
      " 1   yield_curve           481 non-null    float64\n",
      " 2   financial_conditions  481 non-null    float64\n",
      " 3   leverage              481 non-null    float64\n",
      " 4   sentiment             481 non-null    float64\n",
      "dtypes: float64(5)\n",
      "memory usage: 22.5+ KB\n"
     ]
    }
   ],
   "source": [
    "data = pd.read_csv('data/recessions.csv', index_col=0)\n",
    "data.info()"
   ],
   "metadata": {
    "collapsed": false,
    "pycharm": {
     "name": "#%%\n"
    }
   }
  },
  {
   "cell_type": "code",
   "execution_count": 22,
   "outputs": [],
   "source": [
    "simple_model = 'recession ~ yield_curve + leverage'\n",
    "full_model =  simple_model + ' + financial_conditions + sentiment'"
   ],
   "metadata": {
    "collapsed": false,
    "pycharm": {
     "name": "#%%\n"
    }
   }
  },
  {
   "cell_type": "code",
   "execution_count": 28,
   "outputs": [
    {
     "ename": "NameError",
     "evalue": "name 'pm' is not defined",
     "output_type": "error",
     "traceback": [
      "\u001B[1;31m---------------------------------------------------------------------------\u001B[0m",
      "\u001B[1;31mNameError\u001B[0m                                 Traceback (most recent call last)",
      "Input \u001B[1;32mIn [28]\u001B[0m, in \u001B[0;36m<cell line: 1>\u001B[1;34m()\u001B[0m\n\u001B[1;32m----> 1\u001B[0m \u001B[38;5;28;01mwith\u001B[39;00m \u001B[43mpm\u001B[49m\u001B[38;5;241m.\u001B[39mModel() \u001B[38;5;28;01mas\u001B[39;00m manual_logistic_model:\n\u001B[0;32m      2\u001B[0m     \u001B[38;5;66;03m# random variables for coefficients with\u001B[39;00m\n\u001B[0;32m      3\u001B[0m     \u001B[38;5;66;03m# uninformative priors for each parameter\u001B[39;00m\n\u001B[0;32m      5\u001B[0m     intercept \u001B[38;5;241m=\u001B[39m pm\u001B[38;5;241m.\u001B[39mNormal(\u001B[38;5;124m'\u001B[39m\u001B[38;5;124mintercept\u001B[39m\u001B[38;5;124m'\u001B[39m, \u001B[38;5;241m0\u001B[39m, sd\u001B[38;5;241m=\u001B[39m\u001B[38;5;241m100\u001B[39m)\n\u001B[0;32m      6\u001B[0m     beta_1 \u001B[38;5;241m=\u001B[39m pm\u001B[38;5;241m.\u001B[39mNormal(\u001B[38;5;124m'\u001B[39m\u001B[38;5;124mbeta_1\u001B[39m\u001B[38;5;124m'\u001B[39m, \u001B[38;5;241m0\u001B[39m, sd\u001B[38;5;241m=\u001B[39m\u001B[38;5;241m100\u001B[39m)\n",
      "\u001B[1;31mNameError\u001B[0m: name 'pm' is not defined"
     ]
    }
   ],
   "source": [
    "with pm.Model() as manual_logistic_model:\n",
    "    # random variables for coefficients with\n",
    "    # uninformative priors for each parameter\n",
    "\n",
    "    intercept = pm.Normal('intercept', 0, sd=100)\n",
    "    beta_1 = pm.Normal('beta_1', 0, sd=100)\n",
    "    beta_2 = pm.Normal('beta_2', 0, sd=100)\n",
    "\n",
    "    # Transform random variables into vector of probabilities p(y_i=1)\n",
    "    # according to logistic regression model specification.\n",
    "    likelihood = pm.invlogit(intercept +\n",
    "                             beta_1 * data.yield_curve +\n",
    "                             beta_2 * data.leverage)\n",
    "\n",
    "    # Bernoulli random vector with probability of success\n",
    "    # given by sigmoid function and actual data as observed\n",
    "    pm.Bernoulli(name='logit',\n",
    "                 p=likelihood,\n",
    "                 observed=data.recession)\n",
    "manual_logistic_model.model"
   ],
   "metadata": {
    "collapsed": false,
    "pycharm": {
     "name": "#%%\n"
    }
   }
  },
  {
   "cell_type": "code",
   "execution_count": 24,
   "outputs": [
    {
     "ename": "NameError",
     "evalue": "name 'pm' is not defined",
     "output_type": "error",
     "traceback": [
      "\u001B[1;31m---------------------------------------------------------------------------\u001B[0m",
      "\u001B[1;31mNameError\u001B[0m                                 Traceback (most recent call last)",
      "Input \u001B[1;32mIn [24]\u001B[0m, in \u001B[0;36m<cell line: 1>\u001B[1;34m()\u001B[0m\n\u001B[1;32m----> 1\u001B[0m \u001B[43mpm\u001B[49m\u001B[38;5;241m.\u001B[39mmodel_to_graphviz(manual_logistic_model)\n",
      "\u001B[1;31mNameError\u001B[0m: name 'pm' is not defined"
     ]
    }
   ],
   "source": [
    "pm.model_to_graphviz(manual_logistic_model)"
   ],
   "metadata": {
    "collapsed": false,
    "pycharm": {
     "name": "#%%\n"
    }
   }
  },
  {
   "cell_type": "code",
   "execution_count": null,
   "outputs": [],
   "source": [
    "# opionally: persist\n",
    "# graph = pm.model_to_graphviz(manual_logistic_model)\n",
    "# graph.save('log_reg.dot')\n",
    "\n",
    "with manual_logistic_model:\n",
    "    # compute maximum a-posteriori estimate\n",
    "    # for logistic regression weights\n",
    "    manual_map_estimate = pm.find_MAP()\n",
    "\n",
    "def print_map(result):\n",
    "    return pd.Series({k: np.asscalar(v) for k, v in result.items()})\n",
    "print_map(manual_map_estimate)"
   ],
   "metadata": {
    "collapsed": false,
    "pycharm": {
     "name": "#%%\n"
    }
   }
  },
  {
   "cell_type": "code",
   "execution_count": null,
   "outputs": [],
   "source": [
    "with pm.Model() as logistic_model:\n",
    "    pm.glm.GLM.from_formula(simple_model,\n",
    "                            data,\n",
    "                            family=pm.glm.families.Binomial())\n",
    "pm.model_to_graphviz(logistic_model)"
   ],
   "metadata": {
    "collapsed": false,
    "pycharm": {
     "name": "#%%\n"
    }
   }
  },
  {
   "cell_type": "code",
   "execution_count": null,
   "outputs": [],
   "source": [
    "with logistic_model:\n",
    "    map_estimate = pm.find_MAP()"
   ],
   "metadata": {
    "collapsed": false,
    "pycharm": {
     "name": "#%%\n"
    }
   }
  },
  {
   "cell_type": "code",
   "execution_count": null,
   "outputs": [],
   "source": [
    "model = smf.logit(formula=simple_model, data=data)\n",
    "result = model.fit()\n",
    "print(result.summary())"
   ],
   "metadata": {
    "collapsed": false,
    "pycharm": {
     "name": "#%%\n"
    }
   }
  },
  {
   "cell_type": "code",
   "execution_count": null,
   "outputs": [],
   "source": [
    "print_map(map_estimate)"
   ],
   "metadata": {
    "collapsed": false,
    "pycharm": {
     "name": "#%%\n"
    }
   }
  },
  {
   "cell_type": "code",
   "execution_count": null,
   "outputs": [],
   "source": [
    "result.params"
   ],
   "metadata": {
    "collapsed": false,
    "pycharm": {
     "name": "#%%\n"
    }
   }
  },
  {
   "cell_type": "code",
   "execution_count": null,
   "outputs": [],
   "source": [
    "def plot_traces(traces, burnin=2000):\n",
    "    summary = arviz.summary(traces[burnin:])['mean'].to_dict()\n",
    "    ax = arviz.plot_trace(traces[burnin:],\n",
    "                      figsize=(15, len(traces.varnames)*1.5),\n",
    "                      lines=summary)\n",
    "\n",
    "    for i, mn in enumerate(summary.values()):\n",
    "        ax[i, 0].annotate(f'{mn:.2f}', xy=(mn, 0),\n",
    "                          xycoords='data', xytext=(5, 10),\n",
    "                          textcoords='offset points',\n",
    "                          rotation=90, va='bottom',\n",
    "                          fontsize='large',\n",
    "                          color='#AA0022')"
   ],
   "metadata": {
    "collapsed": false,
    "pycharm": {
     "name": "#%%\n"
    }
   }
  },
  {
   "cell_type": "code",
   "execution_count": null,
   "outputs": [],
   "source": [
    "with pm.Model() as logistic_model:\n",
    "    pm.glm.GLM.from_formula(formula=full_model,\n",
    "                            data=data,\n",
    "                            family=pm.glm.families.Binomial())\n",
    "logistic_model.basic_RVs"
   ],
   "metadata": {
    "collapsed": false,
    "pycharm": {
     "name": "#%%\n"
    }
   }
  },
  {
   "cell_type": "code",
   "execution_count": null,
   "outputs": [],
   "source": [
    "with logistic_model:\n",
    "    trace_mh = pm.sample(tune=1000,\n",
    "                         draws=5000,\n",
    "                         step=pm.Metropolis(),\n",
    "                         cores=4)"
   ],
   "metadata": {
    "collapsed": false,
    "pycharm": {
     "name": "#%%\n"
    }
   }
  },
  {
   "cell_type": "code",
   "execution_count": null,
   "outputs": [],
   "source": [
    "plot_traces(trace_mh, burnin=0)"
   ],
   "metadata": {
    "collapsed": false,
    "pycharm": {
     "name": "#%%\n"
    }
   }
  },
  {
   "cell_type": "code",
   "execution_count": null,
   "outputs": [],
   "source": [
    "pm.trace_to_dataframe(trace_mh).info()"
   ],
   "metadata": {
    "collapsed": false,
    "pycharm": {
     "name": "#%%\n"
    }
   }
  },
  {
   "cell_type": "code",
   "execution_count": null,
   "outputs": [],
   "source": [
    "# Continue Training\n",
    "with logistic_model:\n",
    "    trace_mh = pm.sample(draws=100000,\n",
    "                         step=pm.Metropolis(),\n",
    "                         trace=trace_mh)"
   ],
   "metadata": {
    "collapsed": false,
    "pycharm": {
     "name": "#%%\n"
    }
   }
  },
  {
   "cell_type": "code",
   "execution_count": null,
   "outputs": [],
   "source": [
    "plot_traces(trace_mh, burnin=0)"
   ],
   "metadata": {
    "collapsed": false,
    "pycharm": {
     "name": "#%%\n"
    }
   }
  },
  {
   "cell_type": "code",
   "execution_count": null,
   "outputs": [],
   "source": [
    "# optionally: persist\n",
    "# with open('logistic_model_mh.pkl', 'wb') as buff:\n",
    "#     pickle.dump({'model': logistic_model, 'trace': trace_mh}, buff)\n",
    "# optionally: restore persisted model\n",
    "# with open('logistic_model_mh.pkl', 'rb') as buff:\n",
    "#     pickled_data = pickle.load(buff)\n",
    "\n",
    "# logistic_model, trace_mh = pickled_data['model'], pickled_data['trace']\n",
    "arviz.summary(trace_mh)"
   ],
   "metadata": {
    "collapsed": false,
    "pycharm": {
     "name": "#%%\n"
    }
   }
  },
  {
   "cell_type": "code",
   "execution_count": null,
   "outputs": [],
   "source": [
    "draws = 100\n",
    "tune = 1000\n",
    "with logistic_model:\n",
    "    trace_NUTS = pm.sample(draws=draws,\n",
    "                           tune=tune,\n",
    "                           init='adapt_diag',\n",
    "                           chains=4,\n",
    "                           cores=1,\n",
    "                           random_seed=42)"
   ],
   "metadata": {
    "collapsed": false,
    "pycharm": {
     "name": "#%%\n"
    }
   }
  },
  {
   "cell_type": "code",
   "execution_count": null,
   "outputs": [],
   "source": [
    "trace_df = pm.trace_to_dataframe(trace_NUTS).assign(\n",
    "    chain=lambda x: x.index // draws)\n",
    "trace_df.info()"
   ],
   "metadata": {
    "collapsed": false,
    "pycharm": {
     "name": "#%%\n"
    }
   }
  },
  {
   "cell_type": "code",
   "execution_count": null,
   "outputs": [],
   "source": [
    "plot_traces(trace_NUTS, burnin=0)"
   ],
   "metadata": {
    "collapsed": false,
    "pycharm": {
     "name": "#%%\n"
    }
   }
  },
  {
   "cell_type": "code",
   "execution_count": null,
   "outputs": [],
   "source": [
    "draws = 50000\n",
    "chains = 4\n",
    "with logistic_model:\n",
    "    trace_NUTS = pm.sample(draws=draws,\n",
    "                           tune=tune,\n",
    "                           init='adapt_diag',\n",
    "                           trace=trace_NUTS,\n",
    "                           chains=chains,\n",
    "                           cores=1,\n",
    "                           random_seed=42)"
   ],
   "metadata": {
    "collapsed": false,
    "pycharm": {
     "name": "#%%\n"
    }
   }
  },
  {
   "cell_type": "code",
   "execution_count": null,
   "outputs": [],
   "source": [
    "plot_traces(trace_NUTS, burnin=1000)"
   ],
   "metadata": {
    "collapsed": false,
    "pycharm": {
     "name": "#%%\n"
    }
   }
  },
  {
   "cell_type": "code",
   "execution_count": null,
   "outputs": [],
   "source": [
    "# Persist Results\n",
    "# optional\n",
    "# with open('logistic_model_nuts.pkl', 'wb') as buff:\n",
    "#     pickle.dump({'model': logistic_model,\n",
    "#                  'trace': trace_NUTS}, buff)\n",
    "# with open('logistic_model_nuts.pkl', 'rb') as buff:\n",
    "#     pickled_data = pickle.load(buff)\n",
    "\n",
    "# logistic_model, trace_NUTS = pickled_data['model'], pickled_data['trace']"
   ],
   "metadata": {
    "collapsed": false,
    "pycharm": {
     "name": "#%%\n"
    }
   }
  },
  {
   "cell_type": "code",
   "execution_count": null,
   "outputs": [],
   "source": [
    "# Combine Traces\n",
    "df = pm.trace_to_dataframe(trace_NUTS).iloc[200:].reset_index(\n",
    "    drop=True).assign(chain=lambda x: x.index // draws)\n",
    "trace_df = pd.concat([trace_df.assign(samples=100),\n",
    "                      df.assign(samples=len(df) + len(trace_df))])\n",
    "trace_df.info()"
   ],
   "metadata": {
    "collapsed": false,
    "pycharm": {
     "name": "#%%\n"
    }
   }
  },
  {
   "cell_type": "code",
   "execution_count": null,
   "outputs": [],
   "source": [
    "# Visualize both traces\n",
    "trace_df_long = pd.melt(trace_df, id_vars=['samples', 'chain'])\n",
    "trace_df_long.info()"
   ],
   "metadata": {
    "collapsed": false,
    "pycharm": {
     "name": "#%%\n"
    }
   }
  },
  {
   "cell_type": "code",
   "execution_count": null,
   "outputs": [],
   "source": [
    "g = sns.FacetGrid(trace_df_long, col='variable', row='samples', hue='chain', sharex='col', sharey=False)\n",
    "g = g.map(sns.distplot, 'value', hist=False, rug=False);"
   ],
   "metadata": {
    "collapsed": false,
    "pycharm": {
     "name": "#%%\n"
    }
   }
  },
  {
   "cell_type": "code",
   "execution_count": null,
   "outputs": [],
   "source": [
    "model = smf.logit(formula=full_model, data=data)\n",
    "result = model.fit()\n",
    "print(result.summary())"
   ],
   "metadata": {
    "collapsed": false,
    "pycharm": {
     "name": "#%%\n"
    }
   }
  },
  {
   "cell_type": "code",
   "execution_count": null,
   "outputs": [],
   "source": [
    "arviz.summary(trace_NUTS).assign(statsmodels=result.params).to_csv(model_path / 'trace_nuts.csv')\n",
    "arviz.summary(trace_NUTS).assign(statsmodels=result.params)"
   ],
   "metadata": {
    "collapsed": false,
    "pycharm": {
     "name": "#%%\n"
    }
   }
  },
  {
   "cell_type": "code",
   "execution_count": null,
   "outputs": [],
   "source": [
    "# Computing Credible Intervals\n",
    "\n",
    "def get_credible_int(trace, param):\n",
    "    b = trace[param]\n",
    "    lb, ub = np.percentile(b, 2.5), np.percentile(b, 97.5)\n",
    "    lb, ub = np.exp(lb), np.exp(ub)\n",
    "    return b, lb, ub\n",
    "b = trace_NUTS['yield_curve']\n",
    "lb, ub = np.percentile(b, 2.5), np.percentile(b, 97.5)\n",
    "lb, ub = np.exp(lb), np.exp(ub)\n",
    "print(f'P({lb:.3f} < Odds Ratio < {ub:.3f}) = 0.95')"
   ],
   "metadata": {
    "collapsed": false,
    "pycharm": {
     "name": "#%%\n"
    }
   }
  },
  {
   "cell_type": "code",
   "execution_count": null,
   "outputs": [],
   "source": [
    "b, lb, ub = get_credible_int(trace_NUTS, 'yield_curve')\n",
    "print(f'P({lb:.3f} < Odds Ratio < {ub:.3f}) = 0.95')"
   ],
   "metadata": {
    "collapsed": false,
    "pycharm": {
     "name": "#%%\n"
    }
   }
  },
  {
   "cell_type": "code",
   "execution_count": null,
   "outputs": [],
   "source": [
    "\n",
    "fig, axes = plt.subplots(figsize=(14, 4), ncols=2)\n",
    "b, lb, ub = get_credible_int(trace_NUTS, 'yield_curve')\n",
    "sns.distplot(np.exp(b), axlabel='Odds Ratio', ax=axes[0])\n",
    "axes[0].set_title(f'Yield Curve: P({lb:.3f} < Odds Ratio < {ub:.3f}) = 0.95')\n",
    "axes[0].axvspan(lb, ub, alpha=0.5, color='gray')\n",
    "\n",
    "b, lb, ub = get_credible_int(trace_NUTS, 'leverage')\n",
    "sns.distplot(np.exp(b), axlabel='Odds Ratio', ax=axes[1])\n",
    "axes[1].set_title(f'Leverage: P({lb:.3f} < Odds Ratio < {ub:.3f}) = 0.95')\n",
    "axes[1].axvspan(lb, ub, alpha=0.5, color='gray')\n",
    "\n",
    "fig.suptitle('Credible Intervals', fontsize=14)\n",
    "sns.despine()\n",
    "fig.tight_layout()\n",
    "fig.subplots_adjust(top=.9);"
   ],
   "metadata": {
    "collapsed": false,
    "pycharm": {
     "name": "#%%\n"
    }
   }
  },
  {
   "cell_type": "code",
   "execution_count": null,
   "outputs": [],
   "source": [
    "with logistic_model:\n",
    "    callback = CheckParametersConvergence(diff='absolute')\n",
    "    approx = pm.fit(n=100000,\n",
    "                    callbacks=[callback])"
   ],
   "metadata": {
    "collapsed": false,
    "pycharm": {
     "name": "#%%\n"
    }
   }
  },
  {
   "cell_type": "code",
   "execution_count": null,
   "outputs": [],
   "source": [
    "# Persist Result\n",
    "# optional\n",
    "# with open(logistic_model_advi.pkl', 'wb') as buff:\n",
    "#     pickle.dump({'model': logistic_model,\n",
    "#                  'approx': approx}, buff)"
   ],
   "metadata": {
    "collapsed": false,
    "pycharm": {
     "name": "#%%\n"
    }
   }
  },
  {
   "cell_type": "code",
   "execution_count": null,
   "outputs": [],
   "source": [
    "trace_advi = approx.sample(10000)\n",
    "arviz.summary(trace_advi)"
   ],
   "metadata": {
    "collapsed": false,
    "pycharm": {
     "name": "#%%\n"
    }
   }
  },
  {
   "cell_type": "code",
   "execution_count": null,
   "outputs": [],
   "source": [
    "arviz.summary(trace_advi).to_csv(model_path / 'trace_advi.csv')"
   ],
   "metadata": {
    "collapsed": false,
    "pycharm": {
     "name": "#%%\n"
    }
   }
  },
  {
   "cell_type": "code",
   "execution_count": null,
   "outputs": [],
   "source": [
    "# Energy Plot\n",
    "arviz.plot_energy(trace_NUTS);"
   ],
   "metadata": {
    "collapsed": false,
    "pycharm": {
     "name": "#%%\n"
    }
   }
  },
  {
   "cell_type": "code",
   "execution_count": null,
   "outputs": [],
   "source": [
    "# Forest Plot\n",
    "arviz.plot_forest(trace_NUTS);"
   ],
   "metadata": {
    "collapsed": false,
    "pycharm": {
     "name": "#%%\n"
    }
   }
  },
  {
   "cell_type": "code",
   "execution_count": null,
   "outputs": [],
   "source": [
    "fig, axes = plt.subplots(ncols=2, figsize=(14, 4))\n",
    "arviz.plot_forest(trace_NUTS, ax=axes[0])\n",
    "axes[0].set_title('Forest Plot')\n",
    "\n",
    "arviz.plot_energy(trace_NUTS, ax=axes[1])\n",
    "axes[1].set_title('Energy Plot')\n",
    "\n",
    "fig.tight_layout();"
   ],
   "metadata": {
    "collapsed": false,
    "pycharm": {
     "name": "#%%\n"
    }
   }
  },
  {
   "cell_type": "code",
   "execution_count": null,
   "outputs": [],
   "source": [
    "# Posterior Predictive Checks\n",
    "ppc = pm.sample_posterior_predictive(trace_NUTS, samples=500, model=logistic_model)"
   ],
   "metadata": {
    "collapsed": false,
    "pycharm": {
     "name": "#%%\n"
    }
   }
  },
  {
   "cell_type": "code",
   "execution_count": null,
   "outputs": [],
   "source": [
    "ppc['y'].shape"
   ],
   "metadata": {
    "collapsed": false,
    "pycharm": {
     "name": "#%%\n"
    }
   }
  },
  {
   "cell_type": "code",
   "execution_count": null,
   "outputs": [],
   "source": [
    "y_score = np.mean(ppc['y'], axis=0)\n",
    "roc_auc_score(y_score=np.mean(ppc['y'], axis=0),\n",
    "              y_true=data.recession)"
   ],
   "metadata": {
    "collapsed": false,
    "pycharm": {
     "name": "#%%\n"
    }
   }
  },
  {
   "cell_type": "code",
   "execution_count": null,
   "outputs": [],
   "source": [
    "# Prediction\n",
    "\n",
    "X = data[['yield_curve']]\n",
    "labels = X.columns\n",
    "y = data.recession\n",
    "X_train, X_test, y_train, y_test = train_test_split(X, y, test_size=0.2, random_state=42, stratify=y)\n",
    "X_shared = theano.shared(X_train.values)\n",
    "\n",
    "with pm.Model() as logistic_model_pred:\n",
    "    pm.glm.GLM(x=X_shared, labels=labels, y=y_train, family=pm.glm.families.Binomial())\n",
    "\n",
    "\n",
    "with logistic_model_pred:\n",
    "    pred_trace = pm.sample(draws=10000, tune=1000, chains=2, cores=1, init='adapt_diag')\n",
    "\n",
    "\n",
    "X_shared.set_value(X_test)\n",
    "ppc = pm.sample_posterior_predictive(pred_trace, model=logistic_model_pred, samples=100)"
   ],
   "metadata": {
    "collapsed": false,
    "pycharm": {
     "name": "#%%\n"
    }
   }
  },
  {
   "cell_type": "code",
   "execution_count": null,
   "outputs": [],
   "source": [
    "# Check AUC Score\n",
    "y_score = np.mean(ppc['y'], axis=0)\n",
    "roc_auc_score(y_score=np.mean(ppc['y'], axis=0), y_true=y_test)"
   ],
   "metadata": {
    "collapsed": false,
    "pycharm": {
     "name": "#%%\n"
    }
   }
  },
  {
   "cell_type": "code",
   "execution_count": null,
   "outputs": [],
   "source": [
    "def invlogit(x):\n",
    "    return np.exp(x) / (1 + np.exp(x))\n",
    "x = X_test.yield_curve\n",
    "\n",
    "fig, ax = plt.subplots(figsize=(14, 5))\n",
    "\n",
    "β = stats.beta((ppc['y'] == 1).sum(axis=0), (ppc['y'] == 0).sum(axis=0))\n",
    "\n",
    "# estimated probability\n",
    "ax.scatter(x=x, y=β.mean())\n",
    "\n",
    "# error bars on the estimate\n",
    "plt.vlines(x, *β.interval(0.95))\n",
    "\n",
    "# actual outcomes\n",
    "ax.scatter(x=x, y=y_test, marker='x')\n",
    "\n",
    "# True probabilities\n",
    "x_ = np.linspace(x.min()*1.05, x.max()*1.05, num=100)\n",
    "ax.plot(-x_, invlogit(x_), linestyle='-')\n",
    "\n",
    "ax.set_xlabel('Yield Curve')\n",
    "ax.set_ylabel('Recession')\n",
    "ax.invert_xaxis()\n",
    "fig.tight_layout()"
   ],
   "metadata": {
    "collapsed": false,
    "pycharm": {
     "name": "#%%\n"
    }
   }
  },
  {
   "cell_type": "code",
   "execution_count": null,
   "outputs": [],
   "source": [
    "# MCMC Sampler Animation\n",
    "# setup\n",
    "\n",
    "# Number of MCMC iteration to animate.\n",
    "burnin = 1000\n",
    "samples = 1000\n",
    "\n",
    "var1 = 'yield_curve'\n",
    "var1_range = (trace_df[var1].min() * .95, trace_df[var1].max() * 1.05)\n",
    "\n",
    "var2 = 'sentiment'\n",
    "var2_range = (trace_df[var2].min() * .95, trace_df[var2].max() * 1.05)\n",
    "Writer = animation.writers['ffmpeg']\n",
    "writer = Writer(fps=15, metadata=dict(artist='Me'), bitrate=1800)\n",
    "with pm.Model() as logistic_model:\n",
    "    pm.glm.GLM.from_formula(formula=full_model,\n",
    "                            data=data,\n",
    "                            family=pm.glm.families.Binomial())"
   ],
   "metadata": {
    "collapsed": false,
    "pycharm": {
     "name": "#%%\n"
    }
   }
  },
  {
   "cell_type": "code",
   "execution_count": null,
   "outputs": [],
   "source": [
    "# NUTS samples\n",
    "def init():\n",
    "    for line in lines:\n",
    "        line.set_data([], [])\n",
    "    return lines\n",
    "\n",
    "def animate(i):\n",
    "    trace = trace_df.iloc[:i+1]\n",
    "    idx = list(range(len(trace)))\n",
    "    line1.set_data(trace[var1].iloc[::-1], idx)\n",
    "    line2.set_data(idx, trace[var2].iloc[::-1])\n",
    "    line3.set_data(trace[var1], trace[var2])\n",
    "    line4.set_data(trace[var1], trace[var2])\n",
    "    line5.set_data([trace[var1].iloc[-1], trace[var1].iloc[-1]], [trace[var2].iloc[-1], var2_range[1]])\n",
    "    line6.set_data([trace[var1].iloc[-1], var1_range[1]], [trace[var2].iloc[-1], trace[var2].iloc[-1]])\n",
    "    return lines\n",
    "with logistic_model:\n",
    "    nuts_trace = pm.sample(draws=samples, tune=burnin,\n",
    "                      init='adapt_diag',\n",
    "                      chains=1)\n",
    "    trace_df = pm.trace_to_dataframe(nuts_trace)\n",
    "trace_df.to_csv('trace.csv', index=False)\n",
    "trace_df = pd.read_csv('trace.csv')\n",
    "print(trace_df.info())"
   ],
   "metadata": {
    "collapsed": false,
    "pycharm": {
     "name": "#%%\n"
    }
   }
  },
  {
   "cell_type": "code",
   "execution_count": null,
   "outputs": [],
   "source": [
    "fig = plt.figure(figsize=(8, 8))\n",
    "ax1 = fig.add_subplot(221, xlim=var1_range, ylim=(0, samples))\n",
    "ax2 = fig.add_subplot(224, xlim=(0, samples), ylim=var2_range)\n",
    "ax3 = fig.add_subplot(223, xlim=var1_range, ylim=var2_range,\n",
    "                      xlabel=var1, ylabel=var2)\n",
    "\n",
    "fig.subplots_adjust(wspace=0.0, hspace=0.0)\n",
    "line1, = ax1.plot([], [], lw=1)\n",
    "line2, = ax2.plot([], [], lw=1)\n",
    "line3, = ax3.plot([], [], 'o', lw=2, alpha=.1)\n",
    "line4, = ax3.plot([], [], lw=1, alpha=.3)\n",
    "line5, = ax3.plot([], [], 'k', lw=1)\n",
    "line6, = ax3.plot([], [], 'k', lw=1)\n",
    "ax1.set_xticklabels([])\n",
    "ax2.set_yticklabels([])\n",
    "lines = [line1, line2, line3, line4, line5, line6]\n",
    "\n",
    "\n",
    "anim = animation.FuncAnimation(fig,\n",
    "                               animate,\n",
    "                               init_func=init,\n",
    "                               frames=samples,\n",
    "                               interval=5,\n",
    "                               blit=True);\n",
    "\n",
    "# save\n",
    "# anim.save('nuts.mp4', writer=writer)\n",
    "# or display; either requres ffmpeg installation\n",
    "HTML(anim.to_html5_video())"
   ],
   "metadata": {
    "collapsed": false,
    "pycharm": {
     "name": "#%%\n"
    }
   }
  },
  {
   "cell_type": "code",
   "execution_count": null,
   "outputs": [],
   "source": [
    "# Metropolis-Hastings samples\n",
    "with logistic_model:\n",
    "    step = pm.Metropolis()\n",
    "    mh_trace = pm.sample(draws=samples, tune=burnin,\n",
    "                      step=step,\n",
    "                      chains=1)\n",
    "    trace_df = pm.trace_to_dataframe(mh_trace)"
   ],
   "metadata": {
    "collapsed": false,
    "pycharm": {
     "name": "#%%\n"
    }
   }
  },
  {
   "cell_type": "code",
   "execution_count": null,
   "outputs": [],
   "source": [
    "fig = plt.figure(figsize=(8, 8))\n",
    "ax1 = fig.add_subplot(221, xlim=var1_range, ylim=(0, samples))\n",
    "ax2 = fig.add_subplot(224, xlim=(0, samples), ylim=var2_range)\n",
    "ax3 = fig.add_subplot(223, xlim=var1_range, ylim=var2_range,\n",
    "                      xlabel=var1, ylabel=var2)\n",
    "\n",
    "fig.subplots_adjust(wspace=0.0, hspace=0.0)\n",
    "line1, = ax1.plot([], [], lw=1)\n",
    "line2, = ax2.plot([], [], lw=1)\n",
    "line3, = ax3.plot([], [], 'o', lw=2, alpha=.1)\n",
    "line4, = ax3.plot([], [], lw=1, alpha=.3)\n",
    "line5, = ax3.plot([], [], 'k', lw=1)\n",
    "line6, = ax3.plot([], [], 'k', lw=1)\n",
    "ax1.set_xticklabels([])\n",
    "ax2.set_yticklabels([])\n",
    "lines = [line1, line2, line3, line4, line5, line6]\n",
    "\n",
    "def init():\n",
    "    for line in lines:\n",
    "        line.set_data([], [])\n",
    "    return lines\n",
    "\n",
    "def animate(i):\n",
    "    trace = trace_df.iloc[:i+1]\n",
    "    idx = list(range(len(trace)))\n",
    "    line1.set_data(trace[var1].iloc[::-1], idx)\n",
    "    line2.set_data(idx, trace[var2].iloc[::-1])\n",
    "    line3.set_data(trace[var1], trace[var2])\n",
    "    line4.set_data(trace[var1], trace[var2])\n",
    "    line5.set_data([trace[var1].iloc[-1], trace[var1].iloc[-1]], [trace[var2].iloc[-1], var2_range[1]])\n",
    "    line6.set_data([trace[var1].iloc[-1], var1_range[1]], [trace[var2].iloc[-1], trace[var2].iloc[-1]])\n",
    "    return lines\n",
    "\n",
    "anim = animation.FuncAnimation(fig,\n",
    "                               animate,\n",
    "                               init_func=init,\n",
    "                               frames=samples,\n",
    "                               interval=5,\n",
    "                               blit=True)\n",
    "\n",
    "HTML(anim.to_html5_video())"
   ],
   "metadata": {
    "collapsed": false,
    "pycharm": {
     "name": "#%%\n"
    }
   }
  }
 ],
 "metadata": {
  "kernelspec": {
   "display_name": "Python 3",
   "language": "python",
   "name": "python3"
  },
  "language_info": {
   "codemirror_mode": {
    "name": "ipython",
    "version": 2
   },
   "file_extension": ".py",
   "mimetype": "text/x-python",
   "name": "python",
   "nbconvert_exporter": "python",
   "pygments_lexer": "ipython2",
   "version": "2.7.6"
  }
 },
 "nbformat": 4,
 "nbformat_minor": 0
}