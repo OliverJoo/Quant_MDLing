{
 "cells": [
  {
   "cell_type": "code",
   "execution_count": 1,
   "outputs": [
    {
     "data": {
      "text/plain": "'2.4'"
     },
     "execution_count": 1,
     "metadata": {},
     "output_type": "execute_result"
    }
   ],
   "source": [
    "import warnings\n",
    "warnings.filterwarnings('ignore')\n",
    "from collections import defaultdict\n",
    "from time import time\n",
    "\n",
    "import numpy as np\n",
    "import pandas as pd\n",
    "import pandas_datareader.data as web\n",
    "from logbook import Logger, StderrHandler, INFO\n",
    "\n",
    "import matplotlib.pyplot as plt\n",
    "import seaborn as sns\n",
    "\n",
    "from zipline import run_algorithm\n",
    "from zipline.api import (attach_pipeline, pipeline_output, record, schedule_function, time_rules, date_rules,\n",
    "                          set_slippage, set_commission, order_target, order_target_percent)\n",
    "\n",
    "\n",
    "from zipline.finance import commission, slippage\n",
    "from zipline.data import bundles\n",
    "from zipline.utils.run_algo import load_extensions\n",
    "from zipline.pipeline import Pipeline, CustomFactor\n",
    "from zipline.pipeline.data import Column, DataSet\n",
    "from zipline.pipeline.domain import US_EQUITIES\n",
    "from zipline.pipeline.filters import StaticAssets\n",
    "from zipline.pipeline.loaders.frame import DataFrameLoader\n",
    "\n",
    "import pyfolio as pf\n",
    "from pyfolio.plotting import plot_rolling_returns, plot_rolling_sharpe\n",
    "from pyfolio.timeseries import forecast_cone_bootstrap\n",
    "\n",
    "sns.set_style('whitegrid')\n",
    "pd.set_option('display.expand_frame_repr', False)\n",
    "np.random.seed(42)\n",
    "\n",
    "import zipline\n",
    "zipline.__version__"
   ],
   "metadata": {
    "collapsed": false,
    "pycharm": {
     "name": "#%%\n"
    }
   }
  },
  {
   "cell_type": "code",
   "execution_count": 2,
   "outputs": [
    {
     "name": "stdout",
     "output_type": "stream",
     "text": [
      "Please ensure a ZIPLINE_ROOT environment variable is defined and accessible (or alter the script and manually set the path\n"
     ]
    },
    {
     "ename": "NameError",
     "evalue": "name 'exit' is not defined",
     "output_type": "error",
     "traceback": [
      "\u001B[1;31m---------------------------------------------------------------------------\u001B[0m",
      "\u001B[1;31mKeyError\u001B[0m                                  Traceback (most recent call last)",
      "File \u001B[1;32mC:\\Users/19498/.zipline\\stooq_jp_stocks.py:13\u001B[0m, in \u001B[0;36m<module>\u001B[1;34m\u001B[0m\n\u001B[0;32m     12\u001B[0m \u001B[38;5;28;01mtry\u001B[39;00m:\n\u001B[1;32m---> 13\u001B[0m     zipline_root \u001B[38;5;241m=\u001B[39m \u001B[43mos\u001B[49m\u001B[38;5;241;43m.\u001B[39;49m\u001B[43menviron\u001B[49m\u001B[43m[\u001B[49m\u001B[38;5;124;43m'\u001B[39;49m\u001B[38;5;124;43mZIPLINE_ROOT\u001B[39;49m\u001B[38;5;124;43m'\u001B[39;49m\u001B[43m]\u001B[49m\n\u001B[0;32m     14\u001B[0m \u001B[38;5;28;01mexcept\u001B[39;00m \u001B[38;5;167;01mKeyError\u001B[39;00m:\n",
      "File \u001B[1;32m~\\AppData\\Local\\Programs\\Python\\Python3_8\\lib\\os.py:675\u001B[0m, in \u001B[0;36m_Environ.__getitem__\u001B[1;34m(self, key)\u001B[0m\n\u001B[0;32m    673\u001B[0m \u001B[38;5;28;01mexcept\u001B[39;00m \u001B[38;5;167;01mKeyError\u001B[39;00m:\n\u001B[0;32m    674\u001B[0m     \u001B[38;5;66;03m# raise KeyError with the original key value\u001B[39;00m\n\u001B[1;32m--> 675\u001B[0m     \u001B[38;5;28;01mraise\u001B[39;00m \u001B[38;5;167;01mKeyError\u001B[39;00m(key) \u001B[38;5;28;01mfrom\u001B[39;00m \u001B[38;5;28mNone\u001B[39m\n\u001B[0;32m    676\u001B[0m \u001B[38;5;28;01mreturn\u001B[39;00m \u001B[38;5;28mself\u001B[39m\u001B[38;5;241m.\u001B[39mdecodevalue(value)\n",
      "\u001B[1;31mKeyError\u001B[0m: 'ZIPLINE_ROOT'",
      "\nDuring handling of the above exception, another exception occurred:\n",
      "\u001B[1;31mNameError\u001B[0m                                 Traceback (most recent call last)",
      "Input \u001B[1;32mIn [2]\u001B[0m, in \u001B[0;36m<cell line: 1>\u001B[1;34m()\u001B[0m\n\u001B[1;32m----> 1\u001B[0m \u001B[43mload_extensions\u001B[49m\u001B[43m(\u001B[49m\u001B[43mdefault\u001B[49m\u001B[38;5;241;43m=\u001B[39;49m\u001B[38;5;28;43;01mTrue\u001B[39;49;00m\u001B[43m,\u001B[49m\u001B[43m \u001B[49m\u001B[43mextensions\u001B[49m\u001B[38;5;241;43m=\u001B[39;49m\u001B[43m[\u001B[49m\u001B[43m]\u001B[49m\u001B[43m,\u001B[49m\u001B[43m \u001B[49m\u001B[43mstrict\u001B[49m\u001B[38;5;241;43m=\u001B[39;49m\u001B[38;5;28;43;01mTrue\u001B[39;49;00m\u001B[43m,\u001B[49m\u001B[43m \u001B[49m\u001B[43menviron\u001B[49m\u001B[38;5;241;43m=\u001B[39;49m\u001B[38;5;28;43;01mNone\u001B[39;49;00m\u001B[43m)\u001B[49m\n\u001B[0;32m      3\u001B[0m log_handler \u001B[38;5;241m=\u001B[39m StderrHandler(format_string\u001B[38;5;241m=\u001B[39m\u001B[38;5;124m'\u001B[39m\u001B[38;5;124m[\u001B[39m\u001B[38;5;124m{\u001B[39m\u001B[38;5;124mrecord.time:\u001B[39m\u001B[38;5;124m%\u001B[39m\u001B[38;5;124mY-\u001B[39m\u001B[38;5;124m%\u001B[39m\u001B[38;5;124mm-\u001B[39m\u001B[38;5;132;01m%d\u001B[39;00m\u001B[38;5;124m \u001B[39m\u001B[38;5;124m%\u001B[39m\u001B[38;5;124mH:\u001B[39m\u001B[38;5;124m%\u001B[39m\u001B[38;5;124mM:\u001B[39m\u001B[38;5;124m%\u001B[39m\u001B[38;5;124mS.\u001B[39m\u001B[38;5;132;01m%f\u001B[39;00m\u001B[38;5;124m}]: \u001B[39m\u001B[38;5;124m'\u001B[39m \u001B[38;5;241m+\u001B[39m\n\u001B[0;32m      4\u001B[0m                             \u001B[38;5;124m'\u001B[39m\u001B[38;5;132;01m{record.level_name}\u001B[39;00m\u001B[38;5;124m: \u001B[39m\u001B[38;5;132;01m{record.func_name}\u001B[39;00m\u001B[38;5;124m: \u001B[39m\u001B[38;5;132;01m{record.message}\u001B[39;00m\u001B[38;5;124m'\u001B[39m, level\u001B[38;5;241m=\u001B[39mINFO)\n\u001B[0;32m      5\u001B[0m log_handler\u001B[38;5;241m.\u001B[39mpush_application()\n",
      "File \u001B[1;32mD:\\99.Dev\\Python\\pythonProject\\lib\\site-packages\\zipline\\utils\\run_algo.py:289\u001B[0m, in \u001B[0;36mload_extensions\u001B[1;34m(default, extensions, strict, environ, reload)\u001B[0m\n\u001B[0;32m    287\u001B[0m     \u001B[38;5;28;01mwith\u001B[39;00m \u001B[38;5;28mopen\u001B[39m(ext) \u001B[38;5;28;01mas\u001B[39;00m f:\n\u001B[0;32m    288\u001B[0m         ns \u001B[38;5;241m=\u001B[39m {}\n\u001B[1;32m--> 289\u001B[0m         \u001B[43mexec\u001B[49m\u001B[43m(\u001B[49m\u001B[38;5;28;43mcompile\u001B[39;49m\u001B[43m(\u001B[49m\u001B[43mf\u001B[49m\u001B[38;5;241;43m.\u001B[39;49m\u001B[43mread\u001B[49m\u001B[43m(\u001B[49m\u001B[43m)\u001B[49m\u001B[43m,\u001B[49m\u001B[43m \u001B[49m\u001B[43mext\u001B[49m\u001B[43m,\u001B[49m\u001B[43m \u001B[49m\u001B[38;5;124;43m\"\u001B[39;49m\u001B[38;5;124;43mexec\u001B[39;49m\u001B[38;5;124;43m\"\u001B[39;49m\u001B[43m)\u001B[49m\u001B[43m,\u001B[49m\u001B[43m \u001B[49m\u001B[43mns\u001B[49m\u001B[43m,\u001B[49m\u001B[43m \u001B[49m\u001B[43mns\u001B[49m\u001B[43m)\u001B[49m\n\u001B[0;32m    290\u001B[0m \u001B[38;5;28;01melse\u001B[39;00m:\n\u001B[0;32m    291\u001B[0m     \u001B[38;5;28m__import__\u001B[39m(ext)\n",
      "File \u001B[1;32m~\\.zipline\\extension.py:6\u001B[0m, in \u001B[0;36m<module>\u001B[1;34m\u001B[0m\n\u001B[0;32m      4\u001B[0m sys\u001B[38;5;241m.\u001B[39mpath\u001B[38;5;241m.\u001B[39mappend(Path(\u001B[38;5;124m'\u001B[39m\u001B[38;5;124m~\u001B[39m\u001B[38;5;124m'\u001B[39m, \u001B[38;5;124m'\u001B[39m\u001B[38;5;124m.zipline\u001B[39m\u001B[38;5;124m'\u001B[39m)\u001B[38;5;241m.\u001B[39mexpanduser()\u001B[38;5;241m.\u001B[39mas_posix())\n\u001B[0;32m      5\u001B[0m \u001B[38;5;28;01mfrom\u001B[39;00m \u001B[38;5;21;01mzipline\u001B[39;00m\u001B[38;5;21;01m.\u001B[39;00m\u001B[38;5;21;01mdata\u001B[39;00m\u001B[38;5;21;01m.\u001B[39;00m\u001B[38;5;21;01mbundles\u001B[39;00m \u001B[38;5;28;01mimport\u001B[39;00m register\n\u001B[1;32m----> 6\u001B[0m \u001B[38;5;28;01mfrom\u001B[39;00m \u001B[38;5;21;01mstooq_jp_stocks\u001B[39;00m \u001B[38;5;28;01mimport\u001B[39;00m stooq_jp_to_bundle\n\u001B[0;32m      7\u001B[0m \u001B[38;5;28;01mfrom\u001B[39;00m \u001B[38;5;21;01mdatetime\u001B[39;00m \u001B[38;5;28;01mimport\u001B[39;00m time\n\u001B[0;32m      8\u001B[0m \u001B[38;5;28;01mfrom\u001B[39;00m \u001B[38;5;21;01mpytz\u001B[39;00m \u001B[38;5;28;01mimport\u001B[39;00m timezone\n",
      "File \u001B[1;32mC:\\Users/19498/.zipline\\stooq_jp_stocks.py:17\u001B[0m, in \u001B[0;36m<module>\u001B[1;34m\u001B[0m\n\u001B[0;32m     14\u001B[0m \u001B[38;5;28;01mexcept\u001B[39;00m \u001B[38;5;167;01mKeyError\u001B[39;00m:\n\u001B[0;32m     15\u001B[0m     \u001B[38;5;28mprint\u001B[39m(\u001B[38;5;124m'\u001B[39m\u001B[38;5;124mPlease ensure a ZIPLINE_ROOT environment variable is defined and accessible \u001B[39m\u001B[38;5;124m'\u001B[39m\n\u001B[0;32m     16\u001B[0m           \u001B[38;5;124m'\u001B[39m\u001B[38;5;124m(or alter the script and manually set the path\u001B[39m\u001B[38;5;124m'\u001B[39m)\n\u001B[1;32m---> 17\u001B[0m     \u001B[43mexit\u001B[49m()\n\u001B[0;32m     19\u001B[0m custom_data_path \u001B[38;5;241m=\u001B[39m Path(zipline_root, \u001B[38;5;124m'\u001B[39m\u001B[38;5;124mcustom_data\u001B[39m\u001B[38;5;124m'\u001B[39m)\n\u001B[0;32m     21\u001B[0m \u001B[38;5;66;03m# custom_data_path = Path('~/.zipline/custom_data').expanduser()\u001B[39;00m\n",
      "\u001B[1;31mNameError\u001B[0m: name 'exit' is not defined"
     ]
    }
   ],
   "source": [
    "load_extensions(default=True, extensions=[], strict=True, environ=None)\n",
    "\n",
    "log_handler = StderrHandler(format_string='[{record.time:%Y-%m-%d %H:%M:%S.%f}]: ' +\n",
    "                            '{record.level_name}: {record.func_name}: {record.message}', level=INFO)\n",
    "log_handler.push_application()\n",
    "log = Logger('Algorithm')\n",
    "\n",
    "N_LONGS = 20\n",
    "N_SHORTS = 20\n",
    "MIN_POSITIONS = 10\n",
    "bundle_data = bundles.load('quandl')"
   ],
   "metadata": {
    "collapsed": false,
    "pycharm": {
     "name": "#%%\n"
    }
   }
  },
  {
   "cell_type": "code",
   "execution_count": 3,
   "outputs": [],
   "source": [
    "def load_predictions(bundle):\n",
    "    predictions = pd.read_hdf('data/backtest.h5', 'data')[['predicted']].dropna()\n",
    "    tickers = predictions.index.get_level_values(0).unique().tolist()\n",
    "\n",
    "    assets = bundle.asset_finder.lookup_symbols(tickers, as_of_date=None)\n",
    "    predicted_sids = pd.Int64Index([asset.sid for asset in assets])\n",
    "    ticker_map = dict(zip(tickers, predicted_sids))\n",
    "    return (predictions.unstack('ticker').rename(columns=ticker_map).predicted.tz_localize('UTC')), assets\n",
    "\n",
    "predictions, assets = load_predictions(bundle_data)"
   ],
   "metadata": {
    "collapsed": false,
    "pycharm": {
     "name": "#%%\n"
    }
   }
  },
  {
   "cell_type": "code",
   "execution_count": 4,
   "outputs": [
    {
     "data": {
      "text/plain": "ticker                         8         12        45        71        85        98    136       138       145       149   ...  216   1685  946   811   2713  2955  2411  2530  1417  1701\ndate                                                                                                                       ...                                                            \n2017-11-27 00:00:00+00:00 -0.001536 -0.000587 -0.000383 -0.002232 -0.002283       NaN   NaN -0.000937  0.000599 -0.001685  ...   NaN   NaN   NaN   NaN   NaN   NaN   NaN   NaN   NaN   NaN\n2017-11-28 00:00:00+00:00 -0.001629 -0.001062 -0.000375 -0.001770 -0.002164 -0.000509   NaN  0.000761 -0.000837 -0.001586  ...   NaN   NaN   NaN   NaN   NaN   NaN   NaN   NaN   NaN   NaN\n2017-11-29 00:00:00+00:00 -0.002439 -0.000990 -0.002492 -0.002022 -0.001521 -0.000820   NaN -0.001654 -0.000373 -0.001052  ...   NaN   NaN   NaN   NaN   NaN   NaN   NaN   NaN   NaN   NaN\n2017-08-07 00:00:00+00:00       NaN  0.000660       NaN       NaN -0.000532       NaN   NaN -0.001345 -0.002795  0.000444  ...   NaN   NaN   NaN   NaN   NaN   NaN   NaN   NaN   NaN   NaN\n2017-04-14 00:00:00+00:00       NaN       NaN       NaN       NaN       NaN       NaN   NaN       NaN       NaN       NaN  ...   NaN   NaN   NaN   NaN   NaN   NaN   NaN   NaN   NaN   NaN\n\n[5 rows x 257 columns]",
      "text/html": "<div>\n<style scoped>\n    .dataframe tbody tr th:only-of-type {\n        vertical-align: middle;\n    }\n\n    .dataframe tbody tr th {\n        vertical-align: top;\n    }\n\n    .dataframe thead th {\n        text-align: right;\n    }\n</style>\n<table border=\"1\" class=\"dataframe\">\n  <thead>\n    <tr style=\"text-align: right;\">\n      <th>ticker</th>\n      <th>8</th>\n      <th>12</th>\n      <th>45</th>\n      <th>71</th>\n      <th>85</th>\n      <th>98</th>\n      <th>136</th>\n      <th>138</th>\n      <th>145</th>\n      <th>149</th>\n      <th>...</th>\n      <th>216</th>\n      <th>1685</th>\n      <th>946</th>\n      <th>811</th>\n      <th>2713</th>\n      <th>2955</th>\n      <th>2411</th>\n      <th>2530</th>\n      <th>1417</th>\n      <th>1701</th>\n    </tr>\n    <tr>\n      <th>date</th>\n      <th></th>\n      <th></th>\n      <th></th>\n      <th></th>\n      <th></th>\n      <th></th>\n      <th></th>\n      <th></th>\n      <th></th>\n      <th></th>\n      <th></th>\n      <th></th>\n      <th></th>\n      <th></th>\n      <th></th>\n      <th></th>\n      <th></th>\n      <th></th>\n      <th></th>\n      <th></th>\n      <th></th>\n    </tr>\n  </thead>\n  <tbody>\n    <tr>\n      <th>2017-11-27 00:00:00+00:00</th>\n      <td>-0.001536</td>\n      <td>-0.000587</td>\n      <td>-0.000383</td>\n      <td>-0.002232</td>\n      <td>-0.002283</td>\n      <td>NaN</td>\n      <td>NaN</td>\n      <td>-0.000937</td>\n      <td>0.000599</td>\n      <td>-0.001685</td>\n      <td>...</td>\n      <td>NaN</td>\n      <td>NaN</td>\n      <td>NaN</td>\n      <td>NaN</td>\n      <td>NaN</td>\n      <td>NaN</td>\n      <td>NaN</td>\n      <td>NaN</td>\n      <td>NaN</td>\n      <td>NaN</td>\n    </tr>\n    <tr>\n      <th>2017-11-28 00:00:00+00:00</th>\n      <td>-0.001629</td>\n      <td>-0.001062</td>\n      <td>-0.000375</td>\n      <td>-0.001770</td>\n      <td>-0.002164</td>\n      <td>-0.000509</td>\n      <td>NaN</td>\n      <td>0.000761</td>\n      <td>-0.000837</td>\n      <td>-0.001586</td>\n      <td>...</td>\n      <td>NaN</td>\n      <td>NaN</td>\n      <td>NaN</td>\n      <td>NaN</td>\n      <td>NaN</td>\n      <td>NaN</td>\n      <td>NaN</td>\n      <td>NaN</td>\n      <td>NaN</td>\n      <td>NaN</td>\n    </tr>\n    <tr>\n      <th>2017-11-29 00:00:00+00:00</th>\n      <td>-0.002439</td>\n      <td>-0.000990</td>\n      <td>-0.002492</td>\n      <td>-0.002022</td>\n      <td>-0.001521</td>\n      <td>-0.000820</td>\n      <td>NaN</td>\n      <td>-0.001654</td>\n      <td>-0.000373</td>\n      <td>-0.001052</td>\n      <td>...</td>\n      <td>NaN</td>\n      <td>NaN</td>\n      <td>NaN</td>\n      <td>NaN</td>\n      <td>NaN</td>\n      <td>NaN</td>\n      <td>NaN</td>\n      <td>NaN</td>\n      <td>NaN</td>\n      <td>NaN</td>\n    </tr>\n    <tr>\n      <th>2017-08-07 00:00:00+00:00</th>\n      <td>NaN</td>\n      <td>0.000660</td>\n      <td>NaN</td>\n      <td>NaN</td>\n      <td>-0.000532</td>\n      <td>NaN</td>\n      <td>NaN</td>\n      <td>-0.001345</td>\n      <td>-0.002795</td>\n      <td>0.000444</td>\n      <td>...</td>\n      <td>NaN</td>\n      <td>NaN</td>\n      <td>NaN</td>\n      <td>NaN</td>\n      <td>NaN</td>\n      <td>NaN</td>\n      <td>NaN</td>\n      <td>NaN</td>\n      <td>NaN</td>\n      <td>NaN</td>\n    </tr>\n    <tr>\n      <th>2017-04-14 00:00:00+00:00</th>\n      <td>NaN</td>\n      <td>NaN</td>\n      <td>NaN</td>\n      <td>NaN</td>\n      <td>NaN</td>\n      <td>NaN</td>\n      <td>NaN</td>\n      <td>NaN</td>\n      <td>NaN</td>\n      <td>NaN</td>\n      <td>...</td>\n      <td>NaN</td>\n      <td>NaN</td>\n      <td>NaN</td>\n      <td>NaN</td>\n      <td>NaN</td>\n      <td>NaN</td>\n      <td>NaN</td>\n      <td>NaN</td>\n      <td>NaN</td>\n      <td>NaN</td>\n    </tr>\n  </tbody>\n</table>\n<p>5 rows × 257 columns</p>\n</div>"
     },
     "execution_count": 4,
     "metadata": {},
     "output_type": "execute_result"
    }
   ],
   "source": [
    "predictions.tail()"
   ],
   "metadata": {
    "collapsed": false,
    "pycharm": {
     "name": "#%%\n"
    }
   }
  },
  {
   "cell_type": "code",
   "execution_count": 6,
   "outputs": [],
   "source": [
    "class SignalData(DataSet):\n",
    "    predictions = Column(dtype=float)\n",
    "    domain = US_EQUITIES\n",
    "\n",
    "signal_loader = {SignalData.predictions: DataFrameLoader(SignalData.predictions, predictions)}"
   ],
   "metadata": {
    "collapsed": false,
    "pycharm": {
     "name": "#%%\n"
    }
   }
  },
  {
   "cell_type": "code",
   "execution_count": 8,
   "outputs": [],
   "source": [
    "class MLSignal(CustomFactor):\n",
    "    inputs = [SignalData.predictions]\n",
    "    window_length = 1\n",
    "\n",
    "    def compute(self, today, assets, out, preds):\n",
    "        out[:] = preds\n",
    "\n",
    "def compute_signals():\n",
    "    signals = MLSignal()\n",
    "#     predictions = SignalData.predictions.latest\n",
    "    return Pipeline(columns={\n",
    "        'longs' : signals.top(N_LONGS, mask=signals > 0),\n",
    "        'shorts': signals.bottom(N_SHORTS, mask=signals < 0)},\n",
    "            screen=StaticAssets(assets)\n",
    "    )"
   ],
   "metadata": {
    "collapsed": false,
    "pycharm": {
     "name": "#%%\n"
    }
   }
  },
  {
   "cell_type": "code",
   "execution_count": 9,
   "outputs": [],
   "source": [
    "def initialize(context):\n",
    "    context.n_longs = N_LONGS\n",
    "    context.n_shorts = N_SHORTS\n",
    "    context.min_positions = MIN_POSITIONS\n",
    "    context.universe = assets\n",
    "\n",
    "    set_slippage(slippage.FixedSlippage(spread=0.00))\n",
    "    set_commission(commission.PerShare(cost=0, min_trade_cost=0))\n",
    "\n",
    "    schedule_function(rebalance, date_rules.every_day(), time_rules.market_open(hours=1, minutes=30))\n",
    "    schedule_function(record_vars, date_rules.every_day(), time_rules.market_close())\n",
    "\n",
    "    pipeline = compute_signals()\n",
    "    attach_pipeline(pipeline, 'signals')\n",
    "\n",
    "# call data b4 market open, use to get the current pipeline values\n",
    "def before_trading_start(context, data):\n",
    "    output = pipeline_output('signals')\n",
    "    # print(f'b4 trading start: {output}')\n",
    "    context.trades = (output['longs'].astype(int).append(output['shorts'].astype(int).mul(-1))\n",
    "                      .reset_index().drop_duplicates().set_index('index').squeeze())"
   ],
   "metadata": {
    "collapsed": false,
    "pycharm": {
     "name": "#%%\n"
    }
   }
  },
  {
   "cell_type": "code",
   "execution_count": 10,
   "outputs": [],
   "source": [
    "# execute orders long/short/clear the positions\n",
    "def rebalance(context, data):\n",
    "    trades = defaultdict(list)\n",
    "\n",
    "    for stock, trade in context.trades.items():\n",
    "        if not trade:\n",
    "            order_target(stock, 0)\n",
    "        else:\n",
    "            trades[trade].append(stock)\n",
    "    context.longs, context.shorts = len(trades[1]), len(trades[-1])\n",
    "    if context.longs > context.min_positions and context.shorts > context.min_positions:\n",
    "        for stock in trades[-1]:\n",
    "            order_target_percent(stock, -1 / context.shorts)\n",
    "        for stock in trades[1]:\n",
    "            order_target_percent(stock, 1 / context.longs)"
   ],
   "metadata": {
    "collapsed": false,
    "pycharm": {
     "name": "#%%\n"
    }
   }
  },
  {
   "cell_type": "code",
   "execution_count": 11,
   "outputs": [],
   "source": [
    "# Plot variables at the end of each day\n",
    "def record_vars(context, data):\n",
    "    record(leverage=context.account.leverage, longs=context.longs, shorts=context.shorts)"
   ],
   "metadata": {
    "collapsed": false,
    "pycharm": {
     "name": "#%%\n"
    }
   }
  },
  {
   "cell_type": "code",
   "execution_count": 12,
   "outputs": [
    {
     "data": {
      "text/plain": "(Timestamp('2014-12-09 00:00:00'),\n Timestamp('2017-11-30 00:00:00'),\n DatetimeIndex(['2014-12-09 00:00:00+00:00', '2014-12-10 00:00:00+00:00',\n                '2014-12-11 00:00:00+00:00', '2014-12-12 00:00:00+00:00',\n                '2014-12-15 00:00:00+00:00'],\n               dtype='datetime64[ns, UTC]', name='date', freq=None))"
     },
     "execution_count": 12,
     "metadata": {},
     "output_type": "execute_result"
    }
   ],
   "source": [
    "dates = predictions.index.get_level_values('date')\n",
    "start_date = dates.min().replace(tzinfo=None)\n",
    "end_date = (dates.max() + pd.DateOffset(1)).replace(tzinfo=None)\n",
    "start_date, end_date, dates[:5]"
   ],
   "metadata": {
    "collapsed": false,
    "pycharm": {
     "name": "#%%\n"
    }
   }
  },
  {
   "cell_type": "code",
   "execution_count": 13,
   "outputs": [
    {
     "name": "stdout",
     "output_type": "stream",
     "text": [
      "Duration: 11.39s\n"
     ]
    }
   ],
   "source": [
    "start = time()\n",
    "results = run_algorithm(start=start_date, end=end_date, initialize=initialize,\n",
    "                       before_trading_start=before_trading_start, capital_base=1e6,\n",
    "                       data_frequency='daily', bundle='quandl',\n",
    "                       custom_loader=signal_loader) # need to modify zipline\n",
    "\n",
    "print('Duration: {:.2f}s'.format(time() - start))"
   ],
   "metadata": {
    "collapsed": false,
    "pycharm": {
     "name": "#%%\n"
    }
   }
  },
  {
   "cell_type": "code",
   "execution_count": 14,
   "outputs": [
    {
     "ename": "AttributeError",
     "evalue": "'DataFrame' object has no attribute 'amount'",
     "output_type": "error",
     "traceback": [
      "\u001B[1;31m---------------------------------------------------------------------------\u001B[0m",
      "\u001B[1;31mAttributeError\u001B[0m                            Traceback (most recent call last)",
      "Input \u001B[1;32mIn [14]\u001B[0m, in \u001B[0;36m<cell line: 1>\u001B[1;34m()\u001B[0m\n\u001B[1;32m----> 1\u001B[0m returns, positions, transactions \u001B[38;5;241m=\u001B[39m \u001B[43mpf\u001B[49m\u001B[38;5;241;43m.\u001B[39;49m\u001B[43mutils\u001B[49m\u001B[38;5;241;43m.\u001B[39;49m\u001B[43mextract_rets_pos_txn_from_zipline\u001B[49m\u001B[43m(\u001B[49m\u001B[43mresults\u001B[49m\u001B[43m)\u001B[49m\n\u001B[0;32m      2\u001B[0m benchmark \u001B[38;5;241m=\u001B[39m web\u001B[38;5;241m.\u001B[39mDataReader(\u001B[38;5;124m'\u001B[39m\u001B[38;5;124mSP500\u001B[39m\u001B[38;5;124m'\u001B[39m, \u001B[38;5;124m'\u001B[39m\u001B[38;5;124mfred\u001B[39m\u001B[38;5;124m'\u001B[39m, \u001B[38;5;124m'\u001B[39m\u001B[38;5;124m2014\u001B[39m\u001B[38;5;124m'\u001B[39m, \u001B[38;5;124m'\u001B[39m\u001B[38;5;124m2018\u001B[39m\u001B[38;5;124m'\u001B[39m)\u001B[38;5;241m.\u001B[39msqueeze()\n\u001B[0;32m      3\u001B[0m benchmark \u001B[38;5;241m=\u001B[39m benchmark\u001B[38;5;241m.\u001B[39mpct_change()\u001B[38;5;241m.\u001B[39mtz_localize(\u001B[38;5;124m'\u001B[39m\u001B[38;5;124mUTC\u001B[39m\u001B[38;5;124m'\u001B[39m)\n",
      "File \u001B[1;32mD:\\99.Dev\\Python\\pythonProject\\lib\\site-packages\\pyfolio\\utils.py:162\u001B[0m, in \u001B[0;36mextract_rets_pos_txn_from_zipline\u001B[1;34m(backtest)\u001B[0m\n\u001B[0;32m    160\u001B[0m     \u001B[38;5;28;01mraise\u001B[39;00m \u001B[38;5;167;01mValueError\u001B[39;00m(\u001B[38;5;124m\"\u001B[39m\u001B[38;5;124mThe backtest does not have any positions.\u001B[39m\u001B[38;5;124m\"\u001B[39m)\n\u001B[0;32m    161\u001B[0m positions \u001B[38;5;241m=\u001B[39m pd\u001B[38;5;241m.\u001B[39mconcat(raw_positions)\n\u001B[1;32m--> 162\u001B[0m positions \u001B[38;5;241m=\u001B[39m \u001B[43mpos\u001B[49m\u001B[38;5;241;43m.\u001B[39;49m\u001B[43mextract_pos\u001B[49m\u001B[43m(\u001B[49m\u001B[43mpositions\u001B[49m\u001B[43m,\u001B[49m\u001B[43m \u001B[49m\u001B[43mbacktest\u001B[49m\u001B[38;5;241;43m.\u001B[39;49m\u001B[43mending_cash\u001B[49m\u001B[43m)\u001B[49m\n\u001B[0;32m    163\u001B[0m transactions \u001B[38;5;241m=\u001B[39m txn\u001B[38;5;241m.\u001B[39mmake_transaction_frame(backtest\u001B[38;5;241m.\u001B[39mtransactions)\n\u001B[0;32m    164\u001B[0m \u001B[38;5;28;01mif\u001B[39;00m transactions\u001B[38;5;241m.\u001B[39mindex\u001B[38;5;241m.\u001B[39mtzinfo \u001B[38;5;129;01mis\u001B[39;00m \u001B[38;5;28;01mNone\u001B[39;00m:\n",
      "File \u001B[1;32mD:\\99.Dev\\Python\\pythonProject\\lib\\site-packages\\pyfolio\\pos.py:138\u001B[0m, in \u001B[0;36mextract_pos\u001B[1;34m(positions, cash)\u001B[0m\n\u001B[0;32m    117\u001B[0m \u001B[38;5;124;03m\"\"\"\u001B[39;00m\n\u001B[0;32m    118\u001B[0m \u001B[38;5;124;03mExtract position values from backtest object as returned by\u001B[39;00m\n\u001B[0;32m    119\u001B[0m \u001B[38;5;124;03mget_backtest() on the Quantopian research platform.\u001B[39;00m\n\u001B[1;32m   (...)\u001B[0m\n\u001B[0;32m    134\u001B[0m \u001B[38;5;124;03m     - See full explanation in tears.create_full_tear_sheet.\u001B[39;00m\n\u001B[0;32m    135\u001B[0m \u001B[38;5;124;03m\"\"\"\u001B[39;00m\n\u001B[0;32m    137\u001B[0m positions \u001B[38;5;241m=\u001B[39m positions\u001B[38;5;241m.\u001B[39mcopy()\n\u001B[1;32m--> 138\u001B[0m positions[\u001B[38;5;124m'\u001B[39m\u001B[38;5;124mvalues\u001B[39m\u001B[38;5;124m'\u001B[39m] \u001B[38;5;241m=\u001B[39m \u001B[43mpositions\u001B[49m\u001B[38;5;241;43m.\u001B[39;49m\u001B[43mamount\u001B[49m \u001B[38;5;241m*\u001B[39m positions\u001B[38;5;241m.\u001B[39mlast_sale_price\n\u001B[0;32m    140\u001B[0m cash\u001B[38;5;241m.\u001B[39mname \u001B[38;5;241m=\u001B[39m \u001B[38;5;124m'\u001B[39m\u001B[38;5;124mcash\u001B[39m\u001B[38;5;124m'\u001B[39m\n\u001B[0;32m    142\u001B[0m values \u001B[38;5;241m=\u001B[39m positions\u001B[38;5;241m.\u001B[39mreset_index()\u001B[38;5;241m.\u001B[39mpivot_table(index\u001B[38;5;241m=\u001B[39m\u001B[38;5;124m'\u001B[39m\u001B[38;5;124mindex\u001B[39m\u001B[38;5;124m'\u001B[39m,\n\u001B[0;32m    143\u001B[0m                                              columns\u001B[38;5;241m=\u001B[39m\u001B[38;5;124m'\u001B[39m\u001B[38;5;124msid\u001B[39m\u001B[38;5;124m'\u001B[39m,\n\u001B[0;32m    144\u001B[0m                                              values\u001B[38;5;241m=\u001B[39m\u001B[38;5;124m'\u001B[39m\u001B[38;5;124mvalues\u001B[39m\u001B[38;5;124m'\u001B[39m)\n",
      "File \u001B[1;32mD:\\99.Dev\\Python\\pythonProject\\lib\\site-packages\\pandas\\core\\generic.py:5902\u001B[0m, in \u001B[0;36mNDFrame.__getattr__\u001B[1;34m(self, name)\u001B[0m\n\u001B[0;32m   5895\u001B[0m \u001B[38;5;28;01mif\u001B[39;00m (\n\u001B[0;32m   5896\u001B[0m     name \u001B[38;5;129;01mnot\u001B[39;00m \u001B[38;5;129;01min\u001B[39;00m \u001B[38;5;28mself\u001B[39m\u001B[38;5;241m.\u001B[39m_internal_names_set\n\u001B[0;32m   5897\u001B[0m     \u001B[38;5;129;01mand\u001B[39;00m name \u001B[38;5;129;01mnot\u001B[39;00m \u001B[38;5;129;01min\u001B[39;00m \u001B[38;5;28mself\u001B[39m\u001B[38;5;241m.\u001B[39m_metadata\n\u001B[0;32m   5898\u001B[0m     \u001B[38;5;129;01mand\u001B[39;00m name \u001B[38;5;129;01mnot\u001B[39;00m \u001B[38;5;129;01min\u001B[39;00m \u001B[38;5;28mself\u001B[39m\u001B[38;5;241m.\u001B[39m_accessors\n\u001B[0;32m   5899\u001B[0m     \u001B[38;5;129;01mand\u001B[39;00m \u001B[38;5;28mself\u001B[39m\u001B[38;5;241m.\u001B[39m_info_axis\u001B[38;5;241m.\u001B[39m_can_hold_identifiers_and_holds_name(name)\n\u001B[0;32m   5900\u001B[0m ):\n\u001B[0;32m   5901\u001B[0m     \u001B[38;5;28;01mreturn\u001B[39;00m \u001B[38;5;28mself\u001B[39m[name]\n\u001B[1;32m-> 5902\u001B[0m \u001B[38;5;28;01mreturn\u001B[39;00m \u001B[38;5;28;43mobject\u001B[39;49m\u001B[38;5;241;43m.\u001B[39;49m\u001B[38;5;21;43m__getattribute__\u001B[39;49m\u001B[43m(\u001B[49m\u001B[38;5;28;43mself\u001B[39;49m\u001B[43m,\u001B[49m\u001B[43m \u001B[49m\u001B[43mname\u001B[49m\u001B[43m)\u001B[49m\n",
      "\u001B[1;31mAttributeError\u001B[0m: 'DataFrame' object has no attribute 'amount'"
     ]
    }
   ],
   "source": [
    "returns, positions, transactions = pf.utils.extract_rets_pos_txn_from_zipline(results)\n",
    "benchmark = web.DataReader('SP500', 'fred', '2014', '2018').squeeze()\n",
    "benchmark = benchmark.pct_change().tz_localize('UTC')\n",
    "LIVE_DATE = '2017-01-01'"
   ],
   "metadata": {
    "collapsed": false,
    "pycharm": {
     "name": "#%%\n"
    }
   }
  },
  {
   "cell_type": "code",
   "execution_count": null,
   "outputs": [],
   "source": [
    "fig, axes = plt.subplots(ncols=2, figsize=(16, 5))\n",
    "plot_rolling_returns(returns, factor_returns=benchmark, live_start_date=LIVE_DATE, logy=False, cone_std=2,\n",
    "                     legend_loc='best', volatility_match=False, cone_function=forecast_cone_bootstrap, ax=axes[0])\n",
    "plot_rolling_sharpe(returns, ax=axes[1], rolling_window=63)\n",
    "axes[0].set_title('Cumulative Returns - In and Out-of-Sample')\n",
    "axes[1].set_title('Rolling Sharpe Ratio (3 Months)')"
   ],
   "metadata": {
    "collapsed": false,
    "pycharm": {
     "name": "#%%\n",
     "is_executing": true
    }
   }
  },
  {
   "cell_type": "code",
   "execution_count": null,
   "outputs": [],
   "source": [
    "returns, positions, transactions = pf.utils.extract_rets_pos_txn_from_zipline(results)\n",
    "benchmark = web.DataReader('SP500', 'fred', '2014', '2018').squeeze()\n",
    "benchmark = benchmark.pct_change().tz_localize('UTC')\n",
    "LIVE_DATE = '2017-01-01'"
   ],
   "metadata": {
    "collapsed": false,
    "pycharm": {
     "name": "#%%\n",
     "is_executing": true
    }
   }
  },
  {
   "cell_type": "code",
   "execution_count": null,
   "outputs": [],
   "source": [
    "pf.create_full_tear_sheet(returns, positions=positions, transactions=transactions, benchmark_rets=benchmark,\n",
    "                          live_start_date=LIVE_DATE,  round_trips=True)"
   ],
   "metadata": {
    "collapsed": false,
    "pycharm": {
     "name": "#%%\n"
    }
   }
  }
 ],
 "metadata": {
  "kernelspec": {
   "display_name": "Python 3",
   "language": "python",
   "name": "python3"
  },
  "language_info": {
   "codemirror_mode": {
    "name": "ipython",
    "version": 2
   },
   "file_extension": ".py",
   "mimetype": "text/x-python",
   "name": "python",
   "nbconvert_exporter": "python",
   "pygments_lexer": "ipython2",
   "version": "2.7.6"
  }
 },
 "nbformat": 4,
 "nbformat_minor": 0
}